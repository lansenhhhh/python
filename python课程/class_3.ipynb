{
 "cells": [
  {
   "cell_type": "code",
   "execution_count": 37,
   "metadata": {},
   "outputs": [
    {
     "name": "stdout",
     "output_type": "stream",
     "text": [
      "-------->数据类型\n",
      "as\n",
      "<class 'float'>\n",
      "<class 'int'>\n",
      "<class 'str'>\n",
      "<class 'list'>\n",
      "<class 'tuple'>\n",
      "<class 'dict'>\n",
      "<class 'complex'>\n",
      "a-s-d-z-x-c\n",
      "2.0\n",
      "1.0\n",
      "使用转义字符对逗号转义\n",
      "i'm lansen\n",
      "asdz\n"
     ]
    }
   ],
   "source": [
    "'''字符串访问'''\n",
    "print('-------->数据类型')\n",
    "str1='asdzxc'\n",
    "print(str1[0:2])#0,1\n",
    "print(type(1.2))\n",
    "print(type(2))\n",
    "print(type('asd'))\n",
    "print(type([1,2,3]))\n",
    "print(type((1,2,3)))\n",
    "print(type({'class':2,'name':'lansen'}))\n",
    "print(type(complex(1,1)))\n",
    "str2='-'\n",
    "print(str2.join(str1))\n",
    "a=complex(1,2)\n",
    "print(a.imag)\n",
    "print(a.real)\n",
    "print('使用转义字符对逗号转义')\n",
    "print('i\\'m lansen')\n",
    "print(str1[-2])#表示倒数第几个\n",
    "print(str1[:-2])#到不了倒数第二个"
   ]
  },
  {
   "cell_type": "code",
   "execution_count": 29,
   "metadata": {},
   "outputs": [
    {
     "name": "stdout",
     "output_type": "stream",
     "text": [
      "2\n",
      "{'p', 'a', 'python'}\n",
      "{'p'}\n",
      "{'python'}\n",
      "{'a', 'python'}\n"
     ]
    }
   ],
   "source": [
    "'''集合的运算'''\n",
    "a=set({'python','p'})\n",
    "b=set({'p','a'})\n",
    "print(len(a))\n",
    "print(a|b)\n",
    "print(a&b)\n",
    "print(a-b)\n",
    "print(a^b)#不同的元素\n"
   ]
  },
  {
   "cell_type": "code",
   "execution_count": 54,
   "metadata": {},
   "outputs": [
    {
     "name": "stdout",
     "output_type": "stream",
     "text": [
      "hello,python,my name is lansen\n",
      "hello,lansen,i'm 20 years old.\n",
      "b'\\x00\\x01\\x00\\x00' <----> (256,)\n",
      "b'333333\\xf3?' <-----> (1.2,)\n",
      "<class 'tuple'>\n",
      "b'hello world' <----> (b'hello world',)\n"
     ]
    }
   ],
   "source": [
    "'''字符流转化为字节流，格式化字符串'''\n",
    "#format\n",
    "print('hello,{0},my name is {1}'.format('python','lansen'))\n",
    "#%\n",
    "print('hello,%s,i\\'m %d years old.'%('lansen',20))\n",
    "#struct\n",
    "from struct import *\n",
    "#转换为二进制流\n",
    "integer1=256\n",
    "byte1=pack('i',integer1)#integer转化为bytes\n",
    "un_integer1=unpack('i',byte1)\n",
    "print(byte1,'<---->',un_integer1)\n",
    "double1=1.2\n",
    "byte2=pack('d',double1)#double转化为二进制流\n",
    "un_double1=unpack('d',byte2)\n",
    "print(byte2,'<----->',un_double1)\n",
    "print(type(un_double1))#输出元组\n",
    "str1='hello world'\n",
    "byte3=pack('11s',str1.encode('utf-8'))\n",
    "un_str1=unpack('11s',byte3)\n",
    "print(byte3,'<---->',un_str1)\n",
    "'''python2可以用encode,python3可以用bytes,两种都可以的是struct'''"
   ]
  },
  {
   "cell_type": "code",
   "execution_count": 50,
   "metadata": {},
   "outputs": [
    {
     "name": "stdout",
     "output_type": "stream",
     "text": [
      "1\n",
      "8\n",
      "8\n",
      "11\n",
      "8\n",
      "4\n",
      "2\n"
     ]
    }
   ],
   "source": [
    "'''计算指定的格式所占内存(字节数)'''\n",
    "offset=calcsize('s')\n",
    "print(offset)\n",
    "print(calcsize('ff'))\n",
    "print(calcsize('ii'))\n",
    "print(calcsize('11s'))\n",
    "print(calcsize('d'))\n",
    "print(calcsize('l'))#长型\n",
    "#大写都是无符号\n",
    "print(calcsize('h'))#短型"
   ]
  },
  {
   "cell_type": "code",
   "execution_count": 66,
   "metadata": {},
   "outputs": [
    {
     "name": "stdout",
     "output_type": "stream",
     "text": [
      "<class 'str'>\n",
      "b'asd'\n",
      "<class 'bytes'>\n",
      "asd\n",
      "<class 'str'>\n",
      "<class 'str'>\n",
      "b'asd'\n"
     ]
    }
   ],
   "source": [
    "print('----->py的编码问题')\n",
    "'''py3中的str与bytes区分开\n",
    "str是文本类型，要编码的\n",
    "bytes不用编码'''\n",
    "a=b'asd'\n",
    "#a.encode('utf-8'):'bytes' object has no attribute 'encode'\n",
    "aa='asd'\n",
    "print(type(aa))\n",
    "b=aa.encode()\n",
    "print(b)\n",
    "print(type(b))\n",
    "c=b.decode()\n",
    "print(c)\n",
    "print(type(c))\n",
    "'''py3 encode()将文本类型转为字节类型\n",
    "   decode() 反过来'''\n",
    "'''bytes可以通过b前缀定义，也可以用encode转化'''\n",
    "d=u'asd'#就是str类型,与不加u一样\n",
    "print(type(d))\n",
    "print(d.encode())\n",
    "'''python2默认的是ASCII，python3默认的是utf-8'''\n",
    "'''str字符串转换成unicode类型然后再连接，\n",
    "而这个时候使用的编码方式则是系统所默认的编码方式。\n",
    "python2默认的是ASCII，python3默认的是utf-8。'''\n"
   ]
  },
  {
   "cell_type": "code",
   "execution_count": 82,
   "metadata": {},
   "outputs": [
    {
     "name": "stdout",
     "output_type": "stream",
     "text": [
      "b'\\xe4\\xb8\\xad\\xe6\\x96\\x87'\n",
      "中文\n",
      "2\n",
      "6\n",
      "ª\n"
     ]
    }
   ],
   "source": [
    "'上述显示不出英文差异，换为中文就可bytes与str看出差异'\n",
    "a=u'中文'\n",
    "b=a.encode('utf-8')\n",
    "print(b)\n",
    "print(b.decode())\n",
    "print(len('中文'))#计算字符数\n",
    "print(len(b))#计算字节数\n",
    "print('\\xaa')"
   ]
  },
  {
   "cell_type": "code",
   "execution_count": 128,
   "metadata": {},
   "outputs": [
    {
     "name": "stdout",
     "output_type": "stream",
     "text": [
      "F:\\机器学习\\python程序\n",
      "This is 1 lines.\n",
      "This is 2 lines.\n",
      "This is 3 lines.\n",
      "This is 4 lines.\n",
      "This is 5 lines.\n",
      "This is 6 lines.\n",
      "This is 7 lines.\n",
      "This is 8 lines.\n",
      "This is 9 lines.\n",
      "This is 10 lines.\n",
      "\n",
      "['This is 1 lines.\\n', 'This is 2 lines.\\n', 'This is 3 lines.\\n', 'This is 4 lines.\\n', 'This is 5 lines.\\n', 'This is 6 lines.\\n', 'This is 7 lines.\\n', 'This is 8 lines.\\n', 'This is 9 lines.\\n', 'This is 10 lines.\\n']\n",
      "This is 1 lines.\n",
      "\n"
     ]
    }
   ],
   "source": [
    "'''写文件'''\n",
    "'''创建，删除，读写，截断'''\n",
    "from numpy import *\n",
    "import os\n",
    "print(os.getcwd())#获得当前路径\n",
    "with open('.\\python课程\\class_3.txt','w+') as f_obj:\n",
    "    for i in arange(0,10):\n",
    "        f_obj.write('This is %d lines.\\n'%(i+1))#加了一个换行符\n",
    "with open('.\\python课程\\class_3.txt','r') as f_obj:\n",
    "    print(f_obj.read())#读取每一字符\n",
    "with open('.\\python课程\\class_3.txt','r') as f_obj:\n",
    "    print(f_obj.readlines())#形成列表\n",
    "with open('.\\python课程\\class_3.txt','r') as f_obj:\n",
    "    print(f_obj.readline())#读取第一行"
   ]
  },
  {
   "cell_type": "code",
   "execution_count": 85,
   "metadata": {},
   "outputs": [
    {
     "name": "stdout",
     "output_type": "stream",
     "text": [
      "123\t234\t345\n",
      "123\u000b",
      "234\u000b",
      "345\n"
     ]
    }
   ],
   "source": [
    "print('123\\t234\\t345')\n",
    "print('123\\v234\\v345')#制表符"
   ]
  },
  {
   "cell_type": "code",
   "execution_count": 141,
   "metadata": {},
   "outputs": [
    {
     "name": "stdout",
     "output_type": "stream",
     "text": [
      "18\n",
      "10\n",
      "3\n"
     ]
    }
   ],
   "source": [
    "'''进制转化：\n",
    "2进制：满2进1   , 0b10\n",
    "\n",
    "8进制：满8进1   , 0o10\n",
    "\n",
    "10进制：满10进1  , 10\n",
    "\n",
    "16进制：满16进1  , 0x10\n",
    "\n",
    "时间满60进1\n",
    "\n",
    "bin()  转2进制方法\n",
    "\n",
    "int()   转10进制方法\n",
    "\n",
    "oct()  转8进制方法\n",
    "\n",
    "hex()  转16进制方法'''\n",
    "a=bin(12)\n",
    "print(0x12)\n",
    "print(0o12)\n",
    "print(0b11)"
   ]
  },
  {
   "cell_type": "code",
   "execution_count": 145,
   "metadata": {},
   "outputs": [
    {
     "name": "stdout",
     "output_type": "stream",
     "text": [
      "(2, 2)\n",
      "<class 'tuple'>\n"
     ]
    }
   ],
   "source": [
    "A=divmod(10,4)\n",
    "print(A)\n",
    "print(type(A))"
   ]
  },
  {
   "cell_type": "code",
   "execution_count": 146,
   "metadata": {},
   "outputs": [
    {
     "name": "stdout",
     "output_type": "stream",
     "text": [
      "Helloorld"
     ]
    }
   ],
   "source": [
    "string='HelloWorld'\n",
    "for i in string:\n",
    "    if i=='W':\n",
    "        continue\n",
    "    print(i,end='')"
   ]
  },
  {
   "cell_type": "code",
   "execution_count": 149,
   "metadata": {},
   "outputs": [
    {
     "name": "stdout",
     "output_type": "stream",
     "text": [
      "[1, 2, 3, 4]\n",
      "[1, 2]\n"
     ]
    }
   ],
   "source": [
    "a=[1,2,3,4,5,6]\n",
    "print(a[0:4:1])\n",
    "print(a[0:2:1])\n"
   ]
  },
  {
   "cell_type": "code",
   "execution_count": 152,
   "metadata": {},
   "outputs": [
    {
     "name": "stdout",
     "output_type": "stream",
     "text": [
      "red\n",
      "None\n"
     ]
    }
   ],
   "source": [
    "'''字典的get(key,defalut)方法'''\n",
    "\n",
    "dict1={'红色':'red','绿色':'green'}\n",
    "print(dict1.get('红色',None))\n",
    "print(dict1.get('黑色',None))"
   ]
  },
  {
   "cell_type": "code",
   "execution_count": 154,
   "metadata": {},
   "outputs": [
    {
     "name": "stdout",
     "output_type": "stream",
     "text": [
      "请输入一个数：asd\n",
      "error!\n"
     ]
    }
   ],
   "source": [
    "'''try,except'''\n",
    "try:\n",
    "    n=0\n",
    "    n=input('请输入一个数：')\n",
    "    def pow10(n):\n",
    "        return n**10\n",
    "    print(pow10(n))\n",
    "except:\n",
    "    print('error!')"
   ]
  },
  {
   "cell_type": "code",
   "execution_count": 155,
   "metadata": {},
   "outputs": [
    {
     "name": "stdout",
     "output_type": "stream",
     "text": [
      "2019=09-04@09>16>00\n"
     ]
    }
   ],
   "source": [
    "import time\n",
    "print(time.strftime(\"%Y=%m-%d@%H>%M>%S\", time.gmtime()))"
   ]
  },
  {
   "cell_type": "code",
   "execution_count": null,
   "metadata": {},
   "outputs": [],
   "source": []
  }
 ],
 "metadata": {
  "kernelspec": {
   "display_name": "Python 3",
   "language": "python",
   "name": "python3"
  },
  "language_info": {
   "codemirror_mode": {
    "name": "ipython",
    "version": 3
   },
   "file_extension": ".py",
   "mimetype": "text/x-python",
   "name": "python",
   "nbconvert_exporter": "python",
   "pygments_lexer": "ipython3",
   "version": "3.7.0"
  }
 },
 "nbformat": 4,
 "nbformat_minor": 2
}
