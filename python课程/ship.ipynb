{
 "cells": [
  {
   "cell_type": "code",
   "execution_count": 6,
   "metadata": {},
   "outputs": [
    {
     "name": "stdout",
     "output_type": "stream",
     "text": [
      "['', 'C:\\\\Users\\\\兰森\\\\python文件', 'C:\\\\ProgramData\\\\Anaconda3\\\\python37.zip', 'C:\\\\ProgramData\\\\Anaconda3\\\\DLLs', 'C:\\\\ProgramData\\\\Anaconda3\\\\lib', 'C:\\\\ProgramData\\\\Anaconda3', 'C:\\\\ProgramData\\\\Anaconda3\\\\lib\\\\site-packages', 'C:\\\\ProgramData\\\\Anaconda3\\\\lib\\\\site-packages\\\\win32', 'C:\\\\ProgramData\\\\Anaconda3\\\\lib\\\\site-packages\\\\win32\\\\lib', 'C:\\\\ProgramData\\\\Anaconda3\\\\lib\\\\site-packages\\\\Pythonwin', 'C:\\\\ProgramData\\\\Anaconda3\\\\lib\\\\site-packages\\\\IPython\\\\extensions', 'C:\\\\Users\\\\兰森\\\\.ipython', 'C:\\\\ProgramData\\\\Anaconda3\\\\Lib\\\\site-pakeages\\\\Alien_invasion', '', 'C:\\\\ProgramData\\\\Anaconda3\\\\Lib\\\\site-pakeages\\\\Alien_invasion', 'C:\\\\ProgramData\\\\Anaconda3\\\\Lib\\\\site-packages\\\\Alien_invasion', 'C:\\\\ProgramData\\\\Anaconda3\\\\Lib\\\\site-packages\\\\Alien_invasion', 'C:\\\\ProgramData\\\\Anaconda3\\\\Lib\\\\site-packages\\\\Alien_invasion', 'C:\\\\ProgramData\\\\Anaconda3\\\\Lib\\\\site-packages\\\\Alien_invasion']\n"
     ]
    }
   ],
   "source": [
    "import pygame\n",
    "import sys\n",
    "sys.path.append('C:\\ProgramData\\Anaconda3\\Lib\\site-packages\\Alien_invasion')\n",
    "print(sys.path)\n",
    "from settings import Settings\n",
    "class Ship():\n",
    "    def __init__(self,screen):\n",
    "        self.screen=screen\n",
    "        ##加载飞船图像并获取其外接矩形\n",
    "        self.image=pygame.image.load('C:\\ProgramData\\Anaconda3\\Lib\\site-packages\\Alien_invasion\\ship.bmp')\n",
    "        self.rect=self.image.get_rect()\n",
    "        self.screen_rect=screen.get_rect()\n",
    "        ##将每一艘飞船放在屏幕底部中央\n",
    "        self.rect.centerx=self.screen_rect.centerx\n",
    "        self.rect.bottom=self.screen_rect.bottom\n",
    "        ##在指定位置绘制飞船\n",
    "    def blitme(self):\n",
    "        self.screen.blit(self.image,self.rect)"
   ]
  },
  {
   "cell_type": "code",
   "execution_count": null,
   "metadata": {},
   "outputs": [],
   "source": []
  }
 ],
 "metadata": {
  "kernelspec": {
   "display_name": "Python 3",
   "language": "python",
   "name": "python3"
  },
  "language_info": {
   "codemirror_mode": {
    "name": "ipython",
    "version": 3
   },
   "file_extension": ".py",
   "mimetype": "text/x-python",
   "name": "python",
   "nbconvert_exporter": "python",
   "pygments_lexer": "ipython3",
   "version": "3.7.0"
  }
 },
 "nbformat": 4,
 "nbformat_minor": 2
}
