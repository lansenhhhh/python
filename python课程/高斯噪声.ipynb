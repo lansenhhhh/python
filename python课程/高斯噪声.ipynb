{
 "cells": [
  {
   "cell_type": "markdown",
   "metadata": {},
   "source": [
    "## 给图像加入高斯噪声"
   ]
  },
  {
   "cell_type": "code",
   "execution_count": 4,
   "metadata": {},
   "outputs": [
    {
     "name": "stdout",
     "output_type": "stream",
     "text": [
      "[array([ 0.54388405,  0.89468815,  1.02709714,  0.91574723,  0.57345812,\n",
      "        0.35250338,  0.21530907,  0.11558645, -0.76730199,  0.67396094,\n",
      "       -0.01115394,  1.13399372, -0.21276059, -0.99606826, -0.80926925,\n",
      "       -0.29063277, -0.06519116, -1.14167072, -1.14957119, -1.30178703,\n",
      "       -1.09148016, -1.52414526, -2.27872807, -0.37719821, -1.80521478,\n",
      "       -1.42222499, -1.03844214, -0.91727533, -1.36611574, -0.90476346,\n",
      "       -0.77714998, -0.83631242,  0.26015213, -0.58742219, -1.08271549,\n",
      "        0.01606011, -0.46312574,  0.17135729,  0.1243569 ,  0.60640499,\n",
      "        0.47688897,  1.51175154,  0.92154716,  1.06848747,  0.11449358,\n",
      "        1.30701999,  1.76584054,  0.59393901,  0.50161463,  1.17013158]), array([-0.31482899,  0.67424096, -0.71494903, -0.30467552,  0.64091374,\n",
      "        1.01645822,  1.13372545,  0.14083248,  1.06321432,  0.92550383,\n",
      "        0.90350169,  1.04373833,  1.79182037,  0.97596743,  1.13630442,\n",
      "        1.34184505,  0.44734008,  0.86709972,  0.44420123, -0.41610752,\n",
      "        0.37766619,  0.76227875,  0.7454835 ,  0.14488704, -0.17627392,\n",
      "       -0.78675216, -0.34885271, -0.42972881,  0.48911534, -0.1928634 ,\n",
      "       -0.31205156, -0.92408412, -0.41287436, -0.4092011 , -1.02594267,\n",
      "        0.17694782, -1.16855319, -1.49100185, -1.59566452, -1.71074906,\n",
      "       -1.30388572, -1.45864689, -1.39261935, -0.24520196, -1.01057595,\n",
      "       -0.20034168,  0.43707721,  0.08276163, -0.78062474, -0.26159936])]\n"
     ]
    },
    {
     "data": {
      "image/png": "[encoded data removed]",
      "text/plain": [
       "<Figure size 720x576 with 1 Axes>"
      ]
     },
     "metadata": {
      "needs_background": "light"
     },
     "output_type": "display_data"
    },
    {
     "name": "stdout",
     "output_type": "stream",
     "text": [
      "(2, 100)\n",
      "float64\n"
     ]
    }
   ],
   "source": [
    "import numpy as np\n",
    "import matplotlib.pyplot as plt\n",
    "import scipy.io as scio\n",
    "t=np.linspace(0,2*np.pi,50);\n",
    "x1=1*np.cos(t)\n",
    "y1=1*np.sin(t)\n",
    "for i in np.arange(50):\n",
    "    x1[i]=x1[i]+0.5*np.random.randn(1)\n",
    "    y1[i]=y1[i]+0.5*np.random.randn(1)\n",
    "fig,ax=plt.subplots(figsize=(10,8))\n",
    "ax.plot(x1,y1,linestyle='',marker='.')\n",
    "data1=[x1,y1]\n",
    "print(data1)\n",
    "np.shape(data1)\n",
    "t=np.linspace(0,2*np.pi,50);\n",
    "x2=3*np.cos(t)\n",
    "y2=3*np.sin(t)\n",
    "for i in np.arange(50):\n",
    "    x2[i]=x2[i]+0.3*np.random.randn(1)\n",
    "    y2[i]=y2[i]+0.3*np.random.randn(1)\n",
    "ax.plot(x2,y2,color='r',linestyle='',marker='.')\n",
    "plt.show()\n",
    "data2=[x2,y2]\n",
    "data=np.hstack((data1,data2))\n",
    "print(np.shape(data))\n",
    "print(data.dtype)\n",
    "type(data)\n",
    "scio.savemat('Classfiy_GaussData',{'x':data[0,:],'y':data[1,:]})#以字典方式创建,变量名：变量\n",
    "data[0,:]\n",
    "plt.show()"
   ]
  },
  {
   "cell_type": "code",
   "execution_count": null,
   "metadata": {},
   "outputs": [],
   "source": [
    "scio.savemat('data',{'x':data[1,:],'y':data[2,:]})#以字典方式创建,变量名：变量\n"
   ]
  },
  {
   "cell_type": "code",
   "execution_count": 27,
   "metadata": {},
   "outputs": [
    {
     "data": {
      "text/plain": [
       "7.38905609893065"
      ]
     },
     "execution_count": 27,
     "metadata": {},
     "output_type": "execute_result"
    }
   ],
   "source": [
    "np.exp(2)"
   ]
  },
  {
   "cell_type": "markdown",
   "metadata": {},
   "source": [
    "## help(np.random)\n"
   ]
  },
  {
   "cell_type": "code",
   "execution_count": 58,
   "metadata": {},
   "outputs": [
    {
     "name": "stdout",
     "output_type": "stream",
     "text": [
      "[[0.9548492 ]\n",
      " [0.00851706]\n",
      " [0.04995119]\n",
      " [0.28732981]\n",
      " [0.20368131]\n",
      " [0.13586703]\n",
      " [0.0200521 ]\n",
      " [0.72092011]\n",
      " [0.91877052]\n",
      " [0.13046472]]\n",
      "=========================\n",
      "[[ 5.30305311e-01  8.30065508e-01  3.43225684e-01  7.55943463e-01]\n",
      " [ 2.82507816e-04  3.34867309e-01 -1.23242750e+00  2.14082613e-01]\n",
      " [ 6.99714090e-02  1.36207707e-01 -2.53685576e+00  4.03674420e-01]]\n",
      "=========================\n",
      "[[0 1 4 1]\n",
      " [0 1 3 4]\n",
      " [5 0 1 3]]\n"
     ]
    }
   ],
   "source": [
    "print(np.random.rand(10,1))\n",
    "print('=========================')\n",
    "print(np.random.randn(3,4))\n",
    "print('=========================')\n",
    "print(np.random.randint(6,size=(3,4)))"
   ]
  },
  {
   "cell_type": "code",
   "execution_count": 59,
   "metadata": {},
   "outputs": [
    {
     "name": "stdout",
     "output_type": "stream",
     "text": [
      "Help on built-in function randn:\n",
      "\n",
      "randn(...) method of mtrand.RandomState instance\n",
      "    randn(d0, d1, ..., dn)\n",
      "    \n",
      "    Return a sample (or samples) from the \"standard normal\" distribution.\n",
      "    \n",
      "    If positive, int_like or int-convertible arguments are provided,\n",
      "    `randn` generates an array of shape ``(d0, d1, ..., dn)``, filled\n",
      "    with random floats sampled from a univariate \"normal\" (Gaussian)\n",
      "    distribution of mean 0 and variance 1 (if any of the :math:`d_i` are\n",
      "    floats, they are first converted to integers by truncation). A single\n",
      "    float randomly sampled from the distribution is returned if no\n",
      "    argument is provided.\n",
      "    \n",
      "    This is a convenience function.  If you want an interface that takes a\n",
      "    tuple as the first argument, use `numpy.random.standard_normal` instead.\n",
      "    \n",
      "    Parameters\n",
      "    ----------\n",
      "    d0, d1, ..., dn : int, optional\n",
      "        The dimensions of the returned array, should be all positive.\n",
      "        If no argument is given a single Python float is returned.\n",
      "    \n",
      "    Returns\n",
      "    -------\n",
      "    Z : ndarray or float\n",
      "        A ``(d0, d1, ..., dn)``-shaped array of floating-point samples from\n",
      "        the standard normal distribution, or a single such float if\n",
      "        no parameters were supplied.\n",
      "    \n",
      "    See Also\n",
      "    --------\n",
      "    standard_normal : Similar, but takes a tuple as its argument.\n",
      "    \n",
      "    Notes\n",
      "    -----\n",
      "    For random samples from :math:`N(\\mu, \\sigma^2)`, use:\n",
      "    \n",
      "    ``sigma * np.random.randn(...) + mu``\n",
      "    \n",
      "    Examples\n",
      "    --------\n",
      "    >>> np.random.randn()\n",
      "    2.1923875335537315 #random\n",
      "    \n",
      "    Two-by-four array of samples from N(3, 6.25):\n",
      "    \n",
      "    >>> 2.5 * np.random.randn(2, 4) + 3\n",
      "    array([[-4.49401501,  4.00950034, -1.81814867,  7.29718677],  #random\n",
      "           [ 0.39924804,  4.68456316,  4.99394529,  4.84057254]]) #random\n",
      "\n"
     ]
    }
   ],
   "source": [
    "help(np.random.randn)"
   ]
  },
  {
   "cell_type": "code",
   "execution_count": 71,
   "metadata": {},
   "outputs": [
    {
     "data": {
      "text/plain": [
       "array([-0.659211  ,  0.81970684,  0.39949419, -0.87792305,  1.97401052,\n",
       "        1.38697673,  0.63771074,  0.07735135,  0.42795894, -0.28210657])"
      ]
     },
     "execution_count": 71,
     "metadata": {},
     "output_type": "execute_result"
    }
   ],
   "source": [
    "np.random.randn(10)"
   ]
  },
  {
   "cell_type": "code",
   "execution_count": 178,
   "metadata": {},
   "outputs": [
    {
     "name": "stdout",
     "output_type": "stream",
     "text": [
      "[[1 2]\n",
      " [3 4]]\n"
     ]
    },
    {
     "data": {
      "text/plain": [
       "numpy.ndarray"
      ]
     },
     "execution_count": 178,
     "metadata": {},
     "output_type": "execute_result"
    }
   ],
   "source": [
    "import numpy as np\n",
    "a=np.array([[1,2],[3,4]])\n",
    "print(a)\n",
    "np.shape(a)\n",
    "type(a)"
   ]
  },
  {
   "cell_type": "code",
   "execution_count": null,
   "metadata": {},
   "outputs": [],
   "source": []
  }
 ],
 "metadata": {
  "kernelspec": {
   "display_name": "Python 3",
   "language": "python",
   "name": "python3"
  },
  "language_info": {
   "codemirror_mode": {
    "name": "ipython",
    "version": 3
   },
   "file_extension": ".py",
   "mimetype": "text/x-python",
   "name": "python",
   "nbconvert_exporter": "python",
   "pygments_lexer": "ipython3",
   "version": "3.7.0"
  }
 },
 "nbformat": 4,
 "nbformat_minor": 2
}
