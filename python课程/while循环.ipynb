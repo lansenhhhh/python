{
 "cells": [
  {
   "cell_type": "code",
   "execution_count": 1,
   "metadata": {},
   "outputs": [
    {
     "name": "stdout",
     "output_type": "stream",
     "text": [
      "1\n",
      "2\n",
      "3\n",
      "4\n"
     ]
    }
   ],
   "source": [
    "iter=1\n",
    "max_iter=5\n",
    "while iter<=max_iter:\n",
    "    print(iter)\n",
    "    iter+=1\n"
   ]
  },
  {
   "cell_type": "markdown",
   "metadata": {},
   "source": [
    "## while循环的退出"
   ]
  },
  {
   "cell_type": "code",
   "execution_count": 4,
   "metadata": {},
   "outputs": [
    {
     "name": "stdout",
     "output_type": "stream",
     "text": [
      "Enter \"quit\" leave the game\n",
      "\n",
      "Enter \"quit\" leave the game1\n",
      "1\n",
      "Enter \"quit\" leave the game3\n",
      "3\n",
      "Enter \"quit\" leave the game2\n",
      "2\n",
      "Enter \"quit\" leave the gamequit\n",
      "quit\n"
     ]
    }
   ],
   "source": [
    "promote='Enter \"quit\" leave the game'\n",
    "message=\"\"\n",
    "while message!='quit':\n",
    "    message=input(promote)\n",
    "    print(message)"
   ]
  },
  {
   "cell_type": "code",
   "execution_count": 6,
   "metadata": {},
   "outputs": [
    {
     "name": "stdout",
     "output_type": "stream",
     "text": [
      "please input the message:123\n"
     ]
    },
    {
     "data": {
      "text/plain": [
       "'123'"
      ]
     },
     "execution_count": 6,
     "metadata": {},
     "output_type": "execute_result"
    }
   ],
   "source": [
    "message='please input the message:'\n",
    "input(message)\n",
    "##用户输入用字符串表示message>=1#"
   ]
  },
  {
   "cell_type": "markdown",
   "metadata": {},
   "source": [
    "## 结束循环"
   ]
  },
  {
   "cell_type": "code",
   "execution_count": 9,
   "metadata": {},
   "outputs": [
    {
     "name": "stdout",
     "output_type": "stream",
     "text": [
      "please input the message:1\n",
      "1\n",
      "please input the message:quit\n"
     ]
    }
   ],
   "source": [
    "##使用标识\n",
    "active=True\n",
    "while active:\n",
    "    message=input('please input the message:')\n",
    "    if message=='quit':\n",
    "        active=False\n",
    "    else:\n",
    "        print(message)\n",
    "\n"
   ]
  },
  {
   "cell_type": "code",
   "execution_count": 11,
   "metadata": {},
   "outputs": [
    {
     "name": "stdout",
     "output_type": "stream",
     "text": [
      "please input the message:1\n",
      "1\n",
      "please input the message:quit\n"
     ]
    }
   ],
   "source": [
    "##使用break\n",
    "while True:\n",
    "    message=input('please input the message:')\n",
    "    if message=='quit':\n",
    "        break\n",
    "    else:\n",
    "        print(message)"
   ]
  },
  {
   "cell_type": "code",
   "execution_count": null,
   "metadata": {},
   "outputs": [],
   "source": []
  },
  {
   "cell_type": "code",
   "execution_count": null,
   "metadata": {},
   "outputs": [],
   "source": [
    "##使用continue\n",
    "current_number=0\n",
    "while current_number<10:\n",
    "    current_number+=1\n",
    "    if current_number%2==1:\n",
    "        continue\n",
    "    else:\n",
    "        print(current_number)"
   ]
  },
  {
   "cell_type": "code",
   "execution_count": null,
   "metadata": {},
   "outputs": [],
   "source": [
    "print('a')"
   ]
  },
  {
   "cell_type": "code",
   "execution_count": null,
   "metadata": {},
   "outputs": [],
   "source": []
  }
 ],
 "metadata": {
  "kernelspec": {
   "display_name": "Python 3",
   "language": "python",
   "name": "python3"
  },
  "language_info": {
   "codemirror_mode": {
    "name": "ipython",
    "version": 3
   },
   "file_extension": ".py",
   "mimetype": "text/x-python",
   "name": "python",
   "nbconvert_exporter": "python",
   "pygments_lexer": "ipython3",
   "version": "3.7.0"
  }
 },
 "nbformat": 4,
 "nbformat_minor": 2
}
