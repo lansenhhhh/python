{
 "cells": [
  {
   "cell_type": "code",
   "execution_count": 11,
   "metadata": {},
   "outputs": [
    {
     "name": "stdout",
     "output_type": "stream",
     "text": [
      "1,2,3,4\n",
      "2,3,4,5\n",
      "------->读取每一行\n",
      "1,2,3,4\n",
      "\n",
      "------->创建一个列表\n",
      "['1,2,3,4\\n', '2,3,4,5']\n"
     ]
    }
   ],
   "source": [
    "'''read,readlline,readlines'''\n",
    "with open('test.txt') as f_obj:\n",
    "    read_f=f_obj.read()\n",
    "with open('test.txt') as f_obj:\n",
    "    readline_f=f_obj.readline()\n",
    "with open('test.txt') as f_obj:\n",
    "     readlines_f=f_obj.readlines()\n",
    "print(read_f)\n",
    "print('------->读取每一行')\n",
    "print(readline_f)\n",
    "print('------->创建一个列表')\n",
    "print(readlines_f)"
   ]
  },
  {
   "cell_type": "code",
   "execution_count": 23,
   "metadata": {},
   "outputs": [
    {
     "name": "stdout",
     "output_type": "stream",
     "text": [
      "----->dumps()将python数据对象编码成json字符串\n",
      "{\"class\": 2, \"grade\": 100}\n",
      "----->load()将json数据解码成python对象\n",
      "{'class': 2, 'grade': 100}\n",
      "----->dump(data,f_obj)将数据加载至指定的文件中\n",
      "{'class': 2, 'grade': 100}\n"
     ]
    }
   ],
   "source": [
    "'''json和python数据类型的映射与转化'''\n",
    "import json\n",
    "print('----->dumps()将python数据对象编码成json字符串')\n",
    "data={'class':2,'grade':100}\n",
    "a=json.dumps(data)\n",
    "print(a)\n",
    "print('----->load()将json数据解码成python对象')\n",
    "print(json.loads(a))\n",
    "print('----->dump(data,f_obj)将数据加载至指定的文件中')\n",
    "with open('class_2.txt','w') as f_obj:\n",
    "    json.dump(data,f_obj)\n",
    "with open('class_2.txt','r') as f_obj:\n",
    "    print(json.load(f_obj))"
   ]
  },
  {
   "cell_type": "code",
   "execution_count": 42,
   "metadata": {},
   "outputs": [
    {
     "data": {
      "text/plain": [
       "array([ 0,  2,  4,  6,  8, 10, 12, 14, 16, 18, 20, 22, 24, 26, 28, 30, 32,\n",
       "       34, 36, 38, 40, 42, 44, 46, 48, 50, 52, 54, 56, 58, 60, 62, 64, 66,\n",
       "       68, 70, 72, 74, 76, 78, 80, 82, 84, 86, 88, 90, 92, 94, 96, 98])"
      ]
     },
     "execution_count": 42,
     "metadata": {},
     "output_type": "execute_result"
    }
   ],
   "source": [
    "'''字符串迭代器'''\n",
    "from numpy import *\n",
    "def strappend(num):\n",
    "    str1='first'\n",
    "    for i in str(num):\n",
    "        str1+=i\n",
    "    return str1\n",
    "strappend(2)\n",
    "arange(0,100,2)\n"
   ]
  },
  {
   "cell_type": "markdown",
   "metadata": {},
   "source": []
  },
  {
   "cell_type": "code",
   "execution_count": 62,
   "metadata": {},
   "outputs": [
    {
     "name": "stdout",
     "output_type": "stream",
     "text": [
      "a\n",
      "b\n",
      "c\n",
      "A\n",
      "S\n",
      "D\n",
      "A\n",
      ",\n",
      "\n",
      "\n",
      "A\n",
      "S\n",
      "D\n",
      "c\n",
      "v\n",
      "7\n"
     ]
    }
   ],
   "source": [
    "'''r加在文件路径上防止字符转义'''\n",
    "\n",
    "import os\n",
    "with open('daxie.txt') as f_obj:\n",
    "    count=0\n",
    "    for i in f_obj.read():#把所有的字符读出来\n",
    "        print(i)\n",
    "        #isupper接受字符串\n",
    "        if i.isupper():\n",
    "            count+=1\n",
    "print(count)\n"
   ]
  },
  {
   "cell_type": "code",
   "execution_count": null,
   "metadata": {},
   "outputs": [],
   "source": [
    "'''\n",
    "添加\n",
    "查找\n",
    "删除\n",
    "排序\n",
    "修改---数据库的基本操作\n",
    "'''\n"
   ]
  },
  {
   "cell_type": "code",
   "execution_count": 62,
   "metadata": {},
   "outputs": [
    {
     "name": "stdout",
     "output_type": "stream",
     "text": [
      "<re.Match object; span=(0, 1), match='a'>\n",
      "<re.Match object; span=(0, 3), match='asm'>\n",
      "<re.Match object; span=(0, 0), match=''>\n",
      "com\n",
      "13018239825\n",
      "130-1\n",
      "<re.Match object; span=(0, 1), match='a'>\n"
     ]
    }
   ],
   "source": [
    "'''re模块的操作'''\n",
    "import re\n",
    "string='asd'\n",
    "print(re.match('a',string))\n",
    "'''输出re.Match对象,跨度为1,匹配的字符为a '''\n",
    "'''正则表达式的含义:\n",
    "是一个特殊的字符串序列，帮助查看字符串是否与模式匹配'''\n",
    "'''re.match(pattern,string,flag)'''\n",
    "string2='asm'\n",
    "#match从起始位置匹配一个模式，匹配成功就输出对象，不成功就输出None,仅仅匹配起始位置\n",
    "print(re.match('...',string2))#一个点匹配一个字符\n",
    "print(re.match('^',string2))\n",
    "#search可以不在起始位置匹配\n",
    "print(re.search('cOm','www.baidu.com',re.M|re.I).group())\n",
    "phone='130-182-39825#电话号码'\n",
    "#移除字符串对象\n",
    "print(re.sub(r'\\D','',phone))\n",
    "#移除注释\n",
    "print(re.sub(r'8.*$','',phone))#表示移除某一字符串后面所有字符串\n"
   ]
  },
  {
   "cell_type": "code",
   "execution_count": 78,
   "metadata": {},
   "outputs": [
    {
     "name": "stdout",
     "output_type": "stream",
     "text": [
      "<re.Match object; span=(0, 11), match='Hello world'>\n",
      "('Hello', 'world')\n",
      "hello\n"
     ]
    }
   ],
   "source": [
    "'''group的对象是元组'''\n",
    "'''complie生成一个pattern'''\n",
    "from re import *\n",
    "'''从第一个字符串向后搜索，\n",
    "只要有一个不符合，就停止'''\n",
    "pattern1=compile(r'([a-z]+) ([a-z]+)',I)\n",
    "'''表示两个元组单元,且匹配任意长度任意小字母英文,\n",
    "忽略大小写,这个新模式可被match等调用'''\n",
    "print(pattern1.match('Hello world!'))\n",
    "print(pattern1.match('Hello world!').groups(0))\n",
    "print(pattern1.match('hello world!').group(1))\n"
   ]
  },
  {
   "cell_type": "code",
   "execution_count": 119,
   "metadata": {},
   "outputs": [
    {
     "name": "stdout",
     "output_type": "stream",
     "text": [
      "['701116', '1']\n",
      "None\n",
      "<re.Match object; span=(2, 8), match='701116'>\n",
      "<re.Match object; span=(0, 11), match='ls701116-15'>\n",
      "['123 ', ' ']\n",
      "['1', '2', '3', ' ', ' ']\n",
      "------>匹配数字字母下划线\n",
      "['awsl123___', 'aw', 'axwasd']\n",
      "------>匹配任意空白字符,包括\\t\\n\\r\\f\\v\n",
      "['\\n', ' ', ' ']\n"
     ]
    }
   ],
   "source": [
    "'''findall查找字符串对象中所有满足的字符，并生成字符串列表,\n",
    "和match,search匹配一次不同,findall匹配所有'''\n",
    "from re import *\n",
    "pattern1=compile(r'\\d+')#匹配所有数字\n",
    "string1='ls701116-15'\n",
    "print(pattern1.findall(string1,0,10))#匹配所有字符，不管模式是否结束,可以指定起始位置和终止位置\n",
    "print(pattern1.match(string1))#匹配开头\n",
    "print(pattern1.search(string1))#匹配，直到匹配到就停止\n",
    "pattern2=compile(r'^.+$')#匹配字符的开通到结尾\n",
    "print(pattern2.match(string1))\n",
    "pattern3=compile(r'[^a-z]+')#除了英文的任意字符,多个字符\n",
    "pattern4=compile(r'[^a-z]')#数字会分开,单个字符\n",
    "print(pattern3.findall('awsl123 aw axwasd'))\n",
    "print(pattern4.findall('awsl123 aw axwasd'))\n",
    "print('------>匹配数字字母下划线')\n",
    "pattern5=compile(r'\\w+')#改成大写是小写的否定\n",
    "print(pattern5.findall('awsl123___ !aw axwasd'))\n",
    "print(r'------>匹配任意空白字符,包括\\t\\n\\r\\f\\v')\n",
    "pattern6=compile(r'\\s')\n",
    "print(pattern6.findall('awsl123\\n aw axwasd'))\n",
    "pattern7=compile('')"
   ]
  },
  {
   "cell_type": "code",
   "execution_count": 139,
   "metadata": {},
   "outputs": [
    {
     "name": "stdout",
     "output_type": "stream",
     "text": [
      "------->使用字符串生成迭代器\n",
      "<re.Match object; span=(3, 6), match='123'>\n",
      "123\n",
      "<re.Match object; span=(7, 9), match='23'>\n",
      "23\n",
      "<re.Match object; span=(10, 12), match='43'>\n",
      "43\n",
      "------->按照匹配的字符进行分割\n",
      "['lasen', 'lishun', 'zhuzhengfu', '']\n",
      "['', 'l', 'a', 's', 'e', 'n', ',', 'l', 'i', 's', 'h', 'u', 'n', ',', 'z', 'h', 'u', 'z', 'h', 'e', 'n', 'g', 'f', 'u', '.', '']\n",
      "['lasen,lishun,zhuzhengfu.']\n"
     ]
    }
   ],
   "source": [
    "'''迭代器:for 循环in后面的对象'''\n",
    "'''如何生成一个迭代器?'''\n",
    "print('------->使用字符串生成迭代器')\n",
    "string1='asd123-23-43 '\n",
    "it=finditer(r'\\d+',string1)#生成一个迭代器对象\n",
    "for i in it:\n",
    "    print(i)\n",
    "    print(i.group())#group的作用就是展开match对象\n",
    "print('------->按照匹配的字符进行分割')\n",
    "string2=r'lasen,lishun,zhuzhengfu.'\n",
    "pattern=compile(r'\\W+')\n",
    "print(split(pattern,string2))\n",
    "print(split(r'x*',string2))\n",
    "print(split(r'x+',string2))"
   ]
  },
  {
   "cell_type": "code",
   "execution_count": 1,
   "metadata": {},
   "outputs": [
    {
     "data": {
      "text/plain": [
       "<matplotlib.image.AxesImage at 0x7155850>"
      ]
     },
     "execution_count": 1,
     "metadata": {},
     "output_type": "execute_result"
    }
   ],
   "source": [
    "'''编码'''\n",
    "'''ASCII：一个字符用一个字节绰绰有余，只表示键盘上的各种字符,第一个位置0'''\n",
    "'''unicode:一个字符用4个字节表示，用16进制表示就需要8个数'''\n",
    "'''utf-8:unicode的一种实现方式,一个字符用变长字节表示'''\n",
    "'''unicode转为unt-8:\n",
    "   将unicode写成16进制的8个数,看它处在那个区间,每个区间对于不同的填充方式,再转为2进制填充'''\n",
    "from matplotlib.pyplot import *\n",
    "from numpy import *\n",
    "I=imread('class_2.jpg')\n",
    "imshow(I)\n"
   ]
  },
  {
   "cell_type": "code",
   "execution_count": 23,
   "metadata": {},
   "outputs": [
    {
     "name": "stdout",
     "output_type": "stream",
     "text": [
      "<class 'str'>\n",
      "b'\\xe4\\xbd\\xa0\\xe5\\xa5\\xbd'\n",
      "你好\n"
     ]
    }
   ],
   "source": [
    "string1='你好'#utf-8编码\n",
    "print(type(string1))\n",
    "string2=string1.encode('utf-8')\n",
    "print(string2)\n",
    "print(string2.decode('utf-8'))"
   ]
  },
  {
   "cell_type": "code",
   "execution_count": 28,
   "metadata": {},
   "outputs": [],
   "source": [
    "# encoding: utf-8"
   ]
  },
  {
   "cell_type": "code",
   "execution_count": null,
   "metadata": {},
   "outputs": [],
   "source": []
  }
 ],
 "metadata": {
  "kernelspec": {
   "display_name": "Python 3",
   "language": "python",
   "name": "python3"
  },
  "language_info": {
   "codemirror_mode": {
    "name": "ipython",
    "version": 3
   },
   "file_extension": ".py",
   "mimetype": "text/x-python",
   "name": "python",
   "nbconvert_exporter": "python",
   "pygments_lexer": "ipython3",
   "version": "3.7.0"
  }
 },
 "nbformat": 4,
 "nbformat_minor": 2
}
