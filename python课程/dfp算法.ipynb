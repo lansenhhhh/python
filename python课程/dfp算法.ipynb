{
 "cells": [
  {
   "cell_type": "code",
   "execution_count": 2,
   "metadata": {},
   "outputs": [
    {
     "data": {
      "image/png": "[encoded data removed]",
      "text/plain": [
       "<Figure size 720x576 with 1 Axes>"
      ]
     },
     "metadata": {
      "needs_background": "light"
     },
     "output_type": "display_data"
    }
   ],
   "source": [
    "def fun(x):\n",
    "    result=100*(x[0,0]**2-x[1,0])**2+(x[0,0]-1)**2\n",
    "    return result\n",
    "def gfun(x):\n",
    "    result=zeros((2,1))\n",
    "    result[0,0]=400*(x[0,0]**2-x[1,0])*x[0,0]+2*(x[0,0]-1)\n",
    "    result[1,0]=-200*(x[0,0]**2-x[1,0])\n",
    "    return result\n",
    "##\n",
    "from numpy import *\n",
    "##x0为列\n",
    "def DFP(fun,gfun,x0):\n",
    "    result=[]\n",
    "    iter=0\n",
    "    max_iter=500\n",
    "    rho=0.55\n",
    "    sigma=0.4\n",
    "    num_dim=shape(x0)[0]\n",
    "    Gk=eye(num_dim)\n",
    "    while(iter<max_iter):\n",
    "        gk=mat(gfun(x0))\n",
    "        pk=-mat(Gk)*gk#使用矩阵乘法\n",
    "        m=0\n",
    "        mk=0\n",
    "        while(m<20):\n",
    "            newf=fun(x0+rho**m*pk)\n",
    "            oldf=fun(x0)\n",
    "            if(newf<oldf+sigma*rho**m*gk.T*pk):\n",
    "                mk=m\n",
    "                break\n",
    "            m=m+1\n",
    "            \n",
    "        #DFP校正\n",
    "        x=x0+rho**m*pk\n",
    "        sk=x-x0\n",
    "        yk=gfun(x)-gk #误差\n",
    "        if(sk.T*yk>0):\n",
    "            Gk=Gk+(sk*sk.T)/(sk.T*yk)-(Gk*yk*yk.T*Gk)/(yk.T*Gk*yk)\n",
    "        iter=iter+1\n",
    "        x0=x\n",
    "        result.append(fun(x0))\n",
    "    return result \n",
    "import matplotlib.pyplot as plt\n",
    "from numpy import *\n",
    "x0=mat([[-1.2],[1]])\n",
    "result1=DFP(fun,gfun,x0)\n",
    "n=len(result1)\n",
    "fig,ax=plt.subplots(figsize=(10,8))\n",
    "x=arange(0,n,1)\n",
    "y=result1\n",
    "ax.plot(x,y)\n",
    "plt.show()"
   ]
  },
  {
   "cell_type": "code",
   "execution_count": null,
   "metadata": {},
   "outputs": [],
   "source": []
  }
 ],
 "metadata": {
  "kernelspec": {
   "display_name": "Python 3",
   "language": "python",
   "name": "python3"
  },
  "language_info": {
   "codemirror_mode": {
    "name": "ipython",
    "version": 3
   },
   "file_extension": ".py",
   "mimetype": "text/x-python",
   "name": "python",
   "nbconvert_exporter": "python",
   "pygments_lexer": "ipython3",
   "version": "3.7.0"
  }
 },
 "nbformat": 4,
 "nbformat_minor": 2
}
