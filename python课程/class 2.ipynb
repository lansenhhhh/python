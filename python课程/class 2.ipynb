{
 "cells": [
  {
   "cell_type": "markdown",
   "metadata": {},
   "source": [
    "## 类2"
   ]
  },
  {
   "cell_type": "code",
   "execution_count": 16,
   "metadata": {},
   "outputs": [
    {
     "name": "stdout",
     "output_type": "stream",
     "text": [
      "xiaohuang\n",
      "16\n",
      "the\tXiaohuang\tis rolling\n",
      "the\tXiaohuang\tis sitting\n"
     ]
    }
   ],
   "source": [
    "class Dog():#创建类的时候类名大写\n",
    "    def __init__(self,name,age):\n",
    "        self.name=name\n",
    "        self.age=age\n",
    "    def sit(self):\n",
    "        print('the\\t'+self.name.title()+'\\tis sitting')\n",
    "    def roll_over(self):\n",
    "        print('the\\t'+self.name.title()+'\\tis rolling')\n",
    "##创建实例\n",
    "My_Dog=Dog('xiaohuang',16)#不用传递self\n",
    "##调用实例的属性，方法\n",
    "print(My_Dog.name)\n",
    "print(My_Dog.age)\n",
    "My_Dog.roll_over()\n",
    "My_Dog.sit()"
   ]
  },
  {
   "cell_type": "code",
   "execution_count": 37,
   "metadata": {},
   "outputs": [
    {
     "name": "stdout",
     "output_type": "stream",
     "text": [
      "xiaobai\n",
      "a4\n",
      "2019\n",
      "the xiaobai run 15 miles.\n",
      "xiaohei\n",
      "a4\n",
      "2019\n",
      "==================\n",
      "xiaobai\n",
      "a3\n",
      "2018\n",
      "you can't input a value which lower than current data!\n",
      "the xiaobai run 15 miles.\n"
     ]
    }
   ],
   "source": [
    "##在类里给属性赋值默认值\n",
    "class Car():\n",
    "    def __init__(self,name,model,year):\n",
    "        self.name=name\n",
    "        self.model=model\n",
    "        self.year=year\n",
    "        self.odometer_reading=15\n",
    "    def get_info(self):\n",
    "        print(self.name+'\\n'+self.model+'\\n'+str(self.year))\n",
    "    def get_odometer(self):\n",
    "        print('the '+self.name+' run '+str(self.odometer_reading)+' miles.')\n",
    "mycar=Car('xiaobai','a4',2019)\n",
    "mycar.get_info()\n",
    "mycar.get_odometer()\n",
    "##改变属性的值\n",
    "#直接修改\n",
    "mycar.name='xiaohei'\n",
    "mycar.get_info()\n",
    "#通过方法修改\n",
    "class Car():\n",
    "    def __init__(self,name,model,year):\n",
    "        self.name=name\n",
    "        self.model=model\n",
    "        self.year=year\n",
    "        self.odometer_reading=15\n",
    "    def get_info(self):\n",
    "        print(self.name+'\\n'+self.model+'\\n'+str(self.year))\n",
    "    def get_odometer(self):\n",
    "        print('the '+self.name+' run '+str(self.odometer_reading)+' miles.')\n",
    "    def update_odometer(self,update_data):#禁止将里程碑的数据往回调\n",
    "        if update_data>self.odometer_reading:\n",
    "            self.odometer_reading=update_data\n",
    "    \n",
    "        else:\n",
    "            print(\"you can't input a value which lower than current data!\")\n",
    "print('==================')\n",
    "mycar2=Car('xiaobai','a3',2018)\n",
    "mycar2.get_info()\n",
    "mycar2.update_odometer(14)##内部更新\n",
    "mycar2.get_odometer()"
   ]
  },
  {
   "cell_type": "markdown",
   "metadata": {},
   "source": [
    "## 继承"
   ]
  },
  {
   "cell_type": "code",
   "execution_count": 43,
   "metadata": {},
   "outputs": [
    {
     "name": "stdout",
     "output_type": "stream",
     "text": [
      "xiaobai\n",
      "a2\n",
      "2017\n",
      "the xiaobai run 16 miles.\n",
      "the car is Electric_car!\n"
     ]
    }
   ],
   "source": [
    "class Electric_car(Car):\n",
    " \n",
    "    def descritive(self):\n",
    "        print('the car is Electric_car!')\n",
    "mycar3=Electric_car('xiaobai','a2',2017)\n",
    "mycar3.get_info()\n",
    "mycar3.update_odometer(16)\n",
    "mycar3.get_odometer()\n",
    "mycar3.descritive()"
   ]
  },
  {
   "cell_type": "markdown",
   "metadata": {},
   "source": [
    "## 在一个module里面创建多个类"
   ]
  },
  {
   "cell_type": "code",
   "execution_count": 1,
   "metadata": {},
   "outputs": [],
   "source": [
    "class Car():\n",
    "    def __init__(self,name,model,year):\n",
    "        self.name=name\n",
    "        self.model=model\n",
    "        self.year=year\n",
    "        self.odometer_reading=0\n",
    "    def get_describtive_name(self):\n",
    "        print(self.name+' '+self.model+' '+str(self.year))\n",
    "    def update_odometer(self,update_data):\n",
    "        if self.odometer_reading<update_data:\n",
    "            self.odometer_reading=update_date\n",
    "        else:\n",
    "            print('error!')\n",
    "class Battery():\n",
    "    def __init__(self,battery_size=60):\n",
    "        self.battery_size=battery_size\n",
    "    def describtive_name(self):\n",
    "        print('The car has a '+str(self.battery_size)+' battery.')\n",
    "class Electric_Car(Car):\n",
    "    def __init__(self,name,model,year):\n",
    "        super().__init__(name,model,year)\n",
    "        self.battery=Battery()#属性当类\n",
    "\n",
    "        "
   ]
  },
  {
   "cell_type": "code",
   "execution_count": null,
   "metadata": {},
   "outputs": [],
   "source": []
  },
  {
   "cell_type": "code",
   "execution_count": null,
   "metadata": {},
   "outputs": [],
   "source": []
  }
 ],
 "metadata": {
  "kernelspec": {
   "display_name": "Python 3",
   "language": "python",
   "name": "python3"
  },
  "language_info": {
   "codemirror_mode": {
    "name": "ipython",
    "version": 3
   },
   "file_extension": ".py",
   "mimetype": "text/x-python",
   "name": "python",
   "nbconvert_exporter": "python",
   "pygments_lexer": "ipython3",
   "version": "3.7.0"
  }
 },
 "nbformat": 4,
 "nbformat_minor": 2
}
