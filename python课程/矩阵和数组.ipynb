{
 "cells": [
  {
   "cell_type": "code",
   "execution_count": 44,
   "metadata": {},
   "outputs": [
    {
     "name": "stdout",
     "output_type": "stream",
     "text": [
      "3\n",
      "[[1 2 3]\n",
      " [2 3 4]]\n",
      "3\n",
      "[[1 4 9]\n",
      " [2 3 4]]\n",
      "[10 16]\n",
      "[[3 4]\n",
      " [3 4]]\n",
      "[[3 4]\n",
      " [3 4]]\n",
      "[[1 1]\n",
      " [2 2]]\n"
     ]
    }
   ],
   "source": [
    "from numpy import *\n",
    "a=zeros([1,2])\n",
    "b_1=mat([[1,2],[1,2]])\n",
    "print(shape(b)[1])\n",
    "c_1=array([[1,2,3],[2,3,4]])\n",
    "##[[1,2,3],[2,3,4]]本质还是列表，加上array或mat方法形成数组和矩阵\n",
    "print(c)\n",
    "print(shape(c)[1])\n",
    "##矩阵和数组运算区别\n",
    "c_2=array([[1,2,3],[1,1,1]])\n",
    "c_3=array([3,2,1])\n",
    "print(c_1*c_2)#数组的点乘\n",
    "print(dot(c_1,c_3))#数组的矩阵乘法\n",
    "b_2=mat([[1,2],[1,1]])\n",
    "print(dot(b_1,b_2))\n",
    "print(b_1*b_2)\n",
    "##转置\n",
    "b_1t=b_1.T\n",
    "print(b_1t)"
   ]
  },
  {
   "cell_type": "code",
   "execution_count": null,
   "metadata": {},
   "outputs": [],
   "source": [
    "\n"
   ]
  }
 ],
 "metadata": {
  "kernelspec": {
   "display_name": "Python 3",
   "language": "python",
   "name": "python3"
  },
  "language_info": {
   "codemirror_mode": {
    "name": "ipython",
    "version": 3
   },
   "file_extension": ".py",
   "mimetype": "text/x-python",
   "name": "python",
   "nbconvert_exporter": "python",
   "pygments_lexer": "ipython3",
   "version": "3.7.0"
  }
 },
 "nbformat": 4,
 "nbformat_minor": 2
}
