{
 "cells": [
  {
   "cell_type": "code",
   "execution_count": 1,
   "metadata": {},
   "outputs": [
    {
     "name": "stdout",
     "output_type": "stream",
     "text": [
      "2\n",
      "4\n",
      "6\n",
      "8\n",
      "10\n"
     ]
    }
   ],
   "source": [
    "##使用continue\n",
    "current_number=0\n",
    "while current_number<10:\n",
    "    current_number+=1\n",
    "    if current_number%2==1:\n",
    "        continue\n",
    "    else:\n",
    "        print(current_number)"
   ]
  },
  {
   "cell_type": "code",
   "execution_count": 12,
   "metadata": {},
   "outputs": [
    {
     "name": "stdout",
     "output_type": "stream",
     "text": [
      "[1, 2]\n",
      "[1]\n"
     ]
    }
   ],
   "source": [
    "##list 中pop()方法默认删除最后一个元素,添加索引可删除任意元素\n",
    "a=[1,2,'12']\n",
    "a.pop()\n",
    "print(a)\n",
    "a.pop(1)\n",
    "print(a)"
   ]
  },
  {
   "cell_type": "code",
   "execution_count": 18,
   "metadata": {},
   "outputs": [
    {
     "name": "stdout",
     "output_type": "stream",
     "text": [
      "lisa\n",
      "bob\n",
      "lansen\n",
      "[]\n",
      "['lisa', 'bob', 'lansen']\n",
      "lisa\n",
      "bob\n",
      "lansen\n"
     ]
    }
   ],
   "source": [
    "##列表中元素的转移\n",
    "unconfirmed_users=['lansen','bob','lisa']\n",
    "confirmed_users=[]\n",
    "while unconfirmed_users:\n",
    "    current_user=unconfirmed_users.pop()#列表进行了删除操作，防止删除相同的元素\n",
    "    print(current_user)\n",
    "    confirmed_users.append(current_user)\n",
    "\n",
    "print(unconfirmed_users)\n",
    "print(confirmed_users)\n",
    "for confirmed_user in confirmed_users:\n",
    "    print(confirmed_user)"
   ]
  },
  {
   "cell_type": "code",
   "execution_count": 23,
   "metadata": {},
   "outputs": [
    {
     "name": "stdout",
     "output_type": "stream",
     "text": [
      "['dog', 'goldfish', 'pig', 'rabbit', 'cat']\n",
      "['dog', 'goldfish', 'pig', 'rabbit']\n"
     ]
    }
   ],
   "source": [
    "##删除列表特定元素\n",
    "animals=['dog','cat','goldfish','pig','rabbit','cat']\n",
    "animals.remove('cat')#删除一个地址\n",
    "print(animals)\n",
    "##删除全部相同的元素\n",
    "animals=['dog','cat','goldfish','pig','rabbit','cat']\n",
    "while 'cat'in animals:\n",
    "    animals.remove('cat')\n",
    "print(animals)"
   ]
  },
  {
   "cell_type": "code",
   "execution_count": 26,
   "metadata": {},
   "outputs": [
    {
     "ename": "SyntaxError",
     "evalue": "invalid character in identifier (<ipython-input-26-c12c7f9c7f75>, line 2)",
     "output_type": "error",
     "traceback": [
      "\u001b[1;36m  File \u001b[1;32m\"<ipython-input-26-c12c7f9c7f75>\"\u001b[1;36m, line \u001b[1;32m2\u001b[0m\n\u001b[1;33m    def bulid_person(frist_name,last_name，age=''):\u001b[0m\n\u001b[1;37m                                            ^\u001b[0m\n\u001b[1;31mSyntaxError\u001b[0m\u001b[1;31m:\u001b[0m invalid character in identifier\n"
     ]
    }
   ],
   "source": [
    "##返回字典,修改默认参数\n",
    "def bulid_person(frist_name,last_name，age=''):\n",
    "    person={'frist_name':frist_name,'last_name':last_name}\n",
    "    if age:\n",
    "        person['age']=age#字典中添加\n",
    "    return person\n",
    "print(bulid_person('lan','sen',age=27))\n"
   ]
  },
  {
   "cell_type": "markdown",
   "metadata": {},
   "source": [
    "## 定义函数访问列表"
   ]
  },
  {
   "cell_type": "code",
   "execution_count": 30,
   "metadata": {},
   "outputs": [
    {
     "name": "stdout",
     "output_type": "stream",
     "text": [
      "plaese input the name:\tLansen\n",
      "plaese input the name:\tLishun\n",
      "plaese input the name:\tZhuzhengfu\n"
     ]
    }
   ],
   "source": [
    "def get_names(names):\n",
    "    for name in names:\n",
    "        message='plaese input the name:\\t'+str(name.title())\n",
    "        print(message)\n",
    "Names=['lansen','lishun','zhuzhengfu']\n",
    "get_names(Names)"
   ]
  },
  {
   "cell_type": "code",
   "execution_count": 36,
   "metadata": {},
   "outputs": [
    {
     "name": "stdout",
     "output_type": "stream",
     "text": [
      "['lansen', 'lishun', 'zhuzhengfu']\n",
      "['lansen', 'lishun']\n"
     ]
    }
   ],
   "source": [
    "##禁止函数修改列表\n",
    "list_name=['lansen','lishun','zhuzhengfu']\n",
    "def function_name(names):\n",
    "    names.pop()\n",
    "function_name(list_name[:])\n",
    "print(list_name[:])#副本\n",
    "function_name(list_name)\n",
    "print(list_name)  "
   ]
  },
  {
   "cell_type": "code",
   "execution_count": 56,
   "metadata": {},
   "outputs": [
    {
     "name": "stdout",
     "output_type": "stream",
     "text": [
      "('lansen', 'lishun', 'zhuzhengfu', 'zhangjiaqi')\n",
      "the name of the groups:\n",
      "-lansen\n",
      "-lishun\n",
      "-zhuzhengfu\n",
      "-zhangjiaqi\n",
      "============\n",
      "{'frist_name': 'lan', 'last_name': 'sen', 'location': 'suining', 'grade': 98, 'sex': 'man'}\n"
     ]
    }
   ],
   "source": [
    "##传递任意实参\n",
    "def make_pizza(*names):\n",
    "    print(names)\n",
    "    print('the name of the groups:')\n",
    "    for name in names:\n",
    "        print('-'+name)\n",
    "make_pizza('lansen','lishun','zhuzhengfu','zhangjiaqi')\n",
    "##传递任意关键字实参\n",
    "print('============')\n",
    "def users_info(first_name,last_name,**user_info):\n",
    "    profile={}\n",
    "    profile['frist_name']=first_name\n",
    "    profile['last_name']=last_name\n",
    "    for key,value in user_info.items():#遍历关键字实参\n",
    "        profile[key]=value#给字典加入元素\n",
    "    return profile\n",
    "my_profile=users_info('lan','sen',location='suining',grade=98,sex='man')#关键字传参，关键字不能是字符串\n",
    "print(my_profile)"
   ]
  },
  {
   "cell_type": "code",
   "execution_count": null,
   "metadata": {},
   "outputs": [],
   "source": []
  }
 ],
 "metadata": {
  "kernelspec": {
   "display_name": "Python 3",
   "language": "python",
   "name": "python3"
  },
  "language_info": {
   "codemirror_mode": {
    "name": "ipython",
    "version": 3
   },
   "file_extension": ".py",
   "mimetype": "text/x-python",
   "name": "python",
   "nbconvert_exporter": "python",
   "pygments_lexer": "ipython3",
   "version": "3.7.0"
  }
 },
 "nbformat": 4,
 "nbformat_minor": 2
}
