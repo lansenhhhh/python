{
 "cells": [
  {
   "cell_type": "code",
   "execution_count": 2,
   "metadata": {},
   "outputs": [],
   "source": [
    "from numpy import *\n",
    "def fun(x):\n",
    "    result=100*(x[0,0]**2-x[1,0])**2+(x[0,0]-1)**2\n",
    "    return result\n",
    "def gfun(x):\n",
    "    result=zeros((2,1))\n",
    "    result[0,0]=400*(x[0,0]**2-x[1,0])*x[0,0]+2*(x[0,0]-1)\n",
    "    result[1,0]=-200*(x[0,0]**2-x[1,0])\n",
    "    return result"
   ]
  },
  {
   "cell_type": "code",
   "execution_count": null,
   "metadata": {},
   "outputs": [],
   "source": []
  }
 ],
 "metadata": {
  "kernelspec": {
   "display_name": "Python 3",
   "language": "python",
   "name": "python3"
  },
  "language_info": {
   "codemirror_mode": {
    "name": "ipython",
    "version": 3
   },
   "file_extension": ".py",
   "mimetype": "text/x-python",
   "name": "python",
   "nbconvert_exporter": "python",
   "pygments_lexer": "ipython3",
   "version": "3.7.0"
  }
 },
 "nbformat": 4,
 "nbformat_minor": 2
}
