{
 "cells": [
  {
   "cell_type": "markdown",
   "metadata": {},
   "source": [
    "## python 类的用法"
   ]
  },
  {
   "cell_type": "code",
   "execution_count": 2,
   "metadata": {},
   "outputs": [
    {
     "name": "stdout",
     "output_type": "stream",
     "text": [
      "the name is Bob,the score is 100\n",
      "the name is lansen,the score is 99\n"
     ]
    }
   ],
   "source": [
    "std1={'name':'Bob','score':100}\n",
    "std2={'name':'lansen','score':99}\n",
    "def print_score(std):\n",
    "    print('the name is %s,the score is %s'%(std['name'],std['score']))\n",
    "print_score(std1)\n",
    "print_score(std2)"
   ]
  },
  {
   "cell_type": "code",
   "execution_count": 8,
   "metadata": {},
   "outputs": [
    {
     "name": "stdout",
     "output_type": "stream",
     "text": [
      "<__main__.Student object at 0x06310B50>\n"
     ]
    },
    {
     "data": {
      "text/plain": [
       "'lansen'"
      ]
     },
     "execution_count": 8,
     "metadata": {},
     "output_type": "execute_result"
    }
   ],
   "source": [
    "#定义类,\n",
    "class Student(object):\n",
    "    pass#结束\n",
    "#创建一个类\n",
    "std1=Student()#std1指向Student类一个实例（instance）/对象\n",
    "print(std1)\n",
    "std1.name='lansen'#类给实例绑定属性\n",
    "std1.name"
   ]
  },
  {
   "cell_type": "code",
   "execution_count": 18,
   "metadata": {},
   "outputs": [
    {
     "name": "stdout",
     "output_type": "stream",
     "text": [
      "lansen\n",
      "99\n"
     ]
    }
   ],
   "source": [
    "#在创建类的同时就把属性写进去，这样对每一个实例都有这些属性了,self就是实例\n",
    "class Student(object):#object表示继承于哪一个类\n",
    "    def __init__(self,name,score):#初始函数包含实例,各个属性\n",
    "        self.name=name#绑定属性\n",
    "        self.score=score\n",
    "std1=Student('lansen','99')#传实例的时候self不需要传\n",
    "print(std1.name)\n",
    "print(std1.score)"
   ]
  },
  {
   "cell_type": "code",
   "execution_count": 41,
   "metadata": {},
   "outputs": [
    {
     "name": "stdout",
     "output_type": "stream",
     "text": [
      "the name is lansen,the score is 99\n",
      "A\n",
      "lihang\n"
     ]
    }
   ],
   "source": [
    "#在创建类的同时就把属性写进去，这样对每一个实例都有这些属性了,self就是实例\n",
    "#Class内部有属性，对象，函数\n",
    "class Student(object):#object表示继承于哪一个类\n",
    "    def __init__(self,name,score):#初始函数包含实例,各个属性\n",
    "        self.name=name#绑定属性\n",
    "        self.score=score\n",
    "    def print_self(self):#输入应该有self\n",
    "        print('the name is %s,the score is %d'%(self.name,self.score))#在类 的内部定义一个访问数据的函数，不用在外面针对每一个对象单独打印\n",
    "    def get_grade(self):#可以调用类里面的属性，函数，对象（实例的抽象）\n",
    "        if self.score>90:\n",
    "            return 'A'\n",
    "        elif self.score>60:#逐级判断\n",
    "            return 'B'\n",
    "        else:\n",
    "            return 'C'\n",
    "std1=Student('lansen',99)#传实例的时候self不需要传\n",
    "std1.print_self()#类里面的属性都可以调用\n",
    "print(std1.get_grade())\n",
    "#内部的属性可以在外部修改\n",
    "std1.name='lihang'\n",
    "print(std1.name)#不能写作std1.name('lihang')，因为name属性定义的时候不是函数，是变量"
   ]
  },
  {
   "cell_type": "markdown",
   "metadata": {},
   "source": [
    "## 访问限制，给实例的变量加__表示私有变量"
   ]
  },
  {
   "cell_type": "code",
   "execution_count": 71,
   "metadata": {},
   "outputs": [
    {
     "name": "stdout",
     "output_type": "stream",
     "text": [
      "the name is lansen,the score is 100\n",
      "A\n"
     ]
    },
    {
     "data": {
      "text/plain": [
       "100"
      ]
     },
     "execution_count": 71,
     "metadata": {},
     "output_type": "execute_result"
    }
   ],
   "source": [
    "class Student(object):#object表示继承于哪一个类\n",
    "    def __init__(self,name,score):#初始函数包含实例,各个属性\n",
    "        self.__name=name#绑定属性\n",
    "        self.__score=score\n",
    "    def print_self(self):#输入应该有self\n",
    "        print('the name is %s,the score is %d'%(self.__name,self.__score))#在类 的内部定义一个访问数据的函数，不用在外面针对每一个对象单独打印\n",
    "    def get_grade(self):#可以调用类里面的属性，函数，对象（实例的抽象）\n",
    "        if self.__score>90:\n",
    "            return 'A'\n",
    "        elif self.score>60:#逐级判断\n",
    "            return 'B'\n",
    "        else:\n",
    "            return 'C'\n",
    "std1=Student('lansen',100)#传实例的时候self不需要传\n",
    "std1.print_self()#类里面的属性都可以调用\n",
    "print(std1.get_grade())\n",
    "#内部的属性可以在外部修改\n",
    "#std1.__name\n",
    "#print(std1.__name)#报错！无法从外部访问实例内部的变量\n",
    "#sd1.__name=100#错误，这是定义的新的变量，表面成功\n",
    "#可以通过_Student__name来访问\n",
    "std1._Student__score"
   ]
  },
  {
   "cell_type": "markdown",
   "metadata": {},
   "source": [
    "## 允许外部代码修改类的属性，变量，但采用的是在内部定义函数的方式，避免引入无效的参数"
   ]
  },
  {
   "cell_type": "code",
   "execution_count": 67,
   "metadata": {},
   "outputs": [
    {
     "name": "stdout",
     "output_type": "stream",
     "text": [
      "the name is lansen,the score is 99\n",
      "A\n"
     ]
    },
    {
     "data": {
      "text/plain": [
       "'error'"
      ]
     },
     "execution_count": 67,
     "metadata": {},
     "output_type": "execute_result"
    }
   ],
   "source": [
    "class Student(object):#object表示继承于哪一个类\n",
    "    def __init__(self,name,score):#初始函数包含实例,各个属性\n",
    "        self.__name=name#绑定属性\n",
    "        self.__score=score\n",
    "    def print_self(self):#输入应该有self\n",
    "        print('the name is %s,the score is %d'%(self.__name,self.__score))#在类 的内部定义一个访问数据的函数，不用在外面针对每一个对象单独打印\n",
    "    def get_grade(self):#可以调用类里面的属性，函数，对象（实例的抽象）\n",
    "        if self.__score>90:\n",
    "            return 'A'\n",
    "        elif self.__score>60:#逐级判断\n",
    "            return 'B'\n",
    "        else:\n",
    "            return 'C'\n",
    "    def set_score(self,score):\n",
    "        if 0<=score<=100:\n",
    "            self.__score=score\n",
    "        else:\n",
    "            return 'error'\n",
    "        #在内部进行变量的修改,因为外部无法改变参数值\n",
    "std1=Student('lansen',99)#传实例的时候self不需要传\n",
    "std1.print_self()#类里面的属性都可以调用\n",
    "print(std1.get_grade())\n",
    "#内部的属性可以在外部修改\n",
    "std1.set_score(101)#已经得到了修改，只是查看不到，他是私有变量\n"
   ]
  },
  {
   "cell_type": "markdown",
   "metadata": {},
   "source": [
    "## 继承———子类获得父类全部的属性"
   ]
  },
  {
   "cell_type": "code",
   "execution_count": 79,
   "metadata": {},
   "outputs": [
    {
     "name": "stdout",
     "output_type": "stream",
     "text": [
      "the animals can run\n",
      "the animals can run\n"
     ]
    }
   ],
   "source": [
    "class Animal(object):\n",
    "    def run(self):\n",
    "        print('the animals can run')\n",
    "class Dog(Animal):\n",
    "    pass\n",
    "class Cat(Animal):\n",
    "    pass\n",
    "dog1=Dog()#先创建，再调用属性\n",
    "dog1.run()\n",
    "cat1=Cat()\n",
    "cat1.run()"
   ]
  },
  {
   "cell_type": "markdown",
   "metadata": {},
   "source": [
    "## 多态——不用单独在子类定义函数,只要在父辈中定义共有的函数即可，但会保证子代自己的特征"
   ]
  },
  {
   "cell_type": "code",
   "execution_count": 114,
   "metadata": {},
   "outputs": [
    {
     "name": "stdout",
     "output_type": "stream",
     "text": [
      "the dog can run\n",
      "the cat can run\n",
      "False\n",
      "True\n",
      "False\n",
      "the animals can run\n",
      "the animals can run\n",
      "the dog can run\n",
      "the dog can run\n",
      "the  brids can't run\n",
      "the  brids can't run\n",
      "['__class__', '__delattr__', '__dict__', '__dir__', '__doc__', '__eq__', '__format__', '__ge__', '__getattribute__', '__gt__', '__hash__', '__init__', '__init_subclass__', '__le__', '__lt__', '__module__', '__ne__', '__new__', '__reduce__', '__reduce_ex__', '__repr__', '__setattr__', '__sizeof__', '__str__', '__subclasshook__', '__weakref__', 'run', 'run_twice']\n",
      "3\n",
      "3\n"
     ]
    }
   ],
   "source": [
    "class Animal(object):\n",
    "    def run(self):\n",
    "        print('the animals can run')\n",
    "    def run_twice(animal):#操作对象是所以类型的实例，不局限与子类,对于不同类型的实例调用自身的run()函数\n",
    "        animal.run()\n",
    "        animal.run()\n",
    "class Dog(Animal):\n",
    "    def run(self):\n",
    "        print('the dog can run')\n",
    "class Cat(Animal):\n",
    "    def run(self):\n",
    "        print('the cat can run')\n",
    "animal1=Animal()\n",
    "dog1=Dog()#先创建，再调用属性\n",
    "dog1.run()\n",
    "cat1=Cat()\n",
    "cat1.run()\n",
    "#class 就是一种数据类型\n",
    "#判断类型 的函数：isinstance\n",
    "print(isinstance(dog1,Cat))\n",
    "print(isinstance(dog1,Animal))#属于父类\n",
    "print(isinstance(animal,Dog))#父类不属于子类\n",
    "#由于每个子类的run()都会覆盖父类的run(),因此创建新的子代，后续不需要对亲代修改run(),直接调用run()即可\n",
    "run_twice(animal1)\n",
    "run_twice(dog1)\n",
    "#最终保证调用实际类型的run()方法\n",
    "class Brids(object):\n",
    "    def run(self):\n",
    "        print('the  brids can\\'t run')\n",
    "brid1=Brids()\n",
    "run_twice(brid1)#当不是子类时，作为动态语言的python也能实现调用run()\n",
    "type(dog1)\n",
    "f=abs\n",
    "type(f)\n",
    "type(f)==type(dog1)\n",
    "print(dir(dog1))\n",
    "print(len('123'))#这个函数就是调用'123'的__len__()函数\n",
    "print('123'.__len__())\n",
    "      "
   ]
  },
  {
   "cell_type": "markdown",
   "metadata": {},
   "source": [
    "## 前面的都是通过self或者创建实例赋予属性，现在通过类定义属性--类属性"
   ]
  },
  {
   "cell_type": "code",
   "execution_count": 115,
   "metadata": {},
   "outputs": [
    {
     "name": "stdout",
     "output_type": "stream",
     "text": [
      "student\n",
      "True\n",
      "student\n"
     ]
    }
   ],
   "source": [
    "class Student(object):\n",
    "    name='student'\n",
    "std1=Student()\n",
    "print(std1.name)#实例属性\n",
    "print(hasattr(std1,'name'))#字符串是属性名，不是属性内容\n",
    "print(Student.name)"
   ]
  },
  {
   "cell_type": "markdown",
   "metadata": {},
   "source": [
    "## 对一个实例绑定的方法(函数)对另一个不起作用"
   ]
  },
  {
   "cell_type": "code",
   "execution_count": 135,
   "metadata": {},
   "outputs": [
    {
     "name": "stdout",
     "output_type": "stream",
     "text": [
      "lansen\n"
     ]
    }
   ],
   "source": [
    "class Student(object):\n",
    "    pass\n",
    "std1=Student()\n",
    "def set_age(self,name):#一个方法\n",
    "    self.name=name\n",
    "from types import MethodType\n",
    "std1.set_age=MethodType(set_age,std1)#给对象绑定一个方法/属性\n",
    "std1.set_age('lansen')#先绑定，再调用方法（赋值），打括号\n",
    "print(std1.name)#看属性，不打括号\n",
    "std2=Student()\n",
    "#std2.set_age(15)#不能对另一个对象绑定"
   ]
  },
  {
   "cell_type": "markdown",
   "metadata": {},
   "source": [
    "## 使用slots限制添加的实例属性(不限制方法)"
   ]
  },
  {
   "cell_type": "code",
   "execution_count": 146,
   "metadata": {},
   "outputs": [
    {
     "name": "stdout",
     "output_type": "stream",
     "text": [
      "lansen\n"
     ]
    },
    {
     "ename": "AttributeError",
     "evalue": "'Student' object has no attribute 'number'",
     "output_type": "error",
     "traceback": [
      "\u001b[1;31m---------------------------------------------------------------------------\u001b[0m",
      "\u001b[1;31mAttributeError\u001b[0m                            Traceback (most recent call last)",
      "\u001b[1;32m<ipython-input-146-4a34fce12bf5>\u001b[0m in \u001b[0;36m<module>\u001b[1;34m()\u001b[0m\n\u001b[0;32m      5\u001b[0m \u001b[0mstd1\u001b[0m\u001b[1;33m.\u001b[0m\u001b[0mname\u001b[0m\u001b[1;33m=\u001b[0m\u001b[1;34m'lansen'\u001b[0m\u001b[1;33m\u001b[0m\u001b[0m\n\u001b[0;32m      6\u001b[0m \u001b[0mprint\u001b[0m\u001b[1;33m(\u001b[0m\u001b[0mstd1\u001b[0m\u001b[1;33m.\u001b[0m\u001b[0mname\u001b[0m\u001b[1;33m)\u001b[0m\u001b[1;33m\u001b[0m\u001b[0m\n\u001b[1;32m----> 7\u001b[1;33m \u001b[0mstd1\u001b[0m\u001b[1;33m.\u001b[0m\u001b[0mnumber\u001b[0m\u001b[1;33m=\u001b[0m\u001b[1;34m'lihang'\u001b[0m\u001b[1;33m\u001b[0m\u001b[0m\n\u001b[0m\u001b[0;32m      8\u001b[0m \u001b[0mprint\u001b[0m\u001b[1;33m(\u001b[0m\u001b[0mstd1\u001b[0m\u001b[1;33m.\u001b[0m\u001b[0mnumber\u001b[0m\u001b[1;33m)\u001b[0m\u001b[1;33m\u001b[0m\u001b[0m\n",
      "\u001b[1;31mAttributeError\u001b[0m: 'Student' object has no attribute 'number'"
     ]
    }
   ],
   "source": [
    "class Student(object):\n",
    "    __slots__=('name','age')#是一个变量，不是函数，限制对子类不起作用\n",
    "    pass\n",
    "std1=Student()\n",
    "std1.name='lansen'\n",
    "print(std1.name)\n",
    "std1.number='lihang'\n",
    "print(std1.number)\n",
    "\n"
   ]
  },
  {
   "cell_type": "markdown",
   "metadata": {},
   "source": [
    "\n"
   ]
  },
  {
   "cell_type": "markdown",
   "metadata": {},
   "source": [
    "## 建立类的一般操作：设置属性与获取属性"
   ]
  },
  {
   "cell_type": "code",
   "execution_count": null,
   "metadata": {},
   "outputs": [],
   "source": [
    "class Student(object):\n",
    "    def set_score(self,value):\n",
    "        if not isinstance(value,int):\n",
    "            raise ValueError('score must be a integer')\n",
    "        if value<0 or value>100:\n",
    "            raise ValueError('score must be 0~100')\n",
    "        else:\n",
    "            self.score=value\n",
    "    def get_score(self):\n",
    "        return self.score#返回属性\n",
    "std1=Student()\n",
    "std1.set_score(99)\n",
    "std1.get_score()#函数必须打括号\n"
   ]
  },
  {
   "cell_type": "markdown",
   "metadata": {},
   "source": [
    "## 类层次的设计/多线程/多继承"
   ]
  },
  {
   "cell_type": "markdown",
   "metadata": {},
   "source": [
    "## 定制类"
   ]
  },
  {
   "cell_type": "markdown",
   "metadata": {},
   "source": [
    "### __str__"
   ]
  },
  {
   "cell_type": "code",
   "execution_count": 158,
   "metadata": {},
   "outputs": [],
   "source": [
    "class Student(object):\n",
    "    def __init__(self,name):\n",
    "        self.name=name\n",
    "    def __str__(self):\n",
    "        return self.name\n",
    "s=Student('asd')\n",
    "print(Student('asd'))"
   ]
  },
  {
   "cell_type": "markdown",
   "metadata": {},
   "source": [
    "### __iter__,__next__,"
   ]
  },
  {
   "cell_type": "code",
   "execution_count": 160,
   "metadata": {},
   "outputs": [
    {
     "name": "stdout",
     "output_type": "stream",
     "text": [
      "1\n",
      "1\n",
      "2\n",
      "3\n",
      "5\n",
      "8\n",
      "13\n",
      "21\n",
      "34\n",
      "55\n",
      "89\n",
      "144\n",
      "233\n",
      "377\n",
      "610\n",
      "987\n",
      "1597\n",
      "2584\n",
      "4181\n",
      "6765\n",
      "10946\n",
      "17711\n",
      "28657\n",
      "46368\n",
      "75025\n",
      "121393\n"
     ]
    }
   ],
   "source": [
    "class Fib(object):\n",
    "    def __init__(self):\n",
    "        self.a,self.b=0,1\n",
    "    def __iter__(self):#存储器\n",
    "        return self\n",
    "    def __next__(self):\n",
    "        if self.a<100000:\n",
    "            self.a,self.b=self.b,self.a+self.b\n",
    "        else:\n",
    "            raise StopIteration()\n",
    "        return self.a\n",
    "for i in Fib():\n",
    "    print(i)"
   ]
  },
  {
   "cell_type": "code",
   "execution_count": null,
   "metadata": {},
   "outputs": [],
   "source": []
  }
 ],
 "metadata": {
  "kernelspec": {
   "display_name": "Python 3",
   "language": "python",
   "name": "python3"
  },
  "language_info": {
   "codemirror_mode": {
    "name": "ipython",
    "version": 3
   },
   "file_extension": ".py",
   "mimetype": "text/x-python",
   "name": "python",
   "nbconvert_exporter": "python",
   "pygments_lexer": "ipython3",
   "version": "3.7.0"
  }
 },
 "nbformat": 4,
 "nbformat_minor": 2
}
