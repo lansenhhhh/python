{
 "cells": [
  {
   "cell_type": "code",
   "execution_count": 2,
   "metadata": {
    "collapsed": true
   },
   "outputs": [
    {
     "name": "stdout",
     "output_type": "stream",
     "text": [
      "1 2 3\n",
      "1 2 4\n",
      "1 3 2\n",
      "1 3 4\n",
      "1 4 2\n",
      "1 4 3\n",
      "2 1 3\n",
      "2 1 4\n",
      "2 3 1\n",
      "2 3 4\n",
      "2 4 1\n",
      "2 4 3\n",
      "3 1 2\n",
      "3 1 4\n",
      "3 2 1\n",
      "3 2 4\n",
      "3 4 1\n",
      "3 4 2\n",
      "4 1 2\n",
      "4 1 3\n",
      "4 2 1\n",
      "4 2 3\n",
      "4 3 1\n",
      "4 3 2\n"
     ]
    }
   ],
   "source": [
    "'''第一题：\n",
    "有四个数字：1、2、3、4，能组成多少个互不相同且无重复数字的三位数？各是多少？'''\n",
    "a=range(1,5)\n",
    "for i in a:\n",
    "    for j in a:\n",
    "        for k in a:\n",
    "            if i!=j and j!=k and k!=i:\n",
    "                print(i,j,k)"
   ]
  },
  {
   "cell_type": "code",
   "execution_count": 6,
   "metadata": {},
   "outputs": [
    {
     "name": "stdout",
     "output_type": "stream",
     "text": [
      "净利润：120000\n",
      "13500.0\n"
     ]
    }
   ],
   "source": [
    "'''第二题：利润提成'''\n",
    "arr=[1000000,600000,400000,200000,100000,0]\n",
    "rat=[0.01,0.015,0.03,0.05,0.075,0.1]\n",
    "i=input('净利润：')\n",
    "r=0\n",
    "for ii in range(0,6):\n",
    "    if int(i)>arr[ii]:\n",
    "        r+=(int(i)-arr[ii])*rat[ii]\n",
    "print(r)\n"
   ]
  },
  {
   "cell_type": "code",
   "execution_count": 12,
   "metadata": {},
   "outputs": [
    {
     "name": "stdout",
     "output_type": "stream",
     "text": [
      "-99.0\n",
      "21.0\n",
      "261.0\n",
      "1581.0\n"
     ]
    }
   ],
   "source": [
    "'''第三题：i,j都是>=2的偶数\n",
    "'''\n",
    "for i in range(2,85):\n",
    "    if 168%i==0:\n",
    "        j=168/i\n",
    "        if i>j and (i+j)%2==0 and (i-j)%2==0:\n",
    "            m=(i+j)/2\n",
    "            n=(i-j)/2\n",
    "            x=n**2-100\n",
    "            print(x)"
   ]
  },
  {
   "cell_type": "code",
   "execution_count": 5,
   "metadata": {},
   "outputs": [
    {
     "name": "stdout",
     "output_type": "stream",
     "text": [
      "请输入:\n",
      "2\n",
      "请输入:\n",
      "3\n",
      "请输入:\n",
      "1\n",
      "[1, 2, 3]\n"
     ]
    }
   ],
   "source": [
    "'''第五题：\n",
    "排序'''\n",
    "a=[]\n",
    "for i in range(0,3):\n",
    "    x=int(input('请输入:\\n'))\n",
    "    a.append(x)\n",
    "a.sort()\n",
    "print(a)"
   ]
  },
  {
   "cell_type": "code",
   "execution_count": 17,
   "metadata": {},
   "outputs": [
    {
     "name": "stdout",
     "output_type": "stream",
     "text": [
      "[0, 1, 1, 2, 3, 5, 8, 13, 21, 34]\n"
     ]
    }
   ],
   "source": [
    "'''第六题：\n",
    "斐波那契数列'''\n",
    "def fbo(n):\n",
    "    if n==0:\n",
    "        return 0\n",
    "    elif n==1:\n",
    "        return 1\n",
    "    else:\n",
    "        return fbo(n-1)+fbo(n-2)\n",
    "    return fbo(n)\n",
    "a=[]\n",
    "for i in range(0,10):\n",
    "    a.append(fbo(i))\n",
    "print(a)"
   ]
  },
  {
   "cell_type": "code",
   "execution_count": 19,
   "metadata": {},
   "outputs": [
    {
     "name": "stdout",
     "output_type": "stream",
     "text": [
      "[1, 2, 3, 4]\n"
     ]
    }
   ],
   "source": [
    "'''第七题：\n",
    "将一个列表的数据复制到另一个列表中'''\n",
    "a=[1,2,3,4]\n",
    "b=a[:]\n",
    "print(b)"
   ]
  },
  {
   "cell_type": "code",
   "execution_count": 46,
   "metadata": {},
   "outputs": [
    {
     "name": "stdout",
     "output_type": "stream",
     "text": [
      "\t\n",
      "1×1=1 \t\n",
      "1×2=2 2×2=4 \t\n",
      "1×3=3 2×3=6 3×3=9 \t\n",
      "1×4=4 2×4=8 3×4=12 4×4=16 \t\n",
      "1×5=5 2×5=10 3×5=15 4×5=20 5×5=25 \t\n",
      "1×6=6 2×6=12 3×6=18 4×6=24 5×6=30 6×6=36 \t\n",
      "1×7=7 2×7=14 3×7=21 4×7=28 5×7=35 6×7=42 7×7=49 \t\n",
      "1×8=8 2×8=16 3×8=24 4×8=32 5×8=40 6×8=48 7×8=56 8×8=64 \t\n",
      "1×9=9 2×9=18 3×9=27 4×9=36 5×9=45 6×9=54 7×9=63 8×9=72 9×9=81 "
     ]
    }
   ],
   "source": [
    "'''输出 9*9 乘法口诀表'''\n",
    "#矩阵表格\n",
    "#i,j;i<j\n",
    "for i in range(1,10):\n",
    "    print('\\t')\n",
    "    for j in range(1,i+1):\n",
    "            print('%d×%d=%d'%(j,i,i*j),end=' ')"
   ]
  },
  {
   "cell_type": "code",
   "execution_count": 73,
   "metadata": {},
   "outputs": [
    {
     "name": "stdout",
     "output_type": "stream",
     "text": [
      "a 1\n",
      "b 2\n",
      "1567606263.5558264\n",
      "time.struct_time(tm_year=2019, tm_mon=9, tm_mday=4, tm_hour=22, tm_min=11, tm_sec=3, tm_wday=2, tm_yday=247, tm_isdst=0)\n",
      "2019-09-04 22:11:03\n",
      "time.struct_time(tm_year=2019, tm_mon=9, tm_mday=4, tm_hour=22, tm_min=8, tm_sec=48, tm_wday=2, tm_yday=247, tm_isdst=-1)\n"
     ]
    }
   ],
   "source": [
    "'''暂停一秒输出'''\n",
    "import time\n",
    "dict1={'a':1,'b':2}\n",
    "for key,val in dict1.items():\n",
    "    print (key,val)\n",
    "time.sleep(1)\n",
    "print(time.time())\n",
    "print(time.localtime())\n",
    "print(time.strftime('%Y-%m-%d %H:%M:%S',time.localtime()))#格式化时间\n",
    "print(time.strptime('2019-09-04 22:08:48','%Y-%m-%d %H:%M:%S'))#逆操作\n"
   ]
  },
  {
   "cell_type": "code",
   "execution_count": 1,
   "metadata": {},
   "outputs": [
    {
     "name": "stdout",
     "output_type": "stream",
     "text": [
      "请输入一个100到200以内的数:123\n",
      "3\n",
      "41\n"
     ]
    }
   ],
   "source": [
    "'''判断因子'''\n",
    "from math import sqrt \n",
    "from math import floor\n",
    "a=int(input('请输入一个100到200以内的数:'))\n",
    "for i in range(2,a):\n",
    "    if a%i==0:\n",
    "        print(i)"
   ]
  },
  {
   "cell_type": "code",
   "execution_count": 23,
   "metadata": {},
   "outputs": [
    {
     "name": "stdout",
     "output_type": "stream",
     "text": [
      "------>输出100-200内所有素数\n",
      "101 103 107 109 113 121 127 131 137 139 143 149 151 157 163 167 169 173 179 181 191 193 197 199 "
     ]
    }
   ],
   "source": [
    "'''判断素数'''\n",
    "print('------>输出100-200内所有素数')\n",
    "\n",
    "def divisor(x):\n",
    "    count=0\n",
    "    for i in range(2,floor(sqrt(x))):\n",
    "        if x%i==0:\n",
    "            count+=1\n",
    "    if count==0:\n",
    "        return x\n",
    "for num in range(100,201):\n",
    "    if divisor(num)!=None:\n",
    "        print(divisor(num),end=' ')\n"
   ]
  },
  {
   "cell_type": "code",
   "execution_count": 25,
   "metadata": {},
   "outputs": [
    {
     "name": "stdout",
     "output_type": "stream",
     "text": [
      "153\n",
      "370\n",
      "371\n",
      "407\n"
     ]
    }
   ],
   "source": [
    "'''第13题：\n",
    "水仙花数'''\n",
    "for i in range(100,1000):\n",
    "    str_i=str(i)\n",
    "    a=int(str_i[0])\n",
    "    b=int(str_i[1])\n",
    "    c=int(str_i[2])\n",
    "    if a**3+b**3+c**3==i:\n",
    "        print(i)"
   ]
  },
  {
   "cell_type": "code",
   "execution_count": 10,
   "metadata": {},
   "outputs": [
    {
     "name": "stdout",
     "output_type": "stream",
     "text": [
      "160=2*4*5*2*2None\n",
      "1020=2*3*5*17*2None\n"
     ]
    }
   ],
   "source": [
    "'''第14题：\n",
    "因式分解'''\n",
    "from numpy import arange\n",
    "def reducenum(n):\n",
    "    print('{}='.format(n),end='')\n",
    "    if not isinstance(n,int) or n<=0:\n",
    "        print('请输入一个正确的数字！')\n",
    "    elif n==1:\n",
    "        print('{}'.format(n),end='')\n",
    "    while n!=1:\n",
    "        for i in arange(2,n+1):\n",
    "            if n%i==0:\n",
    "                n=n/i\n",
    "                if n==1:\n",
    "                    print('%d'%i,end='')\n",
    "                else:\n",
    "                    print('%d*'%i,end='')\n",
    "    \n",
    "print(reducenum(160))     \n",
    "print(reducenum(1020))"
   ]
  },
  {
   "cell_type": "code",
   "execution_count": 30,
   "metadata": {},
   "outputs": [
    {
     "name": "stdout",
     "output_type": "stream",
     "text": [
      "请输入分数:123\n",
      "error!\n",
      "123 is grade C\n"
     ]
    }
   ],
   "source": [
    "'''第15题：'''\n",
    "score=int(input('请输入分数:'))\n",
    "if score>100:\n",
    "    print('error!')\n",
    "elif score>=90 and score<=100 :\n",
    "    grade='A'\n",
    "elif score<89 and score>=60:\n",
    "    grade='B'\n",
    "\n",
    "else:\n",
    "    grade='C'\n",
    "print('%d is grade %s'%(score,grade))\n"
   ]
  },
  {
   "cell_type": "code",
   "execution_count": 38,
   "metadata": {},
   "outputs": [
    {
     "name": "stdout",
     "output_type": "stream",
     "text": [
      "8\n",
      "29\n",
      "0b11001 0b1100\n"
     ]
    }
   ],
   "source": [
    "'''如果a，b是数值变量， 则&， |表示位运算， and，or则依据是否非0来决定输出，'''\n",
    "#bin转二进制\n",
    "a=25\n",
    "b=12\n",
    "c=a&b\n",
    "d=a|b\n",
    "print(c)\n",
    "print(d)\n",
    "a_bin=bin(a)\n",
    "b_bin=bin(b)\n",
    "print(a_bin,b_bin)"
   ]
  },
  {
   "cell_type": "code",
   "execution_count": 45,
   "metadata": {},
   "outputs": [
    {
     "name": "stdout",
     "output_type": "stream",
     "text": [
      "please input the string:first_name:lan,class:2,\n",
      "alphas:17\n",
      "digits:1\n",
      "space:0\n",
      "others:5\n"
     ]
    }
   ],
   "source": [
    "'''第17题：\n",
    "统计字符串英文，数字，空格，其他符号的个数'''\n",
    "from string import *\n",
    "str1=input('please input the string:')\n",
    "alphas=0\n",
    "digits=0\n",
    "space=0\n",
    "others=0\n",
    "for i in range(0,len(str1)):\n",
    "    if str1[i].isalpha():\n",
    "        alphas+=1\n",
    "    elif str1[i].isdigit():\n",
    "        digits+=1\n",
    "    elif str1[i].isspace():\n",
    "        space+=1\n",
    "    else:\n",
    "        others+=1\n",
    "print(\"alphas:%d\\ndigits:%d\\nspace:%d\\nothers:%d\"%(alphas,digits,space,others))"
   ]
  },
  {
   "cell_type": "code",
   "execution_count": 50,
   "metadata": {},
   "outputs": [
    {
     "name": "stdout",
     "output_type": "stream",
     "text": [
      "请输入元素个数:3\n",
      "请输入一个0-9的数字:2\n",
      "2\n",
      "22\n",
      "222\n",
      "-----------\n",
      "246\n"
     ]
    }
   ],
   "source": [
    "'''第18题:\n",
    "求和'''\n",
    "num=int(input('请输入元素个数:'))\n",
    "a=int(input('请输入一个0-9的数字:'))\n",
    "temp=0\n",
    "x=0\n",
    "for i in range(1,num+1):\n",
    "    temp+=(i*a)*10**(num-i)\n",
    "    x+=a*10**(i-1)\n",
    "    print('{}'.format(x))\n",
    "print('-----------')\n",
    "print(temp)"
   ]
  },
  {
   "cell_type": "code",
   "execution_count": 55,
   "metadata": {},
   "outputs": [
    {
     "name": "stdout",
     "output_type": "stream",
     "text": [
      "6\n",
      "[1, 2, 3]\n",
      "-------\n",
      "28\n",
      "[1, 2, 4, 7, 14]\n",
      "-------\n",
      "496\n",
      "[1, 2, 4, 8, 16, 31, 62, 124, 248]\n",
      "-------\n"
     ]
    }
   ],
   "source": [
    "'''第19题：完数'''\n",
    "for num in range(2,1001):\n",
    "    a=[]\n",
    "    for i in range(1,num):\n",
    "        if num%i==0:\n",
    "            a.append(i)\n",
    "    if sum(a)==num:\n",
    "        print(num)\n",
    "        print(a)\n",
    "        print('-------')"
   ]
  },
  {
   "cell_type": "code",
   "execution_count": 64,
   "metadata": {},
   "outputs": [
    {
     "name": "stdout",
     "output_type": "stream",
     "text": [
      "order is a---z\tb---x\tc----y\n"
     ]
    }
   ],
   "source": [
    "'''第22题：匹配'''\n",
    "'''对应关系转为等于关系'''\n",
    "for i in range(ord('x'),ord('z')+1):\n",
    "    for j in range(ord('x'),ord('z')+1):\n",
    "        if i!=j:\n",
    "            for k in range(ord('x'),ord('z')+1):\n",
    "                if k!=i and k!=j:\n",
    "                    if i!=ord('x') and k!=ord('x') and k!=ord('z'):\n",
    "                        print('order is a---%s\\tb---%s\\tc---%s'%(chr(i),chr(j),chr(k)))"
   ]
  },
  {
   "cell_type": "code",
   "execution_count": 90,
   "metadata": {},
   "outputs": [
    {
     "name": "stdout",
     "output_type": "stream",
     "text": [
      "   *\n",
      "  ***\n",
      " *****\n",
      "*******\n",
      " *****\n",
      "  ***\n",
      "   *\n"
     ]
    }
   ],
   "source": [
    "'''第23题：画菱形'''\n",
    "from sys import stdout\n",
    "for i in range(0,4):\n",
    "    for j in range(3-i):\n",
    "        print(' ',end='')\n",
    "    for k in range(2*i+1):\n",
    "        print('*',end='')\n",
    "    print('')\n",
    "for i in range(0,3):\n",
    "    for j in range(i+1):\n",
    "        print(' ',end='')\n",
    "    for k in range(5-2*i):\n",
    "        print('*',end='')\n",
    "    print('')#本来就带一个'\\n’,不用加了"
   ]
  },
  {
   "cell_type": "code",
   "execution_count": 92,
   "metadata": {},
   "outputs": [
    {
     "name": "stdout",
     "output_type": "stream",
     "text": [
      "[2.0, 1.5, 1.6666666666666667, 1.6, 1.625, 1.6153846153846154, 1.619047619047619, 1.6176470588235294, 1.6181818181818182, 1.6179775280898876, 1.6180555555555556, 1.6180257510729614, 1.6180371352785146, 1.618032786885246, 1.618034447821682, 1.6180338134001253, 1.618034055727554, 1.6180339631667064, 1.6180339985218033, 1.618033985017358, 1.6180339901755971]\n"
     ]
    }
   ],
   "source": [
    "'''第24题：求序列之和'''\n",
    "a=2\n",
    "b=1\n",
    "s=0\n",
    "arr=[]\n",
    "for i in range(0,21):\n",
    "    s+=a/b\n",
    "    arr.append(a/b)\n",
    "    t=a\n",
    "    a=a+b\n",
    "    b=t#交换之前，而不是之后\n",
    "print(arr)\n"
   ]
  },
  {
   "cell_type": "code",
   "execution_count": 94,
   "metadata": {},
   "outputs": [
    {
     "name": "stdout",
     "output_type": "stream",
     "text": [
      "001.67\n",
      "  1.67\n"
     ]
    }
   ],
   "source": [
    "'''格式转化'''\n",
    "print('%06.2f'%(5/3))#不足的补0\n",
    "print('%6.2f'%(5/3))#长度为6，不足的补空格\n"
   ]
  },
  {
   "cell_type": "code",
   "execution_count": 112,
   "metadata": {},
   "outputs": [
    {
     "name": "stdout",
     "output_type": "stream",
     "text": [
      "2432902008176640000\n",
      "2561327494111820313\n"
     ]
    }
   ],
   "source": [
    "'''第25题：阶乘'''\n",
    "def factorial(n):\n",
    "    s=1\n",
    "    for i in range(1,n+1):\n",
    "        s*=i\n",
    "    return s\n",
    "print(factorial(20))\n",
    "sum_arr=0\n",
    "for j in range(1,21):\n",
    "    sum_arr+=factorial(j)\n",
    "print(sum_arr)"
   ]
  },
  {
   "cell_type": "code",
   "execution_count": 115,
   "metadata": {},
   "outputs": [
    {
     "data": {
      "text/plain": [
       "24"
      ]
     },
     "execution_count": 115,
     "metadata": {},
     "output_type": "execute_result"
    }
   ],
   "source": [
    "'''阶乘'''\n",
    "def factorial2(n):\n",
    "    if n==1:\n",
    "        return 1\n",
    "    else:\n",
    "        return n*factorial(n-1)\n",
    "factorial(4)"
   ]
  },
  {
   "cell_type": "code",
   "execution_count": 3,
   "metadata": {},
   "outputs": [
    {
     "name": "stdout",
     "output_type": "stream",
     "text": [
      "z\n",
      "c\n",
      "d\n",
      "s\n",
      "a\n"
     ]
    }
   ],
   "source": [
    "'''第27题'''\n",
    "def output(string,length):\n",
    "    if length>0:\n",
    "        print(string[length-1])\n",
    "        return output(string,length-1)\n",
    "string='asdcz'\n",
    "output(string,len(string))"
   ]
  },
  {
   "cell_type": "code",
   "execution_count": 16,
   "metadata": {},
   "outputs": [
    {
     "name": "stdout",
     "output_type": "stream",
     "text": [
      "请输入一个数字：12312\n",
      "the number of the digit is:5\n",
      "2\n",
      "1\n",
      "3\n",
      "2\n",
      "1\n",
      "please input a number :12312\n",
      "2 1 3 2 1\n"
     ]
    }
   ],
   "source": [
    "'''第29题'''\n",
    "#1\n",
    "def output(string,length):\n",
    "    if length>0:\n",
    "        print(string[length-1])\n",
    "        return output(string,length-1)\n",
    "str1=input('请输入一个数字：')\n",
    "length=len(str1)\n",
    "print('the number of the digit is:%d'%length)\n",
    "output(str1,length)\n",
    "#2\n",
    "num=int(input('please input a number :'))\n",
    "a=num//10000\n",
    "b=num//1000%10\n",
    "c=num//100%10\n",
    "d=num//10%10\n",
    "e=num%10\n",
    "if len(str(num))==5:\n",
    "    print(e,d,c,b,a)\n",
    "elif len(str(num))==4:\n",
    "    print(e,d,c,b)\n",
    "elif len(str(num))==3:\n",
    "    print(e,d,c)\n",
    "elif len(str(num))==2:\n",
    "    print(d,c)\n",
    "else:\n",
    "    print(c)"
   ]
  },
  {
   "cell_type": "code",
   "execution_count": 21,
   "metadata": {},
   "outputs": [
    {
     "name": "stdout",
     "output_type": "stream",
     "text": [
      "请输入一个五位数:12344\n",
      "12344 不是回文数\n"
     ]
    }
   ],
   "source": [
    "'''第30题：\n",
    "回文数'''\n",
    "str1=input('请输入一个五位数:')\n",
    "length=len(str1)\n",
    "count=0\n",
    "for i in range(0,length):\n",
    "    if str1[i]!=str1[length-i-1]:\n",
    "        count+=1\n",
    "if count!=0:\n",
    "    print('%s 不是回文数'%str1)\n",
    "else:\n",
    "    print('%s 是回文数'%str1)"
   ]
  },
  {
   "cell_type": "code",
   "execution_count": 25,
   "metadata": {},
   "outputs": [
    {
     "name": "stdout",
     "output_type": "stream",
     "text": [
      "three\n",
      "two\n",
      "one\n",
      "['one', 'two']\n"
     ]
    }
   ],
   "source": [
    "'''第32题'''\n",
    "a=['one','two','three']\n",
    "for i in a[::-1]:#此处为一个迭代器\n",
    "    print(i)\n",
    "print(a[:-1])"
   ]
  },
  {
   "cell_type": "code",
   "execution_count": 42,
   "metadata": {},
   "outputs": [
    {
     "name": "stdout",
     "output_type": "stream",
     "text": [
      "1,2,3,4,5\n",
      "['1', '2', '3', '4', '5']\n"
     ]
    }
   ],
   "source": [
    "'''第33题：\n",
    "按逗号分隔列表'''\n",
    "list1=[1,2,3,4,5]\n",
    "a=','.join([str(n) for n in list1])#jion后面必须是一个字符串序列\n",
    "print(a)\n",
    "a=[str(n) for n in list1]\n",
    "print(a)"
   ]
  },
  {
   "cell_type": "code",
   "execution_count": 48,
   "metadata": {},
   "outputs": [
    {
     "name": "stdout",
     "output_type": "stream",
     "text": [
      "\u001b[4masd\n"
     ]
    }
   ],
   "source": [
    "'''第34题:'''\n",
    "#   格式：\\033[显示方式;前景色;背景色m\n",
    "#   说明:\n",
    "#\n",
    "#   前景色            背景色            颜色\n",
    "#   ---------------------------------------\n",
    "#     30                40              黑色\n",
    "#     31                41              红色\n",
    "#     32                42              绿色\n",
    "#     33                43              黃色\n",
    "#     34                44              蓝色\n",
    "#     35                45              紫红色\n",
    "#     36                46              青蓝色\n",
    "#     37                47              白色\n",
    "#\n",
    "#   显示方式           意义\n",
    "#   -------------------------\n",
    "#      0           终端默认设置\n",
    "#      1             高亮显示\n",
    "#      4            使用下划线\n",
    "#      5              闪烁\n",
    "#      7             反白显示\n",
    "#      8              不可见\n",
    "#\n",
    "#   例子：\n",
    "#   \\033[1;31;40m    <!--1-高亮显示 31-前景色红色  40-背景色黑色-->\n",
    "#   \\033[0m          <!--采用终端默认设置，即取消颜色设置-->]]]\n",
    "print('\\033[4m'+'asd'+'')"
   ]
  },
  {
   "cell_type": "code",
   "execution_count": 96,
   "metadata": {},
   "outputs": [
    {
     "name": "stdout",
     "output_type": "stream",
     "text": [
      "正常显示\n",
      "-----------------------------------------\n",
      "\u001b[3m高亮\u001b[0m \u001b[4m下划线\u001b[0m \u001b[5m闪烁\u001b[0m \u001b[7m反白\u001b[0m \u001b[8m不可见\u001b[0m\n",
      "-----------------------------------------\n",
      "\u001b[30m黑色\u001b[0m \u001b[31m红色\u001b[0m \u001b[33m绿色\u001b[0m \u001b[32m黄色\u001b[0m \u001b[34m蓝色\u001b[0m \u001b[35m紫色\u001b[0m \u001b[36m青色\u001b[0m \u001b[37m白色\u001b[0m\n",
      "-----------------------------------------\n",
      "\u001b[40m黑色\u001b[0m \u001b[41m红色\u001b[0m \u001b[43m绿色\u001b[0m \u001b[42m黄色\u001b[0m \u001b[44m蓝色\u001b[0m \u001b[45m紫色\u001b[0m \u001b[46m青色\u001b[0m \u001b[47m白色\u001b[0m "
     ]
    }
   ],
   "source": [
    "#双层字典结构\n",
    "STYLE={'fore':#前景色\n",
    "       {#注意逗号间隔开\n",
    "           'black':30,\n",
    "           'red':31,\n",
    "           'yellow':32,\n",
    "           'green':33,\n",
    "           'blue':34,\n",
    "           'purple':35,\n",
    "           'cyan':36,\n",
    "           'white':37\n",
    "       },\n",
    "       'back':#背景色\n",
    "       {\n",
    "           'black':40,\n",
    "           'red':41,\n",
    "           'yellow':42,\n",
    "           'green':43,\n",
    "           'blue':44,\n",
    "           'purple':45,\n",
    "           'cyan':46,\n",
    "           'white':47\n",
    "       },\n",
    "       'mode':\n",
    "       {\n",
    "           'mormal':0,\n",
    "           'bold':1,\n",
    "           'underline':4,\n",
    "           'blink':5,\n",
    "           'invert':7,\n",
    "           'hide':8\n",
    "       },\n",
    "    'default':\n",
    "       {\n",
    "         'end':0\n",
    "       }\n",
    "        \n",
    "       }\n",
    "'''格式：\\033[显示方式;前景色;背景色m'''\n",
    "def usestyle(string,mode='',fore='',back=''):#要对参数赋默认值\n",
    "    mode='%s'%STYLE['mode'][mode] if mode in STYLE['mode'] else '' #三目运算，找到对应的颜色字符串\n",
    "    fore='%s'%STYLE['fore'][fore] if fore in STYLE['fore'] else ''\n",
    "    back=\"%s\"%STYLE['back'][back] if back in STYLE['back'] else ''#变成字符串\n",
    "    style=';'.join(s for s in [mode,fore,back] if s)\n",
    "    style='\\033[%sm'%style if style else ''\n",
    "    end='\\033[%sm'%STYLE['default']['end'] if style else '' \n",
    "    return style+string+end\n",
    "def testcolor():\n",
    "    print('正常显示')\n",
    "    print('-----------------------------------------')\n",
    "    print(usestyle('高亮',mode='bold'),end=' ')\n",
    "    print(usestyle('下划线',mode='underline'),end=' ')\n",
    "    print(usestyle('闪烁',mode='blink'),end=' ')\n",
    "    print(usestyle('反白',mode='invert'),end=' ')\n",
    "    print(usestyle('不可见',mode='hide'))\n",
    "    print('-----------------------------------------')\n",
    "    print(usestyle('黑色',fore='black'),end=' ')\n",
    "    print(usestyle('红色',fore='red'),end=' ')\n",
    "    print(usestyle('绿色',fore='green'),end=' ')\n",
    "    print(usestyle('黄色',fore='yellow'),end=' ')\n",
    "    print(usestyle('蓝色',fore='blue'),end=' ')\n",
    "    print(usestyle('紫色',fore='purple'),end=' ')\n",
    "    print(usestyle('青色',fore='cyan'),end=' ')\n",
    "    print(usestyle('白色',fore='white'))\n",
    "    print('-----------------------------------------')\n",
    "    print(usestyle('黑色',back='black'),end=' ')\n",
    "    print(usestyle('红色',back='red'),end=' ')\n",
    "    print(usestyle('绿色',back='green'),end=' ')\n",
    "    print(usestyle('黄色',back='yellow'),end=' ')\n",
    "    print(usestyle('蓝色',back='blue'),end=' ')\n",
    "    print(usestyle('紫色',back='purple'),end=' ')\n",
    "    print(usestyle('青色',back='cyan'),end=' ')\n",
    "    print(usestyle('白色',back='white'),end=' ')\n",
    "testcolor()"
   ]
  },
  {
   "cell_type": "code",
   "execution_count": null,
   "metadata": {},
   "outputs": [],
   "source": [
    "'''py3无has_key，可以使用in'''\n",
    "dict1={'color':'red'}\n",
    "print('name' in dict1)\n",
    "print('color' in dict1)"
   ]
  },
  {
   "cell_type": "code",
   "execution_count": null,
   "metadata": {},
   "outputs": [],
   "source": [
    "mode='invert'\n",
    "mode='%s'%STYLE['mode'][mode] if mode in STYLE['mode'] else '' \n",
    "print(mode)"
   ]
  },
  {
   "cell_type": "code",
   "execution_count": 90,
   "metadata": {},
   "outputs": [
    {
     "name": "stdout",
     "output_type": "stream",
     "text": [
      "\u001b[1;31;40masd\n"
     ]
    }
   ],
   "source": [
    "print('\\033[1;31;40m'+'asd')"
   ]
  },
  {
   "cell_type": "code",
   "execution_count": 114,
   "metadata": {
    "collapsed": true
   },
   "outputs": [
    {
     "name": "stdout",
     "output_type": "stream",
     "text": [
      "请输入上限：1\n",
      "请输入下限：100\n",
      "2\n",
      "3\n",
      "5\n",
      "7\n",
      "11\n",
      "13\n",
      "17\n",
      "19\n",
      "23\n",
      "29\n",
      "31\n",
      "37\n",
      "41\n",
      "43\n",
      "47\n",
      "53\n",
      "59\n",
      "61\n",
      "67\n",
      "71\n",
      "73\n",
      "79\n",
      "83\n",
      "89\n",
      "97\n"
     ]
    }
   ],
   "source": [
    "'''第36题：\n",
    "求指定范围的素数'''\n",
    "#用户输入数据\n",
    "lower=int(input('请输入上限：'))\n",
    "upper=int(input('请输入下限：'))\n",
    "count=0\n",
    "for i in range(lower,upper+1):\n",
    "    if i>1:\n",
    "        count+=1\n",
    "        for j in range(2,i):\n",
    "            if i%j==0:\n",
    "                break#仅破坏当前循环\n",
    "        else:\n",
    "            print(i)\n"
   ]
  },
  {
   "cell_type": "code",
   "execution_count": 126,
   "metadata": {},
   "outputs": [
    {
     "data": {
      "text/plain": [
       "'一个.py文件，如果是自身在运行，那么他的__name__值就是\"__main__\"；\\n\\n如果它是被别的程序导入的（作为一个模块），比如：\\nimport re\\n那么，他的__name__就不是\"__main__\"了。\\n\\n所以，在.py文件中使用这个条件语句，可以使这个条件语句块中的命令只在它独立运行时才执行\\n'"
      ]
     },
     "execution_count": 126,
     "metadata": {},
     "output_type": "execute_result"
    }
   ],
   "source": [
    "'''\n",
    "1.如果模块是被导入，__name__的值为模块名字\n",
    "2. 如果模块是被直接执行，__name__的值为’__main__’'''\n",
    "'''通过'''\n",
    "'''python一切皆对象，所以python的模块也是对象'''\n",
    "'''一个.py文件，如果是自身在运行，那么他的__name__值就是\"__main__\"；\n",
    "\n",
    "如果它是被别的程序导入的（作为一个模块），比如：\n",
    "import re\n",
    "那么，他的__name__就不是\"__main__\"了。\n",
    "\n",
    "所以，在.py文件中使用这个条件语句，可以使这个条件语句块中的命令只在它独立运行时才执行\n",
    "'''"
   ]
  },
  {
   "cell_type": "code",
   "execution_count": 125,
   "metadata": {},
   "outputs": [
    {
     "name": "stdout",
     "output_type": "stream",
     "text": [
      "num:1\n",
      "num:2\n",
      "num:3\n",
      "num:4\n",
      "num:5\n",
      "num:5\n",
      "num:6\n",
      "num:7\n",
      "num:7\n",
      "[[1.0, 2.0, 3.0], [4.0, 5.0, 5.0], [6.0, 7.0, 7.0]]\n",
      "40.0\n"
     ]
    }
   ],
   "source": [
    "\n",
    "a=[]\n",
    "for i in range(0,3):\n",
    "    a.append([])\n",
    "    for j in range(0,3):\n",
    "        a[i].append(float(input('num:')))\n",
    "print(a)\n",
    "sum=0\n",
    "for i in range(0,3):\n",
    "    for j in range(0,3):\n",
    "        sum+=a[i][j]\n",
    "print(sum)"
   ]
  },
  {
   "cell_type": "markdown",
   "metadata": {},
   "source": [
    "'''原因是这样的，字符串是不可变对象，\n",
    "当用操作符+连接字符串的时候，每执行一次+都会申请一块新的内存，\n",
    "然后复制上一个+操作的结果和本次操作的右操作符到这块内存空间，\n",
    "因此用+连接字符串的时候会涉及好几次内存申请和复制。\n",
    "而join在连接字符串的时候，会先计算需要多大的内存存放结果，\n",
    "然后一次性申请所需内存并将字符串复制过去，这是为什么join的性能优于+的原因'''\n"
   ]
  },
  {
   "cell_type": "code",
   "execution_count": 4,
   "metadata": {},
   "outputs": [
    {
     "name": "stdout",
     "output_type": "stream",
     "text": [
      "please input a number9\n",
      "[1, 2, 3, 5, 8, 9, 10, 12]\n"
     ]
    }
   ],
   "source": [
    "'''第39题：插入'''\n",
    "a=[1,2,3,5,8,10,12]\n",
    "length=len(a)\n",
    "num=int(input('please input a number'))\n",
    "for i in range(0,length):\n",
    "    if num<a[i]:\n",
    "        t=a[i:]\n",
    "        a[i]=num\n",
    "        a[i+1:]=t\n",
    "        break\n",
    "        \n",
    "print(a)     "
   ]
  },
  {
   "cell_type": "code",
   "execution_count": 8,
   "metadata": {},
   "outputs": [
    {
     "name": "stdout",
     "output_type": "stream",
     "text": [
      "num:1\n",
      "num:2\n",
      "num:3\n",
      "num:4\n",
      "num:5\n",
      "交换前的数组:\n",
      "[1.0, 2.0, 3.0, 4.0, 5.0]\n",
      "交换后的数组:\n",
      "[5.0, 4.0, 3.0, 2.0, 1.0]\n"
     ]
    }
   ],
   "source": [
    "'''数组逆序交换'''\n",
    "length=5\n",
    "a=[]\n",
    "for i in range(length):\n",
    "    a.append(float(input('num:')))\n",
    "print('交换前的数组:\\n'+str(a))\n",
    "b=[]\n",
    "for j in range(length-1,-1,-1):\n",
    "    b.append(a[j])\n",
    "    \n",
    "print('交换后的数组:\\n'+str(b))"
   ]
  },
  {
   "cell_type": "code",
   "execution_count": 11,
   "metadata": {},
   "outputs": [
    {
     "name": "stdout",
     "output_type": "stream",
     "text": [
      "1 0\n",
      "1 1\n"
     ]
    }
   ],
   "source": [
    "'''利用类的属性实现静态变量'''\n",
    "#通过实例不会改变类属性\n",
    "class Var(object):\n",
    "    count=0\n",
    "f1=Var()\n",
    "f2=Var()\n",
    "f1.count=1\n",
    "print(f1.count,f2.count)\n",
    "#通过类能改变类属性\n",
    "Var.count=1\n",
    "f1=Var()\n",
    "f2=Var()\n",
    "print(f1.count,f2.count)"
   ]
  },
  {
   "cell_type": "code",
   "execution_count": 12,
   "metadata": {},
   "outputs": [
    {
     "data": {
      "text/plain": [
       "'1、存储位置\\n\\n动态变量：存储在内存出栈数据区\\n\\n静态变量：存储在全局数据区（静态数据区）\\n\\n2、生命期\\n\\n动态变量：根据你定义的位置确定，比如你在一个函数中定义的，那么超出该函数范围变量将失效\\n\\n静态变量：程序结束时才释放\\n\\n3、作用域\\n\\n动态变量：同样的要根据你定义的位置才能确定，和第二点的一样\\n\\n静态变量：当前文件中有效\\n'"
      ]
     },
     "execution_count": 12,
     "metadata": {},
     "output_type": "execute_result"
    }
   ],
   "source": [
    "'''1、存储位置\n",
    "\n",
    "动态变量：存储在内存出栈数据区\n",
    "\n",
    "静态变量：存储在全局数据区（静态数据区）\n",
    "\n",
    "2、生命期\n",
    "\n",
    "动态变量：根据你定义的位置确定，比如你在一个函数中定义的，那么超出该函数范围变量将失效\n",
    "\n",
    "静态变量：程序结束时才释放\n",
    "\n",
    "3、作用域\n",
    "\n",
    "动态变量：同样的要根据你定义的位置才能确定，和第二点的一样\n",
    "\n",
    "静态变量：当前文件中有效\n",
    "'''"
   ]
  },
  {
   "cell_type": "code",
   "execution_count": 6,
   "metadata": {},
   "outputs": [
    {
     "name": "stdout",
     "output_type": "stream",
     "text": [
      "0\n",
      "0\n",
      "0\n",
      "1\n",
      "2\n",
      "3\n"
     ]
    }
   ],
   "source": [
    "'''类属性实现静态变量'''\n",
    "def var_func():\n",
    "    var=0\n",
    "    print(var)\n",
    "    var+=1\n",
    "for i in range(3):\n",
    "    var_func()\n",
    "class Var():\n",
    "    staticvar=0\n",
    "    def var_func(self):\n",
    "        self.staticvar+=1\n",
    "        print(self.staticvar)\n",
    "a=Var()\n",
    "for i in range(0,3):\n",
    "    a.var_func()"
   ]
  },
  {
   "cell_type": "code",
   "execution_count": 9,
   "metadata": {},
   "outputs": [
    {
     "name": "stdout",
     "output_type": "stream",
     "text": [
      "1\n",
      "the num is 0\n",
      "2\n",
      "the num is 0\n",
      "3\n",
      "the num is 0\n"
     ]
    }
   ],
   "source": [
    "'''auto定义变量'''\n",
    "def autofunc():\n",
    "    num=0\n",
    "    print('the num is %s'%num)\n",
    "    num+=1\n",
    "num=0\n",
    "for i in range(3):\n",
    "    num+=1\n",
    "    print('%s'%num)#函数外的变量\n",
    "    autofunc()#函数内的变量"
   ]
  },
  {
   "cell_type": "code",
   "execution_count": 30,
   "metadata": {},
   "outputs": [
    {
     "name": "stdout",
     "output_type": "stream",
     "text": [
      "num:1\n",
      "num:2\n",
      "num:3\n",
      "num:4\n",
      "[[1.0, 2.0], [3.0, 4.0]]\n",
      "num:5\n",
      "num:3\n",
      "num:2\n",
      "num:1\n",
      "[[5.0, 3.0], [2.0, 1.0]]\n",
      "[[[], []], [[], []]]\n",
      "[[6.0, 5.0], [5.0, 5.0]]\n"
     ]
    }
   ],
   "source": [
    "'''矩阵加法'''\n",
    "def creat_mat(n1,n2,end):\n",
    "    a=[]\n",
    "    for i in range(n1):\n",
    "        a.append([])\n",
    "        if end==None:\n",
    "            for j in range(n2):\n",
    "                a[i].append([])\n",
    "        else:\n",
    "            for j in range(n2):\n",
    "                a[i].append(float(input('num:')))\n",
    "    print(a)\n",
    "    return a\n",
    "a=creat_mat(2,2,'')\n",
    "b=creat_mat(2,2,'')\n",
    "result=creat_mat(2,2,None)\n",
    "for i in range(0,len(a)):\n",
    "    for j in range(0,len(a[0][:])):\n",
    "        result[i][j]=a[i][j]+b[i][j]\n",
    "print(result)"
   ]
  },
  {
   "cell_type": "markdown",
   "metadata": {},
   "source": [
    "\n"
   ]
  },
  {
   "cell_type": "code",
   "execution_count": 23,
   "metadata": {},
   "outputs": [
    {
     "name": "stdout",
     "output_type": "stream",
     "text": [
      "[3, 2, 1]\n",
      "3\n",
      "2\n"
     ]
    }
   ],
   "source": [
    "'''调取多维列表中的元素'''\n",
    "a=[[1,2,3],[3,2,1]]\n",
    "print(a[1][:])\n",
    "print(len(a[1][:]))#列长\n",
    "print(len(a[:]))#行长[]"
   ]
  },
  {
   "cell_type": "code",
   "execution_count": 32,
   "metadata": {
    "collapsed": true
   },
   "outputs": [
    {
     "name": "stdout",
     "output_type": "stream",
     "text": [
      "请输入一个数字:22\n",
      "请输入一个数字:32\n",
      "1024\n",
      "请输入一个数字:12\n",
      "144\n",
      "请输入一个数字:32\n",
      "1024\n",
      "请输入一个数字:54\n",
      "2916\n",
      "请输入一个数字:1\n",
      "1\n"
     ]
    }
   ],
   "source": [
    "'''\n",
    "第46题：\n",
    "求输入数字的平方，如果平方运算后小于 50 则退出'''\n",
    "a=int(input('请输入一个数字:'))\n",
    "while a**2>50:\n",
    "    a=int(input('请输入一个数字:'))\n",
    "    print(a**2)"
   ]
  },
  {
   "cell_type": "code",
   "execution_count": 33,
   "metadata": {},
   "outputs": [
    {
     "name": "stdout",
     "output_type": "stream",
     "text": [
      "num1:1\n",
      "num2:2\n",
      "num1:2\n",
      "num1:1\n"
     ]
    }
   ],
   "source": [
    "'''47:交换变量值'''\n",
    "a=int(input('num1:'))\n",
    "b=int(input('num2:'))\n",
    "t=a\n",
    "a=b\n",
    "b=t\n",
    "print('num1:%d'%a)\n",
    "print('num1:%d'%b)"
   ]
  },
  {
   "cell_type": "code",
   "execution_count": 34,
   "metadata": {},
   "outputs": [
    {
     "name": "stdout",
     "output_type": "stream",
     "text": [
      "a:2\n",
      "b:5\n",
      "the abstance of 2 and 5 is 3\n"
     ]
    }
   ],
   "source": [
    "'''lambda创建匿名函数'''\n",
    "Abs=lambda x,y:x-y if x>y else y-x\n",
    "x=int(input('a:'))\n",
    "y=int(input('b:'))\n",
    "print('the abstance of %d and %d is %d'%(x,y,Abs(x,y)))"
   ]
  },
  {
   "cell_type": "code",
   "execution_count": 59,
   "metadata": {},
   "outputs": [
    {
     "name": "stdout",
     "output_type": "stream",
     "text": [
      "0.7698035987388794\n",
      "5\n",
      "2\n",
      "a\n",
      "4\n",
      "[3, 2, 1, 4]\n",
      "None\n",
      "['s', 'd']\n"
     ]
    }
   ],
   "source": [
    "'''random模块：\n",
    "1.random():生成一个0-1的浮点数\n",
    "2.ranint(a,b,(m,n)):生成区间的随机数\n",
    "3.randrange(a,b,step):从序列中挑选一个随机数\n",
    "等价于randchoice(range(a,b,step))\n",
    "4.choice(sequence)，sequence可以是序列,元组,字符串\n",
    "5.shuffle(list),将列表元素打乱\n",
    "6.sample(sequence,n)随机获取n个元素'''\n",
    "from random import *\n",
    "print(random())#不需要给出元素\n",
    "print(randint(1,6))#生成一个指定范围的整数\n",
    "print(randrange(0,3,1))\n",
    "print(choice('asd'))\n",
    "print(choice((1,2,3,4,5)))\n",
    "a=[1,2,3,4]\n",
    "b=shuffle(a)\n",
    "print(a)#shuffle用于改变原数组\n",
    "print(b)#shuffle返回值是None\n",
    "#print(sample({'a':1,'b':2,'c':3},2))序列不能是字典\n",
    "print(sample('asd',2))#以列表形式返回"
   ]
  },
  {
   "cell_type": "code",
   "execution_count": 65,
   "metadata": {},
   "outputs": [
    {
     "name": "stdout",
     "output_type": "stream",
     "text": [
      "0^0=0\n",
      "0^1=1\n",
      "1^0=1\n",
      "1^1=0\n"
     ]
    }
   ],
   "source": [
    "'''按位异或'''\n",
    "a=[0,1]\n",
    "b=[0,1]\n",
    "for i in a:\n",
    "    for j in b:\n",
    "        print('%d^%d=%d'%(i,j,i^j))\n"
   ]
  },
  {
   "cell_type": "code",
   "execution_count": 81,
   "metadata": {},
   "outputs": [
    {
     "name": "stdout",
     "output_type": "stream",
     "text": [
      "输入数字:1\n",
      "左移多少位:2\n",
      "1<<2=4\n",
      "True\n",
      "-------------\n",
      "输入数字:7\n",
      "右移多少位:2\n",
      "7<<2=1\n"
     ]
    }
   ],
   "source": [
    "'''位移运算：'''\n",
    "a=int(input('输入数字:'))\n",
    "n=int(input('左移多少位:'))\n",
    "b=a<<n\n",
    "print('%d<<%d=%d'%(a,n,a<<n))\n",
    "if a<<n==a*2**n:\n",
    "    print(True)\n",
    "print('-------------')\n",
    "a=int(input('输入数字:'))\n",
    "n=int(input('右移多少位:'))\n",
    "b=a<<n\n",
    "print('%d<<%d=%d'%(a,n,a>>n))#用来取某一位的数字"
   ]
  },
  {
   "cell_type": "code",
   "execution_count": 1,
   "metadata": {},
   "outputs": [
    {
     "data": {
      "text/plain": [
       "\"'\\n1.Python 新手入门课\\n2.Python3 简明教程\\n3.Python版设计模式实践\\n4.Python Flask Web框架\\n5.Python3 基于 Flask 框架搭建个人博客\\n6.Flask 实现简单聊天室\\n7.Django 基础教程\\n8.Python 图片转字符画\\n9.200 行 Python 代码实现 2048\\n10.Python 破解验证码\\n11.Python文本解析器\\n12.Python3 图片隐写术\\n13.Python实现Zip文件的暴力破解\\n14.Python实现Python解释器\\n15.Python实现3D建模工具\\n16.使用 Python3 编写系列实用脚本\\n17.Python实现模板引擎\\n18.Python3 实现色情图片识别\\n19.基于 Flask 及爬虫实现微信娱乐机器人\\n20.Python3 实现键值数据库\\n21.Python3 实现命令行动态进度条\\n22.Python3 & OpenCV 视频转字符动画\\n23.基于 Python 的简易\\n24.Python3 智能裁切图片\\n25.川普撞脸希拉里(基于 OpenCV 的面部特征交换)\\n26.Python 应用马尔可夫链算法实现随机文本生成\\n27.Python 3 实现图片转彩色字符\\n28.Python 实现简单画板\\n29.利用微信API将你的微信变为聊天机器人\\n30.Python 实现简单滤镜\\n31.使用 Python 定制词云\\n32.Python实现Huffman编码解压缩文件\\n33.Python3 实现 Markdown 解析器\\n34.使用 Github Pages 和 Hexo 搭建独立博客\\n35.PyQt 实现简易浏览器\\n36.Python 实现密码强度检测器\\n37.Python 实现从 excel 读取数据并绘制成精美图像\\n38.Python3实现简单的FTP认证服务器\\n39.使用 Python 解数学方程\\n40.使用 Python3 编写 Github 自动周报生成器\\n41.使用 Python 创建照片马赛克\\n42.Python3 实现推理游戏Bagels\\n43.Python3使用 XML-RPC共享文件\\n44.Python 生成个性二维码\\n45.Python 实现端口扫描器\\n46.Python3 实现可控制肉鸡的反向Shell\\n47.Python 实现 FTP 弱口令扫描器\\n48.基于PyQt5 实现地图中定位相片拍摄位置\\n49.Python3 实现火车票查询工具\\n50.Python实现网站模拟登陆\\n51.Python实现简易局域网视频聊天工具\\n52.基于 TCP 的 python 聊天程序\\n53.Python3基于Scapy实现DDos\\n54.数独游戏的 Python 实现与破解\\n55.基于 Flask 与 MySQL 实现番剧推荐系统\\n56.Python 基于共现提取《釜山行》人物关系\\n57.Python 实现英文新闻摘要自动提取\\n58.Python 实现康威生命游戏\\n59.Python 解决哲学家就餐问题\\n60.Python实现遗传算法求解n-queens问题\\n61.K-近邻算法实现手写数字识别系统\\n62.Python 气象数据分析：《Python 数据分析实战》\\n63.自联想器的 Python 实现\\n64.基于无监督学习的自编码器实现\\n65.人机对战初体验:Python基于Pygame实现四子棋游戏\\n66.神经网络实现人脸识别任务\\n67.Ebay 在线拍卖数据分析\\n68.使用 Python 解数学方程\\n69.NBA常规赛结果预测：利用Python进行比赛数据分析\\n70.Twitter数据情感分析\\n71.深度学习初探--入门DL主流框架\\n72.基于SVM的猫咪图片识别器\\n73.使用 Python 实现深度神经网络\\n74.使用卷积神经网络进行图片分类\\n75.Python 的循环语句和隐含波动率的计算\\n76.Python 实现数据科学中的无监督挖掘技术\\n77.基于 Flask 与 RethinkDB 实现TODO List\\n78.高德API + Python 解决租房问题\\n79.Python 实现 Redis 异步客户端\\n80.Python3 实现简单的 Web 服务器\\n81.仿 StackOverflow 开发在线问答系统\\n\""
      ]
     },
     "execution_count": 1,
     "metadata": {},
     "output_type": "execute_result"
    }
   ],
   "source": [
    "''''\n",
    "1.Python 新手入门课\n",
    "2.Python3 简明教程\n",
    "3.Python版设计模式实践\n",
    "4.Python Flask Web框架\n",
    "5.Python3 基于 Flask 框架搭建个人博客\n",
    "6.Flask 实现简单聊天室\n",
    "7.Django 基础教程\n",
    "8.Python 图片转字符画\n",
    "9.200 行 Python 代码实现 2048\n",
    "10.Python 破解验证码\n",
    "11.Python文本解析器\n",
    "12.Python3 图片隐写术\n",
    "13.Python实现Zip文件的暴力破解\n",
    "14.Python实现Python解释器\n",
    "15.Python实现3D建模工具\n",
    "16.使用 Python3 编写系列实用脚本\n",
    "17.Python实现模板引擎\n",
    "18.Python3 实现色情图片识别\n",
    "19.基于 Flask 及爬虫实现微信娱乐机器人\n",
    "20.Python3 实现键值数据库\n",
    "21.Python3 实现命令行动态进度条\n",
    "22.Python3 & OpenCV 视频转字符动画\n",
    "23.基于 Python 的简易\n",
    "24.Python3 智能裁切图片\n",
    "25.川普撞脸希拉里(基于 OpenCV 的面部特征交换)\n",
    "26.Python 应用马尔可夫链算法实现随机文本生成\n",
    "27.Python 3 实现图片转彩色字符\n",
    "28.Python 实现简单画板\n",
    "29.利用微信API将你的微信变为聊天机器人\n",
    "30.Python 实现简单滤镜\n",
    "31.使用 Python 定制词云\n",
    "32.Python实现Huffman编码解压缩文件\n",
    "33.Python3 实现 Markdown 解析器\n",
    "34.使用 Github Pages 和 Hexo 搭建独立博客\n",
    "35.PyQt 实现简易浏览器\n",
    "36.Python 实现密码强度检测器\n",
    "37.Python 实现从 excel 读取数据并绘制成精美图像\n",
    "38.Python3实现简单的FTP认证服务器\n",
    "39.使用 Python 解数学方程\n",
    "40.使用 Python3 编写 Github 自动周报生成器\n",
    "41.使用 Python 创建照片马赛克\n",
    "42.Python3 实现推理游戏Bagels\n",
    "43.Python3使用 XML-RPC共享文件\n",
    "44.Python 生成个性二维码\n",
    "45.Python 实现端口扫描器\n",
    "46.Python3 实现可控制肉鸡的反向Shell\n",
    "47.Python 实现 FTP 弱口令扫描器\n",
    "48.基于PyQt5 实现地图中定位相片拍摄位置\n",
    "49.Python3 实现火车票查询工具\n",
    "50.Python实现网站模拟登陆\n",
    "51.Python实现简易局域网视频聊天工具\n",
    "52.基于 TCP 的 python 聊天程序\n",
    "53.Python3基于Scapy实现DDos\n",
    "54.数独游戏的 Python 实现与破解\n",
    "55.基于 Flask 与 MySQL 实现番剧推荐系统\n",
    "56.Python 基于共现提取《釜山行》人物关系\n",
    "57.Python 实现英文新闻摘要自动提取\n",
    "58.Python 实现康威生命游戏\n",
    "59.Python 解决哲学家就餐问题\n",
    "60.Python实现遗传算法求解n-queens问题\n",
    "61.K-近邻算法实现手写数字识别系统\n",
    "62.Python 气象数据分析：《Python 数据分析实战》\n",
    "63.自联想器的 Python 实现\n",
    "64.基于无监督学习的自编码器实现\n",
    "65.人机对战初体验:Python基于Pygame实现四子棋游戏\n",
    "66.神经网络实现人脸识别任务\n",
    "67.Ebay 在线拍卖数据分析\n",
    "68.使用 Python 解数学方程\n",
    "69.NBA常规赛结果预测：利用Python进行比赛数据分析\n",
    "70.Twitter数据情感分析\n",
    "71.深度学习初探--入门DL主流框架\n",
    "72.基于SVM的猫咪图片识别器\n",
    "73.使用 Python 实现深度神经网络\n",
    "74.使用卷积神经网络进行图片分类\n",
    "75.Python 的循环语句和隐含波动率的计算\n",
    "76.Python 实现数据科学中的无监督挖掘技术\n",
    "77.基于 Flask 与 RethinkDB 实现TODO List\n",
    "78.高德API + Python 解决租房问题\n",
    "79.Python 实现 Redis 异步客户端\n",
    "80.Python3 实现简单的 Web 服务器\n",
    "81.仿 StackOverflow 开发在线问答系统\n",
    "'''"
   ]
  },
  {
   "cell_type": "code",
   "execution_count": 6,
   "metadata": {},
   "outputs": [
    {
     "data": {
      "text/plain": [
       "-5"
      ]
     },
     "execution_count": 6,
     "metadata": {},
     "output_type": "execute_result"
    }
   ],
   "source": [
    "'''取反'''\n",
    "a=1\n",
    "~a\n",
    "print(~4)#取负号再取反\n"
   ]
  },
  {
   "cell_type": "code",
   "execution_count": null,
   "metadata": {},
   "outputs": [],
   "source": []
  }
 ],
 "metadata": {
  "kernelspec": {
   "display_name": "my_NLP",
   "language": "python",
   "name": "my_nlp"
  },
  "language_info": {
   "codemirror_mode": {
    "name": "ipython",
    "version": 3
   },
   "file_extension": ".py",
   "mimetype": "text/x-python",
   "name": "python",
   "nbconvert_exporter": "python",
   "pygments_lexer": "ipython3",
   "version": "3.7.0"
  }
 },
 "nbformat": 4,
 "nbformat_minor": 2
}
