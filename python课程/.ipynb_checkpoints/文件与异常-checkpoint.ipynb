{
 "cells": [
  {
   "cell_type": "markdown",
   "metadata": {},
   "source": [
    "## 文件读取\n"
   ]
  },
  {
   "cell_type": "code",
   "execution_count": 1,
   "metadata": {},
   "outputs": [
    {
     "name": "stdout",
     "output_type": "stream",
     "text": [
      "the program is ending!\n",
      "the program is ending!\n",
      "'1','2','3'\n",
      "'2','3','4'\n",
      "the program is ending!\n",
      "\n",
      "the program is ending!\n",
      "the program is ending!\n",
      "the program is ending!\n",
      "-------->readlines\n",
      "['the program is ending!\\n', 'the program is ending!']\n",
      "the program is ending!\n",
      "\n",
      "the program is ending!\n"
     ]
    }
   ],
   "source": [
    "##当前目录查找\n",
    "with  open('ex_1.txt') as file_object:\n",
    "    contents=file_object.read()\n",
    "print(contents)\n",
    "##指定文件路径查找\n",
    "with open('F:\\python\\program\\ex_1.txt') as file_object:\n",
    "    contents=file_object.read()\n",
    "print(contents)\n",
    "##逐行读取\n",
    "with open('ex_1.txt') as file_object:\n",
    "    for line in file_object:\n",
    "        print(line)#print()加上一个换行符，文件本身有换行符\n",
    "with open('ex_1.txt') as file_object:\n",
    "    for line in file_object:\n",
    "        print(line.rstrip())\n",
    "##创建一个包含文件各行内容的列表\n",
    "print('-------->readlines')\n",
    "with open('ex_1.txt') as file_object:\n",
    "    lines=file_object.readlines()#先创建一个列表\n",
    "print(lines)\n",
    "for line in lines:#在with外码块外面访问文件的内容\n",
    "    print(line)"
   ]
  },
  {
   "cell_type": "code",
   "execution_count": 23,
   "metadata": {},
   "outputs": [
    {
     "name": "stdout",
     "output_type": "stream",
     "text": [
      "asd\n",
      "\n",
      "asd\n",
      "asd\n",
      "\n"
     ]
    }
   ],
   "source": [
    "#方法rstrip删除字符串的空行\n",
    "a='asd\\n'\n",
    "print(a)\n",
    "print(a.rstrip())\n",
    "print(a)"
   ]
  },
  {
   "cell_type": "code",
   "execution_count": 3,
   "metadata": {},
   "outputs": [
    {
     "name": "stdout",
     "output_type": "stream",
     "text": [
      "3.141592653589793238462643383279\n",
      "32\n",
      "please input your birthday:9911\n",
      "the pi not contain your birthday\n"
     ]
    }
   ],
   "source": [
    "with open('ex_1.txt') as file_object:\n",
    "    lines=file_object.readlines()\n",
    "p_string=''\n",
    "for line in lines:\n",
    "    p_string+=line.rstrip()#strip删除两边空格\n",
    "print(p_string)\n",
    "print(len(p_string))\n",
    "birthday=input('please input your birthday:')\n",
    "if birthday in p_string:\n",
    "    print('the pi contain your birthday!')\n",
    "else:\n",
    "    print('the pi not contain your birthday')"
   ]
  },
  {
   "cell_type": "markdown",
   "metadata": {},
   "source": [
    "## 文件写入"
   ]
  },
  {
   "cell_type": "code",
   "execution_count": 4,
   "metadata": {},
   "outputs": [
    {
     "name": "stdout",
     "output_type": "stream",
     "text": [
      "3.1415926535\n",
      "8979323846\n",
      "2643383279I love programing!\n",
      "the program is ending!\n",
      "the program is ending!\n",
      "the program is ending!\n"
     ]
    }
   ],
   "source": [
    "##附加内容，而不是覆盖\n",
    "with open('ex_1.txt','a') as file_object:\n",
    "    file_object.write('I love programing!')\n",
    "with open('ex_1.txt') as file_object2:\n",
    "    contents=file_object2.read()\n",
    "    print(contents)\n",
    "\n",
    "with open('ex_1.txt','w') as file_object:\n",
    "    file_object.write('the program is ending!')\n",
    "with open('ex_1.txt') as file_object2:\n",
    "    contents=file_object2.read()\n",
    "    print(contents)\n",
    "##写入多行,覆盖\n",
    "with open('ex_1.txt','w') as file_object:\n",
    "    file_object.write('the program is ending!\\n')\n",
    "    file_object.write('the program is ending!')\n",
    "with open('ex_1.txt') as file_object2:\n",
    "    contents=file_object2.read()\n",
    "    print(contents)\n",
    "\n"
   ]
  },
  {
   "cell_type": "markdown",
   "metadata": {},
   "source": [
    "## 异常"
   ]
  },
  {
   "cell_type": "code",
   "execution_count": 7,
   "metadata": {},
   "outputs": [
    {
     "name": "stdout",
     "output_type": "stream",
     "text": [
      "you can't divide by zero.\n"
     ]
    }
   ],
   "source": [
    "try:\n",
    "    print(3/0)\n",
    "except ZeroDivisionError:\n",
    "    print(\"you can't divide by zero.\")"
   ]
  },
  {
   "cell_type": "code",
   "execution_count": 5,
   "metadata": {},
   "outputs": [
    {
     "name": "stdout",
     "output_type": "stream",
     "text": [
      "Given me two numbers,and I'll divide them\n",
      "Enter the 'quit' to leave.\n",
      "\n",
      "Given the first number:1\n",
      "\n",
      "Given the second number:1\n",
      "1.0\n",
      "\n",
      "Given the first number:q\n"
     ]
    }
   ],
   "source": [
    "print(\"Given me two numbers,and I'll divide them\")\n",
    "print(\"Enter the 'quit' to leave.\")\n",
    "while True:\n",
    "    first_number=input('\\nGiven the first number:')\n",
    "    if first_number=='q':\n",
    "        break\n",
    "    second_number=input('\\nGiven the second number:')\n",
    "    if second_number=='q':\n",
    "        break\n",
    "    value=int(first_number)/int(second_number)\n",
    "    print(value)\n"
   ]
  },
  {
   "cell_type": "code",
   "execution_count": 4,
   "metadata": {},
   "outputs": [
    {
     "name": "stdout",
     "output_type": "stream",
     "text": [
      "Given me two numbers,and I'll divide them\n",
      "Enter the 'quit' to leave.\n",
      "\n",
      "Given the first number:1\n",
      "\n",
      "Given the second number:q\n"
     ]
    }
   ],
   "source": [
    "print(\"Given me two numbers,and I'll divide them\")\n",
    "print(\"Enter the 'quit' to leave.\")\n",
    "while True:\n",
    "    first_number=input('\\nGiven the first number:')\n",
    "    if first_number=='q':\n",
    "        break\n",
    "    second_number=input('\\nGiven the second number:')\n",
    "    if second_number=='q':\n",
    "        break\n",
    "    try:\n",
    "        value=int(first_number)/int(second_number)\n",
    "    except ZeroDivisionError:\n",
    "        print(\"you can't divide zero!\")\n",
    "    else:\n",
    "        print(value)\n"
   ]
  },
  {
   "cell_type": "markdown",
   "metadata": {},
   "source": [
    "## FileNotFoundError"
   ]
  },
  {
   "cell_type": "code",
   "execution_count": 10,
   "metadata": {},
   "outputs": [
    {
     "name": "stdout",
     "output_type": "stream",
     "text": [
      "sorry,the file alice.txt does not exist\n"
     ]
    }
   ],
   "source": [
    "try:\n",
    "    with open('alice.txt') as file_object:\n",
    "        file_object.read()\n",
    "except FileNotFoundError:\n",
    "    msg='sorry,the file '+'alice.txt '+'does not exist'\n",
    "    print(msg)"
   ]
  },
  {
   "cell_type": "code",
   "execution_count": 30,
   "metadata": {},
   "outputs": [
    {
     "name": "stdout",
     "output_type": "stream",
     "text": [
      "after thirty years of married happiness, he could still remind himself that victoria was endowed with every charm except the thrilling touch of human frailty.\n",
      "\n",
      "though her perfection discouraged pleasures, especially the pleasures of love, he had learned in time to feel the pride of a husband in her natural frigidity. for he still clung, amid the decay of moral platitudes, to the discredited ideal of chivalry. in his youth the world was suffused with the after-glow of the long victorian age, and a graceful feminine style had softened the manners, if not the natures, of men.\n",
      "\n",
      "at the end of that interesting epoch, when womanhood was exalted from a biological fact into a miraculous power, virginius littlepage, the younger son of an old and affluent family, had married victoria brooke, the grand-daughter of a tobacco planter, who had made a satisfactory fortune by forsaking his plantation and converting tobacco into cigarettes. while virginius had been trained by stern tradition to respect every woman who had not stooped to folly, the virtue peculiar to her sex was among the least of his reasons for admiring victoria. she was not only modest, which was usual in the neties, but she was beautiful, which is unusual in any decade.\n",
      "\n",
      "in the beginning of their acquaintance he had gone even further and ascribed intellect to her; but a few months of marriage had shown this to be merely one of the many delusions created by perfect features and noble expression. everything about her had been smooth and definite, even the tones of her voice and the way her light brown hair, which she wore ?la pompadour, was rolled stiffly back from her forehead and coiled in a burnished rope on the top of her head. a serious young man, ambitious to attain a place in the world more brilliant than the secluded seat of his ancestors, he had been impressed at their first meeting by the compactness and precision of victoria's orderly mind.\n",
      "\n",
      "for in that earnest period the minds, as well as the emotions, of lovers were orderly. it was an age when eager young men flocked to church on sunday morning, and eloquent divines discoursed upon the victorian poets in the middle of the week. he could afford to smile now when he recalled the solemn browning class in which he had first lost his heart. how passionately he had admired victoria's virginal features! how fervently he had envied her competent but caressing way with the poet! incredible as it seemed to him now, he had fallen in love with her while she recited from the more ponderous passages in the ring and the book.\n",
      "\n",
      "he had fallen in love with her then, though he had never really enjoyed browning, and it had been a relief to him when the unseen, in company with its illustrious poet, had at last gone out of fashion. yet, since he was disposed to admire all the qualities he did not possess, he had never ceased to respect the firmness with which victoria continued to deal in other forms with the absolute. as the placid years passed, and she came to rely less upon her virginal features, it seemed to him that the ripe opinions of her youth began to shrink and flatten as fruit does that has hung too long on the tree.\n",
      "\n",
      "she had never changed, he realized, since he had first known her; she had become merely riper, softer, and sweeter in nature. her advantage rested where advantage never fails to rest, in moral fervour. to be invariably right was her single wifely failing. for his wife, he sighed, with the vague unrest of a husband whose infidelities are imaginary, was a genuinely good woman. she was as far removed from pretence as she was from the posturing virtues that flourish in the credulous world of the drama.\n",
      "\n",
      "the pity of it was that even the least exacting husband should so often desire something more piquant than goodness.\n",
      "the file contains 15 lines\n",
      "=====================================================================================================\n",
      "the file contains 666 words.\n",
      "['after', 'thirty', 'years', 'of', 'married', 'happiness,', 'he', 'could', 'still', 'remind', 'himself', 'that', 'victoria', 'was', 'endowed', 'with', 'every', 'charm', 'except', 'the', 'thrilling', 'touch', 'of', 'human', 'frailty.', 'though', 'her', 'perfection', 'discouraged', 'pleasures,', 'especially', 'the', 'pleasures', 'of', 'love,', 'he', 'had', 'learned', 'in', 'time', 'to', 'feel', 'the', 'pride', 'of', 'a', 'husband', 'in', 'her', 'natural', 'frigidity.', 'for', 'he', 'still', 'clung,', 'amid', 'the', 'decay', 'of', 'moral', 'platitudes,', 'to', 'the', 'discredited', 'ideal', 'of', 'chivalry.', 'in', 'his', 'youth', 'the', 'world', 'was', 'suffused', 'with', 'the', 'after-glow', 'of', 'the', 'long', 'victorian', 'age,', 'and', 'a', 'graceful', 'feminine', 'style', 'had', 'softened', 'the', 'manners,', 'if', 'not', 'the', 'natures,', 'of', 'men.', 'at', 'the', 'end', 'of', 'that', 'interesting', 'epoch,', 'when', 'womanhood', 'was', 'exalted', 'from', 'a', 'biological', 'fact', 'into', 'a', 'miraculous', 'power,', 'virginius', 'littlepage,', 'the', 'younger', 'son', 'of', 'an', 'old', 'and', 'affluent', 'family,', 'had', 'married', 'victoria', 'brooke,', 'the', 'grand-daughter', 'of', 'a', 'tobacco', 'planter,', 'who', 'had', 'made', 'a', 'satisfactory', 'fortune', 'by', 'forsaking', 'his', 'plantation', 'and', 'converting', 'tobacco', 'into', 'cigarettes.', 'while', 'virginius', 'had', 'been', 'trained', 'by', 'stern', 'tradition', 'to', 'respect', 'every', 'woman', 'who', 'had', 'not', 'stooped', 'to', 'folly,', 'the', 'virtue', 'peculiar', 'to', 'her', 'sex', 'was', 'among', 'the', 'least', 'of', 'his', 'reasons', 'for', 'admiring', 'victoria.', 'she', 'was', 'not', 'only', 'modest,', 'which', 'was', 'usual', 'in', 'the', 'neties,', 'but', 'she', 'was', 'beautiful,', 'which', 'is', 'unusual', 'in', 'any', 'decade.', 'in', 'the', 'beginning', 'of', 'their', 'acquaintance', 'he', 'had', 'gone', 'even', 'further', 'and', 'ascribed', 'intellect', 'to', 'her;', 'but', 'a', 'few', 'months', 'of', 'marriage', 'had', 'shown', 'this', 'to', 'be', 'merely', 'one', 'of', 'the', 'many', 'delusions', 'created', 'by', 'perfect', 'features', 'and', 'noble', 'expression.', 'everything', 'about', 'her', 'had', 'been', 'smooth', 'and', 'definite,', 'even', 'the', 'tones', 'of', 'her', 'voice', 'and', 'the', 'way', 'her', 'light', 'brown', 'hair,', 'which', 'she', 'wore', '?la', 'pompadour,', 'was', 'rolled', 'stiffly', 'back', 'from', 'her', 'forehead', 'and', 'coiled', 'in', 'a', 'burnished', 'rope', 'on', 'the', 'top', 'of', 'her', 'head.', 'a', 'serious', 'young', 'man,', 'ambitious', 'to', 'attain', 'a', 'place', 'in', 'the', 'world', 'more', 'brilliant', 'than', 'the', 'secluded', 'seat', 'of', 'his', 'ancestors,', 'he', 'had', 'been', 'impressed', 'at', 'their', 'first', 'meeting', 'by', 'the', 'compactness', 'and', 'precision', 'of', \"victoria's\", 'orderly', 'mind.', 'for', 'in', 'that', 'earnest', 'period', 'the', 'minds,', 'as', 'well', 'as', 'the', 'emotions,', 'of', 'lovers', 'were', 'orderly.', 'it', 'was', 'an', 'age', 'when', 'eager', 'young', 'men', 'flocked', 'to', 'church', 'on', 'sunday', 'morning,', 'and', 'eloquent', 'divines', 'discoursed', 'upon', 'the', 'victorian', 'poets', 'in', 'the', 'middle', 'of', 'the', 'week.', 'he', 'could', 'afford', 'to', 'smile', 'now', 'when', 'he', 'recalled', 'the', 'solemn', 'browning', 'class', 'in', 'which', 'he', 'had', 'first', 'lost', 'his', 'heart.', 'how', 'passionately', 'he', 'had', 'admired', \"victoria's\", 'virginal', 'features!', 'how', 'fervently', 'he', 'had', 'envied', 'her', 'competent', 'but', 'caressing', 'way', 'with', 'the', 'poet!', 'incredible', 'as', 'it', 'seemed', 'to', 'him', 'now,', 'he', 'had', 'fallen', 'in', 'love', 'with', 'her', 'while', 'she', 'recited', 'from', 'the', 'more', 'ponderous', 'passages', 'in', 'the', 'ring', 'and', 'the', 'book.', 'he', 'had', 'fallen', 'in', 'love', 'with', 'her', 'then,', 'though', 'he', 'had', 'never', 'really', 'enjoyed', 'browning,', 'and', 'it', 'had', 'been', 'a', 'relief', 'to', 'him', 'when', 'the', 'unseen,', 'in', 'company', 'with', 'its', 'illustrious', 'poet,', 'had', 'at', 'last', 'gone', 'out', 'of', 'fashion.', 'yet,', 'since', 'he', 'was', 'disposed', 'to', 'admire', 'all', 'the', 'qualities', 'he', 'did', 'not', 'possess,', 'he', 'had', 'never', 'ceased', 'to', 'respect', 'the', 'firmness', 'with', 'which', 'victoria', 'continued', 'to', 'deal', 'in', 'other', 'forms', 'with', 'the', 'absolute.', 'as', 'the', 'placid', 'years', 'passed,', 'and', 'she', 'came', 'to', 'rely', 'less', 'upon', 'her', 'virginal', 'features,', 'it', 'seemed', 'to', 'him', 'that', 'the', 'ripe', 'opinions', 'of', 'her', 'youth', 'began', 'to', 'shrink', 'and', 'flatten', 'as', 'fruit', 'does', 'that', 'has', 'hung', 'too', 'long', 'on', 'the', 'tree.', 'she', 'had', 'never', 'changed,', 'he', 'realized,', 'since', 'he', 'had', 'first', 'known', 'her;', 'she', 'had', 'become', 'merely', 'riper,', 'softer,', 'and', 'sweeter', 'in', 'nature.', 'her', 'advantage', 'rested', 'where', 'advantage', 'never', 'fails', 'to', 'rest,', 'in', 'moral', 'fervour.', 'to', 'be', 'invariably', 'right', 'was', 'her', 'single', 'wifely', 'failing.', 'for', 'his', 'wife,', 'he', 'sighed,', 'with', 'the', 'vague', 'unrest', 'of', 'a', 'husband', 'whose', 'infidelities', 'are', 'imaginary,', 'was', 'a', 'genuinely', 'good', 'woman.', 'she', 'was', 'as', 'far', 'removed', 'from', 'pretence', 'as', 'she', 'was', 'from', 'the', 'posturing', 'virtues', 'that', 'flourish', 'in', 'the', 'credulous', 'world', 'of', 'the', 'drama.', 'the', 'pity', 'of', 'it', 'was', 'that', 'even', 'the', 'least', 'exacting', 'husband', 'should', 'so', 'often', 'desire', 'something', 'more', 'piquant', 'than', 'goodness.']\n"
     ]
    }
   ],
   "source": [
    "##读取每一句话\n",
    "with open('alice.txt') as file_object:\n",
    "    row=file_object.readlines()\n",
    "    lines=0\n",
    "    for line in row:\n",
    "        print(line.rstrip())\n",
    "        lines=lines+1\n",
    "print('the file contains '+str(lines)+' lines')\n",
    "print('=====================================================================================================')\n",
    "##读取每一单词\n",
    "try:\n",
    "    with open('alice.txt') as file_object:\n",
    "        contents=file_object.read()\n",
    "except FileNotFoundError:\n",
    "    msg='sorry,the file '+'alice.txt '+'does not exist'\n",
    "    print(msg)\n",
    "else:\n",
    "    words=contents.split()\n",
    "    num_words=len(words)\n",
    "    print('the file contains '+str(num_words)+' words.')\n",
    "    print(words)"
   ]
  },
  {
   "cell_type": "code",
   "execution_count": 54,
   "metadata": {},
   "outputs": [
    {
     "name": "stdout",
     "output_type": "stream",
     "text": [
      "the file alice.txt contains 3799 words\n",
      "the file ex_1.txt contains 45 words\n",
      "the file china.txt contains 806 words\n",
      "the file a.txt not exist!\n"
     ]
    }
   ],
   "source": [
    "def count_file(filename):\n",
    "    try:\n",
    "        with open(filename) as f_obj:\n",
    "            contents=f_obj.read()\n",
    "           \n",
    "    except FileNotFoundError:\n",
    "        print('the file '+filename+' not exist!')\n",
    "    else:\n",
    "        \n",
    "        words=contents.split()  \n",
    "        num_words=len(contents)\n",
    "        print('the file '+filename+' contains '+str(num_words)+' words')\n",
    "        \n",
    "file_names=['alice.txt','ex_1.txt','china.txt','a.txt']\n",
    "for file_name in file_names:\n",
    "    count=count_file(file_name)\n",
    "    "
   ]
  },
  {
   "cell_type": "markdown",
   "metadata": {},
   "source": [
    "## json"
   ]
  },
  {
   "cell_type": "code",
   "execution_count": 61,
   "metadata": {},
   "outputs": [
    {
     "name": "stdout",
     "output_type": "stream",
     "text": [
      "[1, 2, 3, 4, 5]\n"
     ]
    }
   ],
   "source": [
    "##创建json文件，写入数据\n",
    "import json\n",
    "numbers=[1,2,3,4,5]\n",
    "file_name='numbers.json'\n",
    "with open(file_name,'w') as f_obj:\n",
    "    json.dump(numbers,f_obj)\n",
    "##加载文件，读取数据\n",
    "with open('numbers.json') as f_obj:\n",
    "    data=json.load(f_obj)\n",
    "print(data)"
   ]
  },
  {
   "cell_type": "code",
   "execution_count": 64,
   "metadata": {},
   "outputs": [
    {
     "name": "stdout",
     "output_type": "stream",
     "text": [
      "welcome!lansen\n"
     ]
    }
   ],
   "source": [
    "import json\n",
    "try:\n",
    "    filename='1.json'\n",
    "    with open(filename) as f_obj:\n",
    "        name=json.load(f_obj)\n",
    "except FileNotFoundError:\n",
    "    with open(filename,'w') as f_obj:\n",
    "        name=input(\"what's your name:\")\n",
    "        json.dump(name,f_obj)\n",
    "        print(\"We'll remember you:\"+name)\n",
    "else:\n",
    "    print(\"welcome!\"+name)\n",
    "    "
   ]
  },
  {
   "cell_type": "code",
   "execution_count": 6,
   "metadata": {},
   "outputs": [
    {
     "name": "stdout",
     "output_type": "stream",
     "text": [
      "['', 'C:\\\\Users\\\\兰森\\\\python文件', 'C:\\\\ProgramData\\\\Anaconda3\\\\python37.zip', 'C:\\\\ProgramData\\\\Anaconda3\\\\DLLs', 'C:\\\\ProgramData\\\\Anaconda3\\\\lib', 'C:\\\\ProgramData\\\\Anaconda3', 'C:\\\\ProgramData\\\\Anaconda3\\\\lib\\\\site-packages', 'C:\\\\ProgramData\\\\Anaconda3\\\\lib\\\\site-packages\\\\win32', 'C:\\\\ProgramData\\\\Anaconda3\\\\lib\\\\site-packages\\\\win32\\\\lib', 'C:\\\\ProgramData\\\\Anaconda3\\\\lib\\\\site-packages\\\\Pythonwin', 'C:\\\\ProgramData\\\\Anaconda3\\\\lib\\\\site-packages\\\\IPython\\\\extensions', 'C:\\\\Users\\\\兰森\\\\.ipython', 'C:\\\\ProgramData\\\\Anaconda3\\\\Lib\\\\site-pakeages\\\\Alien_invasion', 'C:\\\\ProgramData\\\\Anaconda3\\\\Lib\\\\site-pakeages\\\\Alien_invasion', 'C:\\\\ProgramData\\\\Anaconda3\\\\Lib\\\\site-pakeages\\\\Alien_invasion', 'C:\\\\ProgramData\\\\Anaconda3\\\\Lib\\\\site-pakeages\\\\Alien_invasion\\\\settings', 'C:/ProgramData/Anaconda3/Lib/site-pakeages/Alien_invasion', 'C:\\\\ProgramData\\\\Anaconda3\\\\Lib\\\\site-pakeages\\\\Alien_invasion']\n"
     ]
    },
    {
     "ename": "ModuleNotFoundError",
     "evalue": "No module named 'settings'",
     "output_type": "error",
     "traceback": [
      "\u001b[1;31m---------------------------------------------------------------------------\u001b[0m",
      "\u001b[1;31mModuleNotFoundError\u001b[0m                       Traceback (most recent call last)",
      "\u001b[1;32m<ipython-input-6-260b7371d751>\u001b[0m in \u001b[0;36m<module>\u001b[1;34m()\u001b[0m\n\u001b[0;32m      2\u001b[0m \u001b[0msys\u001b[0m\u001b[1;33m.\u001b[0m\u001b[0mpath\u001b[0m\u001b[1;33m.\u001b[0m\u001b[0mappend\u001b[0m\u001b[1;33m(\u001b[0m\u001b[1;34m'C:\\ProgramData\\Anaconda3\\Lib\\site-pakeages\\Alien_invasion'\u001b[0m\u001b[1;33m)\u001b[0m\u001b[1;33m\u001b[0m\u001b[0m\n\u001b[0;32m      3\u001b[0m \u001b[0mprint\u001b[0m\u001b[1;33m(\u001b[0m\u001b[0msys\u001b[0m\u001b[1;33m.\u001b[0m\u001b[0mpath\u001b[0m\u001b[1;33m)\u001b[0m\u001b[1;33m\u001b[0m\u001b[0m\n\u001b[1;32m----> 4\u001b[1;33m \u001b[1;32mimport\u001b[0m \u001b[0msettings\u001b[0m\u001b[1;33m\u001b[0m\u001b[0m\n\u001b[0m",
      "\u001b[1;31mModuleNotFoundError\u001b[0m: No module named 'settings'"
     ]
    }
   ],
   "source": [
    "import sys\n",
    "sys.path.append('C:\\ProgramData\\Anaconda3\\Lib\\site-pakeages\\Alien_invasion')\n",
    "print(sys.path)\n",
    "import settings"
   ]
  },
  {
   "cell_type": "code",
   "execution_count": null,
   "metadata": {},
   "outputs": [],
   "source": []
  }
 ],
 "metadata": {
  "kernelspec": {
   "display_name": "Python 3",
   "language": "python",
   "name": "python3"
  },
  "language_info": {
   "codemirror_mode": {
    "name": "ipython",
    "version": 3
   },
   "file_extension": ".py",
   "mimetype": "text/x-python",
   "name": "python",
   "nbconvert_exporter": "python",
   "pygments_lexer": "ipython3",
   "version": "3.7.0"
  }
 },
 "nbformat": 4,
 "nbformat_minor": 2
}
