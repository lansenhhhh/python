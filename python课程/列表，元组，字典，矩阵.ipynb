{
 "cells": [
  {
   "cell_type": "markdown",
   "metadata": {},
   "source": [
    "## 字典"
   ]
  },
  {
   "cell_type": "code",
   "execution_count": 37,
   "metadata": {},
   "outputs": [],
   "source": [
    "dict_1={'a':1,'b':2,'c':3}#键——值对应"
   ]
  },
  {
   "cell_type": "code",
   "execution_count": 38,
   "metadata": {},
   "outputs": [
    {
     "name": "stdout",
     "output_type": "stream",
     "text": [
      "1\n",
      "{'a': 1, 'b': 2, 'c': 3, 'd': 4}\n",
      "{}\n",
      "{'a': 5, 'b': 2, 'c': 3, 'd': 4}\n",
      "{'a': 5, 'b': 2, 'c': 3}\n"
     ]
    }
   ],
   "source": [
    "print(dict_1['a'])#访问\n",
    "dict_1['d']=4#添加\n",
    "print(dict_1)\n",
    "##添加一个空字典,用于存储\n",
    "dict_2={}\n",
    "print(dict_2)\n",
    "##修改字典中的值\n",
    "dict_1['a']=5\n",
    "print(dict_1)\n",
    "##指定字典名和要删除的键删除\n",
    "del dict_1['d']\n",
    "print(dict_1)"
   ]
  },
  {
   "cell_type": "code",
   "execution_count": 27,
   "metadata": {},
   "outputs": [
    {
     "name": "stdout",
     "output_type": "stream",
     "text": [
      "original x_position:20\n",
      "new x_position:22\n"
     ]
    }
   ],
   "source": [
    "##修改字典的值改变字典中另外的值\n",
    "#根据当前速度调整位置\n",
    "alien_0={'x_position':20,'y_position:':0,'speed':'medium'}\n",
    "print('original x_position:'+str(alien_0['x_position']))\n",
    "if alien_0['speed']=='slow':\n",
    "    x_increment=1\n",
    "elif alien_0['speed']=='medium':\n",
    "     x_increment=2\n",
    "elif alien_0['speed']=='fast':\n",
    "    x_increment=3\n",
    "else:\n",
    "    x_increment=0\n",
    "alien_0['x_position']=alien_0['x_position']+x_increment\n",
    "print('new x_position:'+str(alien_0['x_position']))"
   ]
  },
  {
   "cell_type": "code",
   "execution_count": 44,
   "metadata": {},
   "outputs": [
    {
     "name": "stdout",
     "output_type": "stream",
     "text": [
      "{'lansen': 'python', 'lishun': 'C++'}\n"
     ]
    }
   ],
   "source": [
    "favorite_language={'lansen':'python',\n",
    "                   'lishun':'C++'}\n",
    "print(favorite_language)#多行定义字典\n"
   ]
  },
  {
   "cell_type": "markdown",
   "metadata": {},
   "source": [
    "## 字典的遍历"
   ]
  },
  {
   "cell_type": "code",
   "execution_count": 84,
   "metadata": {},
   "outputs": [
    {
     "name": "stdout",
     "output_type": "stream",
     "text": [
      "dict_items([('a', 1), ('b', 2), ('c', 3), ('d', 4)])\n",
      "\n",
      "key:a\n",
      "value:1\n",
      "\n",
      "key:b\n",
      "value:2\n",
      "\n",
      "key:c\n",
      "value:3\n",
      "\n",
      "key:d\n",
      "value:4\n",
      "\n",
      "a\n",
      "A\n",
      "\n",
      "b\n",
      "B\n",
      "\n",
      "c\n",
      "C\n",
      "\n",
      "d\n",
      "D\n",
      "\n",
      "\n",
      "a\n",
      "bb\n",
      "c\n",
      "\n",
      "\n",
      "1\n",
      "2\n",
      "3\n"
     ]
    }
   ],
   "source": [
    "##遍历键——值对\n",
    "dict_1={'a':1,'b':2,'c':3,'d':4}\n",
    "print(dict_1.items())\n",
    "for key,value in dict_1.items():\n",
    "    print('\\nkey:'+key)\n",
    "    print('value:'+str(value))\n",
    "##遍历键\n",
    "for key in dict_1.keys():\n",
    "    print('\\n'+key)\n",
    "    print(key.title())#title()方法会把每个单词首字母变成大写\n",
    "##按顺序遍历键\n",
    "dict_2={'bb':2,'c':3,'a':1}\n",
    "print('\\n')\n",
    "for key in sorted(dict_2.keys()):#按首字母大小排序\n",
    "    print(key)\n",
    "##按顺序遍历值\n",
    "print('\\n')\n",
    "for value in sorted(dict_2.values()):\n",
    "   \n",
    "    print(value)"
   ]
  },
  {
   "cell_type": "code",
   "execution_count": 76,
   "metadata": {},
   "outputs": [
    {
     "name": "stdout",
     "output_type": "stream",
     "text": [
      "lansen\n",
      "name\n",
      "[1, 2, 3]\n"
     ]
    }
   ],
   "source": [
    "print('lansen\\nname')\n",
    "print(sorted([2,1,3]))#排序函数\n",
    "a=[2,1,3]"
   ]
  },
  {
   "cell_type": "markdown",
   "metadata": {},
   "source": [
    "## 嵌套"
   ]
  },
  {
   "cell_type": "code",
   "execution_count": 97,
   "metadata": {},
   "outputs": [
    {
     "name": "stdout",
     "output_type": "stream",
     "text": [
      "[{'color': 'red', 'size': 1, 'style': 'cat'}, {'color': 'green', 'size': 2, 'style': 'dog'}, {'color': 'yellow', 'size': 3, 'style': 'dragon'}]\n",
      "{'color': 'red', 'size': 1, 'style': 'cat'}\n",
      "{'color': 'green', 'size': 2, 'style': 'dog'}\n",
      "{'color': 'yellow', 'size': 3, 'style': 'dragon'}\n",
      "\n",
      "\n",
      "{'color': 'yellow', 'speed': 1, 'point': 1}\n",
      "\n",
      "\n",
      "{'color': 'red', 'speed': 2, 'point': 2}\n",
      "\n",
      "\n",
      "{'color': 'red', 'speed': 2, 'point': 2}\n",
      "\n",
      "\n",
      "{'color': 'yellow', 'speed': 1, 'point': 1}\n",
      "\n",
      "\n",
      "{'color': 'yellow', 'speed': 1, 'point': 1}\n"
     ]
    }
   ],
   "source": [
    "##把字典存储在列表中\n",
    "alien_0={'color':'red','size':1,'style':'cat'}\n",
    "alien_1={'color':'green','size':2,'style':'dog'}\n",
    "alien_2={'color':'yellow','size':3,'style':'dragon'}\n",
    "aliens=[alien_0,alien_1,alien_2]\n",
    "print(aliens)\n",
    "for alien in aliens:\n",
    "    print(alien)\n",
    "##外星人没有数量限制\n",
    "#创建外星人\n",
    "aliens=[]\n",
    "for i in range(0,30):\n",
    "    new_alien={'color':'yellow','speed':1,'point':1}\n",
    "    aliens.append(new_alien)\n",
    "for alien in aliens[1:3]:#字典在列表中遍历\n",
    "    if alien['color']=='yellow':\n",
    "        alien['color']='red'\n",
    "        alien['speed']=2\n",
    "        alien['point']=2\n",
    "for alien in aliens[:5]:\n",
    "    print('\\n')\n",
    "    print(alien)"
   ]
  },
  {
   "cell_type": "code",
   "execution_count": 110,
   "metadata": {},
   "outputs": [
    {
     "name": "stdout",
     "output_type": "stream",
     "text": [
      "{'lansen': ['c++', 'pyhton'], 'lishun': ['python']}\n",
      "\n",
      " lansen\n",
      "['c++', 'pyhton']\n",
      "\n",
      " lishun\n",
      "['python']\n",
      "\n",
      " dict_1\n",
      "{'a': 1, 'b': 2, 'c': 3}\n",
      "\n",
      " dict_2\n",
      "{'a': 2, 'b': 3, 'c': 4}\n"
     ]
    }
   ],
   "source": [
    "##把列表存在字典中\n",
    "favorite_languages={'lansen':['c++','pyhton'],\n",
    "                      'lishun':['python']}\n",
    "print(favorite_languages)\n",
    "#对字典的键值对，键，值遍历\n",
    "for key,value in favorite_languages.items():\n",
    "    print('\\n',key)\n",
    "    print(value)\n",
    "##把字典存在字典中\n",
    "dict_3={'dict_1':{'a':1,'b':2,'c':3},'dict_2':{'a':2,'b':3,'c':4}}\n",
    "for key,value in dict_3.items():\n",
    "    print('\\n',key)\n",
    "    print(value)"
   ]
  },
  {
   "cell_type": "markdown",
   "metadata": {},
   "source": [
    "## 元组"
   ]
  },
  {
   "cell_type": "code",
   "execution_count": 143,
   "metadata": {},
   "outputs": [
    {
     "name": "stdout",
     "output_type": "stream",
     "text": [
      "[[1 2 3]\n",
      " [2 3 4]]\n",
      "(2, 3)\n",
      "<class 'numpy.ndarray'>\n",
      "<class 'tuple'>\n",
      "200\n",
      "\n",
      " 200\n",
      "\n",
      " 3\n",
      "\n",
      " 1\n"
     ]
    }
   ],
   "source": [
    "##定义\n",
    "#定义一个矩阵\n",
    "import numpy as np\n",
    "a=np.array([[1,2,3],[2,3,4]])\n",
    "print(a)\n",
    "print(a.shape)\n",
    "print(type(a))\n",
    "#定义一个元组\n",
    "dimensions=(200,3,1)\n",
    "print(type(dimensions))\n",
    "#访问与列表相同\n",
    "print(dimensions[0])\n",
    "#不可修改\n",
    "#dimensions[0]=1#\n",
    "#遍历\n",
    "for i in dimensions:\n",
    "    print('\\n',i)"
   ]
  },
  {
   "cell_type": "code",
   "execution_count": null,
   "metadata": {},
   "outputs": [],
   "source": []
  },
  {
   "cell_type": "code",
   "execution_count": null,
   "metadata": {},
   "outputs": [],
   "source": []
  }
 ],
 "metadata": {
  "kernelspec": {
   "display_name": "Python 3",
   "language": "python",
   "name": "python3"
  },
  "language_info": {
   "codemirror_mode": {
    "name": "ipython",
    "version": 3
   },
   "file_extension": ".py",
   "mimetype": "text/x-python",
   "name": "python",
   "nbconvert_exporter": "python",
   "pygments_lexer": "ipython3",
   "version": "3.7.0"
  }
 },
 "nbformat": 4,
 "nbformat_minor": 2
}
