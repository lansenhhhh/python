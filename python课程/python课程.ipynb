{
 "cells": [
  {
   "cell_type": "markdown",
   "metadata": {},
   "source": [
    "# python学习课程"
   ]
  },
  {
   "cell_type": "code",
   "execution_count": 69,
   "metadata": {},
   "outputs": [
    {
     "name": "stdout",
     "output_type": "stream",
     "text": [
      "\n",
      "hello \n"
     ]
    }
   ],
   "source": [
    "name=input()\n",
    "print('hello',name)"
   ]
  },
  {
   "cell_type": "code",
   "execution_count": 70,
   "metadata": {},
   "outputs": [
    {
     "name": "stdout",
     "output_type": "stream",
     "text": [
      "\n"
     ]
    },
    {
     "data": {
      "text/plain": [
       "''"
      ]
     },
     "execution_count": 70,
     "metadata": {},
     "output_type": "execute_result"
    }
   ],
   "source": [
    "input()"
   ]
  },
  {
   "cell_type": "code",
   "execution_count": 71,
   "metadata": {},
   "outputs": [
    {
     "data": {
      "text/plain": [
       "1.5"
      ]
     },
     "execution_count": 71,
     "metadata": {},
     "output_type": "execute_result"
    }
   ],
   "source": [
    "(3/2)\n"
   ]
  },
  {
   "cell_type": "code",
   "execution_count": 72,
   "metadata": {},
   "outputs": [
    {
     "name": "stdout",
     "output_type": "stream",
     "text": [
      "I'm ok\n"
     ]
    }
   ],
   "source": [
    "print(\"I'm ok\")"
   ]
  },
  {
   "cell_type": "code",
   "execution_count": 73,
   "metadata": {},
   "outputs": [
    {
     "name": "stdout",
     "output_type": "stream",
     "text": [
      "i'm ok\n",
      "i\\ok\n",
      "i'm \"ok\"\n",
      "\\\n",
      "\\\\\n",
      "\\\\\\t\\\\n\n",
      "  \\\t\\\t\\\n",
      "\\\\\n",
      "a\n",
      "b\n",
      "\n",
      "...a\n",
      "...b\n",
      "a\n",
      "... b\n",
      "... c\n"
     ]
    }
   ],
   "source": [
    "print('i\\'m ok')#转义\n",
    "print('i\\\\ok')#对自身转义\n",
    "print('i\\'m \\\"ok\\\"')\n",
    "print('\\\\\\n\\\\\\\\')#对同一斜杠，只能作为转义或被转义\n",
    "print(r'\\\\\\t\\\\n')#r'',''内部不转义,内部不能有空格\n",
    "print('  \\\\\\t\\\\\\t\\\\')\n",
    "print(r'\\\\')\n",
    "print('''a\n",
    "b''')#'''...'''表示多行内容\n",
    "print('''\n",
    "...a\n",
    "...b''')\n",
    "print('''a\n",
    "... b\n",
    "... c''')"
   ]
  },
  {
   "cell_type": "code",
   "execution_count": 74,
   "metadata": {},
   "outputs": [
    {
     "name": "stdout",
     "output_type": "stream",
     "text": [
      "a\n",
      " b\n",
      "c\n"
     ]
    }
   ],
   "source": [
    "print('''a\n",
    "...  b\n",
    "... c''')#交互式命令行...与字符串有间隔并且对其行首不会显示..."
   ]
  },
  {
   "cell_type": "code",
   "execution_count": 75,
   "metadata": {},
   "outputs": [
    {
     "name": "stdout",
     "output_type": "stream",
     "text": [
      "a\\n\n",
      "b\n"
     ]
    }
   ],
   "source": [
    "print(r'''a\\n\n",
    "b''')#\\n不会被转义"
   ]
  },
  {
   "cell_type": "markdown",
   "metadata": {},
   "source": [
    "## 布尔值"
   ]
  },
  {
   "cell_type": "code",
   "execution_count": 76,
   "metadata": {},
   "outputs": [
    {
     "name": "stdout",
     "output_type": "stream",
     "text": [
      "True\n",
      "False\n"
     ]
    },
    {
     "data": {
      "text/plain": [
       "False"
      ]
     },
     "execution_count": 76,
     "metadata": {},
     "output_type": "execute_result"
    }
   ],
   "source": [
    "print(True)\n",
    "print(False)\n",
    "3>2\n",
    "True and False\n",
    "True or False\n",
    "not True\n"
   ]
  },
  {
   "cell_type": "code",
   "execution_count": 77,
   "metadata": {},
   "outputs": [
    {
     "name": "stdout",
     "output_type": "stream",
     "text": [
      "如何定义一个常量让其不可被更改？\n",
      "3.3333333333333335\n",
      "5.0\n",
      "3\n",
      "1.0\n",
      "0.819999999999999\n"
     ]
    }
   ],
   "source": [
    "a='asd'#创建了一个变量a,创建一个字符串，并把a指向'asd'\n",
    "print('如何定义一个常量让其不可被更改？')\n",
    "print(10/3)#精确到小数后16位，这种除法保留的是浮点数\n",
    "print(10/2)\n",
    "print(10//3)#地板除法,整数相除为整数\n",
    "print(5.22//4.0)#只有整数,除不尽也是整数,最多保留一位小数0\n",
    "print(10.12%3.1)#取余数,不一定是整数"
   ]
  },
  {
   "cell_type": "code",
   "execution_count": 78,
   "metadata": {},
   "outputs": [
    {
     "name": "stdout",
     "output_type": "stream",
     "text": [
      "hello,\\'Adam\\'\n",
      "123456\n",
      "579\n"
     ]
    }
   ],
   "source": [
    "print(r'hello,\\'Adam\\'')\n",
    "a=123;\n",
    "b='456'\n",
    "c=str(a)+b\n",
    "d=a+int(b)\n",
    "print(c)\n",
    "print(d)"
   ]
  },
  {
   "cell_type": "markdown",
   "metadata": {},
   "source": [
    "## 编码"
   ]
  },
  {
   "cell_type": "code",
   "execution_count": 79,
   "metadata": {},
   "outputs": [
    {
     "name": "stdout",
     "output_type": "stream",
     "text": [
      "65\n",
      "z\n"
     ]
    }
   ],
   "source": [
    "print(ord('A'))\n",
    "print(chr(122))"
   ]
  },
  {
   "cell_type": "code",
   "execution_count": 80,
   "metadata": {},
   "outputs": [
    {
     "name": "stdout",
     "output_type": "stream",
     "text": [
      "b'asd'\n",
      "b'ASD'\n",
      "b'\\xe4\\xb8\\xad\\xe6\\x96\\x87'\n"
     ]
    }
   ],
   "source": [
    "x=b'asd'#以字节为单位的编码，bytes,两种可以通过encode（）转化\n",
    "y='asd'#str\n",
    "print(x)\n",
    "print('ASD'.encode('ascii'))\n",
    "print('中文'.encode('utf-8'))#三个字节"
   ]
  },
  {
   "cell_type": "code",
   "execution_count": 81,
   "metadata": {},
   "outputs": [
    {
     "name": "stdout",
     "output_type": "stream",
     "text": [
      "3\n",
      "6\n"
     ]
    }
   ],
   "source": [
    "len('asd')#计算字符数\n",
    "print(len(b'asd'))#str转换为bytes\n",
    "print(len('中文'.encode('utf-8')))#6个字节\n"
   ]
  },
  {
   "cell_type": "markdown",
   "metadata": {},
   "source": [
    "## 格式化"
   ]
  },
  {
   "cell_type": "code",
   "execution_count": 82,
   "metadata": {},
   "outputs": [
    {
     "name": "stdout",
     "output_type": "stream",
     "text": [
      "hello,100,i'm lansen\n",
      "3.11\n",
      "the value is 7 %\n",
      "xiaoming has 100.00 dollars\n"
     ]
    }
   ],
   "source": [
    "print('hello,%d,i\\'m %s'%(100,'lansen'))#%d,%f,%s,%x\n",
    "print('%.2f'%(3.1123))\n",
    "print('the value is %d %%'%(7))#转义自身\n",
    "print('{0} has {1:.2f} dollars'.format('xiaoming',100.000))#冒号"
   ]
  },
  {
   "cell_type": "markdown",
   "metadata": {},
   "source": [
    "## 列表"
   ]
  },
  {
   "cell_type": "code",
   "execution_count": 83,
   "metadata": {},
   "outputs": [
    {
     "name": "stdout",
     "output_type": "stream",
     "text": [
      "['a', 'b', 'c', 'd']\n",
      "['a', 'e', 'b', 'c', 'd']\n",
      "['a', 'b', 'c', 'd']\n",
      "[['a', 'b', 'c', 'd'], True, 12]\n",
      "3\n"
     ]
    }
   ],
   "source": [
    "a_list=['a','b','c']\n",
    "a_list[0]\n",
    "a_list[-1]\n",
    "a_list.append('d')\n",
    "print(a_list)\n",
    "a_list.insert(1,'e')\n",
    "print(a_list)\n",
    "a_list.pop(1)#删除的是索引不是元素\n",
    "print(a_list)\n",
    "b_list=[a_list,True,12]\n",
    "print(b_list)\n",
    "print(len(b_list))"
   ]
  },
  {
   "cell_type": "markdown",
   "metadata": {},
   "source": [
    "## tuple元组"
   ]
  },
  {
   "cell_type": "code",
   "execution_count": 84,
   "metadata": {},
   "outputs": [
    {
     "name": "stdout",
     "output_type": "stream",
     "text": [
      "(1,)\n",
      "('a', 'b', ['x', 'y'])\n",
      "[[1, 2], [1, 2, 3]]\n"
     ]
    }
   ],
   "source": [
    "a=('a,b,c,d')\n",
    "#a.append('asd')#元组不可被更改\n",
    "b=(1,)#只有一个元素的元组,不能不加括号\n",
    "print(b)\n",
    "#元组里面有列表\n",
    "a=('a','b',['c','d'])\n",
    "a[2][0]='x'\n",
    "a[2][1]='y'\n",
    "print(a)\n",
    "c=[[1,2],[1,2,3]]\n",
    "print(c)"
   ]
  },
  {
   "cell_type": "markdown",
   "metadata": {},
   "source": [
    "## dict字典"
   ]
  },
  {
   "cell_type": "code",
   "execution_count": 85,
   "metadata": {},
   "outputs": [
    {
     "name": "stdout",
     "output_type": "stream",
     "text": [
      "2\n",
      "True\n",
      "False\n",
      "{25: 'zxc', 24: 'ghj'}\n"
     ]
    }
   ],
   "source": [
    "a={'asd':23,25:'zxc',24:'ghj'}\n",
    "a['asd']#冒号前的作为我们的索引\n",
    "a['asd']=2\n",
    "print(a['asd'])#key-value查找\n",
    "print('asd' in a)\n",
    "print('as' in a)\n",
    "a.get('asd')#get()方式通过key来获取value\n",
    "a.pop('asd')#key是不可变对象,list可变，不能作为key\n",
    "#b={[1,2]:3},错误\n",
    "print(a) \n",
    "c={2:3,2:'4'}#可以有重复的key"
   ]
  },
  {
   "cell_type": "markdown",
   "metadata": {},
   "source": [
    "## set()是key的集合，不存储value"
   ]
  },
  {
   "cell_type": "code",
   "execution_count": 86,
   "metadata": {},
   "outputs": [
    {
     "name": "stdout",
     "output_type": "stream",
     "text": [
      "{0, 1, 2, -1}\n",
      "{0, 2, -1}\n",
      "{0, 2}\n",
      "{0, 1, 2, -1}\n"
     ]
    }
   ],
   "source": [
    "a=set([1,-1,0,1,1])#相同的元素不显示，不一定有序,无序无重复，可看做集合,可以做交并集运算\n",
    "a.add(2)\n",
    "print(a)\n",
    "a.remove(1)\n",
    "print(a)\n",
    "b=set([0,1,2])\n",
    "print(a&b)\n",
    "print(a|b)\n",
    "\n"
   ]
  },
  {
   "cell_type": "code",
   "execution_count": 87,
   "metadata": {},
   "outputs": [
    {
     "name": "stdout",
     "output_type": "stream",
     "text": [
      "None\n"
     ]
    },
    {
     "data": {
      "text/plain": [
       "'Asd'"
      ]
     },
     "execution_count": 87,
     "metadata": {},
     "output_type": "execute_result"
    }
   ],
   "source": [
    "a=[2,1,3]#可变对象\n",
    "a=a.sort()\n",
    "print(a)\n",
    "a='asd'#str不可变对象\n",
    "a.replace('a','A')#没有改变'asd,只是创建了新对象'Asd'"
   ]
  },
  {
   "cell_type": "markdown",
   "metadata": {},
   "source": [
    "## 函数"
   ]
  },
  {
   "cell_type": "code",
   "execution_count": 88,
   "metadata": {},
   "outputs": [
    {
     "name": "stdout",
     "output_type": "stream",
     "text": [
      "12\n",
      "True\n"
     ]
    }
   ],
   "source": [
    "a=(1,2,3)\n",
    "min(a)\n",
    "print(int('12'))\n",
    "print(bool('as'))#字符串，数字都是True,其他符号为False,如'',[],0,None\n"
   ]
  },
  {
   "cell_type": "code",
   "execution_count": 89,
   "metadata": {},
   "outputs": [
    {
     "data": {
      "text/plain": [
       "['END']"
      ]
     },
     "execution_count": 89,
     "metadata": {},
     "output_type": "execute_result"
    }
   ],
   "source": [
    "def a_ADD(x=None):\n",
    "    if x is None:#没有参数\n",
    "        x=[]\n",
    "    x.append('END')\n",
    "    return x\n",
    "a_ADD()\n",
    "a_ADD()"
   ]
  },
  {
   "cell_type": "code",
   "execution_count": 90,
   "metadata": {},
   "outputs": [
    {
     "data": {
      "text/plain": [
       "3628800"
      ]
     },
     "execution_count": 90,
     "metadata": {},
     "output_type": "execute_result"
    }
   ],
   "source": [
    "def func(n):\n",
    "    if n==1:\n",
    "        return 1\n",
    "    return n*func(n-1)\n",
    "func(10)"
   ]
  },
  {
   "cell_type": "markdown",
   "metadata": {},
   "source": [
    "## 构造一个递归列表"
   ]
  },
  {
   "cell_type": "code",
   "execution_count": 91,
   "metadata": {},
   "outputs": [
    {
     "name": "stdout",
     "output_type": "stream",
     "text": [
      "[1, 2, 3, 4, 5, 6, 7, 8, 9, 10, 11, 12, 13, 14, 15, 16, 17, 18, 19, 20, 21, 22, 23, 24, 25, 26, 27, 28, 29, 30, 31, 32, 33, 34, 35, 36, 37, 38, 39, 40, 41, 42, 43, 44, 45, 46, 47, 48, 49, 50, 51, 52, 53, 54, 55]\n"
     ]
    }
   ],
   "source": [
    "L=[]\n",
    "i=1\n",
    "while i<=55:\n",
    "    L.append(i)\n",
    "    i=i+1\n",
    "   #只有函数才return\n",
    "print(L)"
   ]
  },
  {
   "cell_type": "markdown",
   "metadata": {},
   "source": [
    "## 生成器"
   ]
  },
  {
   "cell_type": "markdown",
   "metadata": {},
   "source": [
    "\n"
   ]
  },
  {
   "cell_type": "code",
   "execution_count": 92,
   "metadata": {},
   "outputs": [
    {
     "name": "stdout",
     "output_type": "stream",
     "text": [
      "0\n",
      "1\n",
      "4\n",
      "9\n",
      "16\n",
      "25\n",
      "36\n",
      "49\n",
      "64\n",
      "81\n"
     ]
    }
   ],
   "source": [
    "import numpy as np\n",
    "a_list=(x*x for x in np.arange(0,10))\n",
    "for i in np.arange(0,10):\n",
    "    print(next(a_list))\n",
    "    "
   ]
  },
  {
   "cell_type": "markdown",
   "metadata": {},
   "source": [
    "## 高阶函数"
   ]
  },
  {
   "cell_type": "code",
   "execution_count": 93,
   "metadata": {},
   "outputs": [
    {
     "name": "stdout",
     "output_type": "stream",
     "text": [
      "5\n"
     ]
    }
   ],
   "source": [
    "def func(x,y,f):\n",
    "    return f(x)+f(y)\n",
    "a=1\n",
    "b=2\n",
    "def f(x):\n",
    "    return x*x\n",
    "print(func(1,2,f))\n",
    "r=(map(f,[1,2,3,4]))#生成器对象不可被调用"
   ]
  },
  {
   "cell_type": "code",
   "execution_count": 94,
   "metadata": {},
   "outputs": [
    {
     "data": {
      "text/plain": [
       "6"
      ]
     },
     "execution_count": 94,
     "metadata": {},
     "output_type": "execute_result"
    }
   ],
   "source": [
    "from functools import reduce\n",
    "def f(x,y):\n",
    "    return x+y\n",
    "reduce(f,[1,2,3])#累加器，序列求和"
   ]
  },
  {
   "cell_type": "markdown",
   "metadata": {},
   "source": [
    "## 字符串转数字"
   ]
  },
  {
   "cell_type": "code",
   "execution_count": 95,
   "metadata": {},
   "outputs": [
    {
     "name": "stdout",
     "output_type": "stream",
     "text": [
      "12356\n"
     ]
    }
   ],
   "source": [
    "def str2int(str):\n",
    "    def func(x,y):\n",
    "        return 10*x+y\n",
    "    def char2int(s):\n",
    "        dict={'0':0,'1':1,'2':2,'3':3,'4':4,'5':5,'6':6,'7':7,'8':8,'9':9}#字典花括号\n",
    "        return dict[s]\n",
    "    return reduce(func,map(char2int,str))#map()批量处理\n",
    "print(str2int('12356'))"
   ]
  },
  {
   "cell_type": "code",
   "execution_count": 96,
   "metadata": {},
   "outputs": [
    {
     "data": {
      "text/plain": [
       "<filter at 0x6a7c8d0>"
      ]
     },
     "execution_count": 96,
     "metadata": {},
     "output_type": "execute_result"
    }
   ],
   "source": [
    "def func(x):\n",
    "    return x/2==1#定义一个筛选函数\n",
    "(filter(func,[1,2,4]))"
   ]
  },
  {
   "cell_type": "code",
   "execution_count": 97,
   "metadata": {},
   "outputs": [
    {
     "data": {
      "text/plain": [
       "[1, 2, 3, 4, -9]"
      ]
     },
     "execution_count": 97,
     "metadata": {},
     "output_type": "execute_result"
    }
   ],
   "source": [
    "sorted([1,2,3,4,-9],key=abs)"
   ]
  },
  {
   "cell_type": "code",
   "execution_count": 98,
   "metadata": {},
   "outputs": [
    {
     "ename": "TypeError",
     "evalue": "'generator' object is not callable",
     "output_type": "error",
     "traceback": [
      "\u001b[1;31m---------------------------------------------------------------------------\u001b[0m",
      "\u001b[1;31mTypeError\u001b[0m                                 Traceback (most recent call last)",
      "\u001b[1;32m<ipython-input-98-f7665ee30320>\u001b[0m in \u001b[0;36m<module>\u001b[1;34m()\u001b[0m\n\u001b[1;32m----> 1\u001b[1;33m \u001b[0mlist\u001b[0m\u001b[1;33m(\u001b[0m\u001b[0mmap\u001b[0m\u001b[1;33m(\u001b[0m\u001b[1;32mlambda\u001b[0m \u001b[0mx\u001b[0m\u001b[1;33m:\u001b[0m\u001b[0mx\u001b[0m\u001b[1;33m*\u001b[0m\u001b[0mx\u001b[0m\u001b[1;33m,\u001b[0m\u001b[1;33m[\u001b[0m\u001b[1;36m1\u001b[0m\u001b[1;33m,\u001b[0m\u001b[1;36m2\u001b[0m\u001b[1;33m]\u001b[0m\u001b[1;33m)\u001b[0m\u001b[1;33m)\u001b[0m\u001b[1;33m\u001b[0m\u001b[0m\n\u001b[0m\u001b[0;32m      2\u001b[0m \u001b[0mlist\u001b[0m\u001b[1;33m(\u001b[0m\u001b[1;36m1\u001b[0m\u001b[1;33m,\u001b[0m\u001b[1;36m2\u001b[0m\u001b[1;33m,\u001b[0m\u001b[1;36m3\u001b[0m\u001b[1;33m)\u001b[0m\u001b[1;33m\u001b[0m\u001b[0m\n",
      "\u001b[1;31mTypeError\u001b[0m: 'generator' object is not callable"
     ]
    }
   ],
   "source": [
    "list(map(lambda x:x*x,[1,2]))\n",
    "list(1,2,3)"
   ]
  },
  {
   "cell_type": "code",
   "execution_count": 101,
   "metadata": {},
   "outputs": [
    {
     "ename": "TypeError",
     "evalue": "'generator' object is not callable",
     "output_type": "error",
     "traceback": [
      "\u001b[1;31m---------------------------------------------------------------------------\u001b[0m",
      "\u001b[1;31mTypeError\u001b[0m                                 Traceback (most recent call last)",
      "\u001b[1;32m<ipython-input-101-ebe0a467a2e5>\u001b[0m in \u001b[0;36m<module>\u001b[1;34m()\u001b[0m\n\u001b[1;32m----> 1\u001b[1;33m \u001b[0mlist\u001b[0m\u001b[1;33m(\u001b[0m\u001b[1;33m[\u001b[0m\u001b[1;36m1\u001b[0m\u001b[1;33m,\u001b[0m\u001b[1;36m2\u001b[0m\u001b[1;33m]\u001b[0m\u001b[1;33m)\u001b[0m\u001b[1;33m\u001b[0m\u001b[0m\n\u001b[0m",
      "\u001b[1;31mTypeError\u001b[0m: 'generator' object is not callable"
     ]
    }
   ],
   "source": [
    "list([1,2])\n"
   ]
  },
  {
   "cell_type": "code",
   "execution_count": null,
   "metadata": {},
   "outputs": [],
   "source": []
  },
  {
   "cell_type": "code",
   "execution_count": null,
   "metadata": {},
   "outputs": [],
   "source": []
  }
 ],
 "metadata": {
  "kernelspec": {
   "display_name": "Python 3",
   "language": "python",
   "name": "python3"
  },
  "language_info": {
   "codemirror_mode": {
    "name": "ipython",
    "version": 3
   },
   "file_extension": ".py",
   "mimetype": "text/x-python",
   "name": "python",
   "nbconvert_exporter": "python",
   "pygments_lexer": "ipython3",
   "version": "3.7.0"
  }
 },
 "nbformat": 4,
 "nbformat_minor": 2
}
