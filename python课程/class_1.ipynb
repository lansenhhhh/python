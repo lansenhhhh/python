{
 "cells": [
  {
   "cell_type": "code",
   "execution_count": null,
   "metadata": {},
   "outputs": [],
   "source": [
    "#环境参数的更改"
   ]
  },
  {
   "cell_type": "code",
   "execution_count": 11,
   "metadata": {},
   "outputs": [
    {
     "name": "stdout",
     "output_type": "stream",
     "text": [
      "F:\\机器学习\\python程序\\CNN\n",
      "F:\\机器学习\\python程序\\CNN\n",
      "[[  0   0   0 ... 127  10   0]\n",
      " [  9   5   2 ...  68   0  16]\n",
      " [  0   0   2 ...   5   3   0]\n",
      " ...\n",
      " [  1  66 107 ...   0   0   0]\n",
      " [  7   0  13 ...   0   0   0]\n",
      " [  0   0   0 ...   0   0   0]]\n",
      "4\n",
      "b'\\xb9\\xddc\\x848]'\n",
      "中文\n",
      "い\n",
      "20848\n",
      "b'\\xe4\\xb8\\xad\\xe6\\x96\\x87'\n"
     ]
    }
   ],
   "source": [
    "import os\n",
    "from matplotlib.pyplot import * \n",
    "##获得当前工作目录\n",
    "print(os.getcwd())\n",
    "path='F:\\机器学习\\python程序\\CNN'\n",
    "os.chdir(path)\n",
    "#改变工作目录\n",
    "print(os.getcwd())\n",
    "ir_image=imread('usps_6.jpg')\n",
    "print(ir_image)\n",
    "print(os.cpu_count())\n",
    "str=os.urandom(6)\n",
    "print(str)\n",
    "print('\\u4e2d\\u6587')\n",
    "print(chr(12356))\n",
    "print(ord('兰'))\n",
    "print('中文'.encode('utf_8'))"
   ]
  },
  {
   "cell_type": "code",
   "execution_count": null,
   "metadata": {},
   "outputs": [],
   "source": [
    "#路径设置"
   ]
  },
  {
   "cell_type": "code",
   "execution_count": 19,
   "metadata": {},
   "outputs": [
    {
     "name": "stdout",
     "output_type": "stream",
     "text": [
      "F:\\机器学习\\python程序\\python教程\n"
     ]
    }
   ],
   "source": [
    "path='..\\python教程'\n",
    "#返回绝对路径\n",
    "print(os.path.abspath(path))\n"
   ]
  },
  {
   "cell_type": "code",
   "execution_count": 24,
   "metadata": {},
   "outputs": [
    {
     "name": "stdout",
     "output_type": "stream",
     "text": [
      "2019-09-01 11:19:33.525356\n",
      "2019-09-01\n"
     ]
    }
   ],
   "source": [
    "from datetime import *\n",
    "#datetime是datetime的一个类\n",
    "print(datetime.now())\n",
    "print(date.today())\n"
   ]
  },
  {
   "cell_type": "code",
   "execution_count": 25,
   "metadata": {},
   "outputs": [],
   "source": [
    "#math模块"
   ]
  },
  {
   "cell_type": "code",
   "execution_count": 45,
   "metadata": {},
   "outputs": [
    {
     "name": "stdout",
     "output_type": "stream",
     "text": [
      "3\n",
      "2\n",
      "9.0\n",
      "180.0\n",
      "3.141592653589793\n",
      "7.38905609893065\n",
      "2.0\n",
      "720\n",
      "1.0\n",
      "10.0\n"
     ]
    }
   ],
   "source": [
    "from math import *\n",
    "#取整\n",
    "print(ceil(2.2))\n",
    "print(floor(2.2))\n",
    "print(pow(3,2))\n",
    "#弧度转角度\n",
    "print(degrees(pi))\n",
    "#角度转弧度\n",
    "print(radians(180))\n",
    "print(exp(2))\n",
    "#返回绝对值\n",
    "print(fabs(-2))\n",
    "#取阶乘\n",
    "print(factorial(6))\n",
    "#取余数,返回浮点数\n",
    "print(fmod(19,3))\n",
    "#对迭代器求和\n",
    "print(fsum([1,2,3,4]))\n"
   ]
  },
  {
   "cell_type": "code",
   "execution_count": 3,
   "metadata": {},
   "outputs": [
    {
     "name": "stdout",
     "output_type": "stream",
     "text": [
      "asdasdaa\n",
      "{'a': 4, 's': 2, 'd': 2}\n"
     ]
    }
   ],
   "source": [
    "#统计字符串个数\n",
    "str='absa'\n",
    "str.count('a')\n",
    "str=input()\n",
    "count_str={}#初始空字典\n",
    "for i in str:\n",
    "    count_str[i]=str.count(i)\n",
    "print(count_str)\n",
    "    \n",
    "    "
   ]
  },
  {
   "cell_type": "code",
   "execution_count": 40,
   "metadata": {},
   "outputs": [
    {
     "name": "stdout",
     "output_type": "stream",
     "text": [
      "the file does not exists!\n",
      "['python程序', 'Python编程：从入门到实践.pdf', '三体', '图像处理', '数学建模', '数学竞赛', '机器学习参考书籍', '神经网络', '规划算法']\n",
      "<nt.ScandirIterator object at 0x03C60860>\n",
      "Python编程：从入门到实践.pdf\n"
     ]
    }
   ],
   "source": [
    "#删除文件夹和文件\n",
    "import os\n",
    "path1=r'F:\\热传导\\1.txt'\n",
    "if os.path.exists(path1):\n",
    "    os.remove(path1)\n",
    "else:\n",
    "    print('the file does not exists!')\n",
    "path2=r'F:\\热传导\\1'\n",
    "os.rmdir(path2)\n",
    "#获取工作目录,输出为list,加r表示路径\n",
    "path3=r'F:\\机器学习'\n",
    "print(os.listdir(path3))\n",
    "#使用scandir()读取文件而不是文件夹\n",
    "print(os.scandir())\n",
    "with os.scandir(path3) as f_obj:#生成迭代器\n",
    "    for i in f_obj:\n",
    "        if i.is_file():\n",
    "            print(i.name)\n"
   ]
  },
  {
   "cell_type": "code",
   "execution_count": 56,
   "metadata": {},
   "outputs": [
    {
     "name": "stdout",
     "output_type": "stream",
     "text": [
      "[1, 2, 3]\n",
      "(1, 2, 3)\n"
     ]
    }
   ],
   "source": [
    "#list和tuple强制转换\n",
    "list_1=list([1,2,3])\n",
    "tuple_1=tuple(list_1)\n",
    "print(list_1)\n",
    "print(tuple_1)"
   ]
  },
  {
   "cell_type": "code",
   "execution_count": 57,
   "metadata": {},
   "outputs": [],
   "source": [
    "#注释方式\n",
    "#_*_coding_*_:UTF_8\n",
    "\"\"\"\"\n",
    "注释方式\n",
    "多行注释\"\"\""
   ]
  },
  {
   "cell_type": "code",
   "execution_count": 88,
   "metadata": {},
   "outputs": [
    {
     "name": "stdout",
     "output_type": "stream",
     "text": [
      "<class 'int'>\n",
      "{'b': 'the default is 5', 'c': <class 'int'>, 'return': <class 'float'>}\n",
      "1.5\n",
      "{'a': {'type': <class 'float'>, 'help': 'the dividend'}, 'b': {'type': <class 'float'>, 'help': 'the divisor'}, 'return': {'type': <class 'float'>, 'help': 'the result of dividing  a and b'}}\n",
      "----------\n",
      "5\n"
     ]
    }
   ],
   "source": [
    "#函数注释\n",
    "def def_sum(a,b:'the default is 5',c:int)->float:\n",
    "    return a+b+c\n",
    "sum1=def_sum(1,2,3)\n",
    "print(type(sum1))\n",
    "#访问函数注释,__annotations__为函数注释的属性，通过参数名作为键，注释作为名，建立dict映射\n",
    "print(def_sum.__annotations__)\n",
    "#多行注释\n",
    "def div(a:dict(type=float,help='the dividend'),\n",
    "        b:dict(type=float,help='the divisor'),\n",
    "       )->dict(type=float,help='the result of dividing  a and b'):\n",
    "    return a/b\n",
    "print(div(3,2))\n",
    "print(div.__annotations__)\n",
    "def sum(a,b)->0:\n",
    "    result=a+b\n",
    "    sum.__annotations__['return']+=result\n",
    "    return a+b\n",
    "print('----------')\n",
    "sum1=sum(4,1)\n",
    "print(sum.__annotations__['return'])"
   ]
  },
  {
   "cell_type": "code",
   "execution_count": 108,
   "metadata": {},
   "outputs": [
    {
     "name": "stdout",
     "output_type": "stream",
     "text": [
      "[9 8 7 6 5 4 3 2 1 0]\n",
      "hello wor\n",
      "h\n",
      "e\n",
      "l\n",
      "l\n",
      "o\n",
      " \n",
      "w\n",
      "o\n",
      "r\n",
      "l\n",
      "d\n",
      "dlrow olleh\n"
     ]
    }
   ],
   "source": [
    "#双冒号\n",
    "a=arange(0,10,1)\n",
    "print(a[::-1])\n",
    "str1='hello world'\n",
    "#单冒号\n",
    "print(str1[:-2])\n",
    "'''通过join方法将字符串加入序列'''\n",
    "sequence='hello world'\n",
    "str2='-'\n",
    "str2.join(sequence)\n",
    "'''字符串遍历就相当于列表一样'''\n",
    "for i in sequence:\n",
    "    print(i)\n",
    "print(''.join(sequence[i-1] for i in arange(len(sequence),0,-1)))'''最后一位不显示'''\n"
   ]
  },
  {
   "cell_type": "code",
   "execution_count": 128,
   "metadata": {},
   "outputs": [
    {
     "name": "stdout",
     "output_type": "stream",
     "text": [
      "000.61\n",
      "0004\n",
      "hello world\n",
      " hello world\n",
      "hello world .\n"
     ]
    }
   ],
   "source": [
    "'''python 格式化'''\n",
    "#百分号格式化\n",
    "'''“%格式”%字符'''\n",
    "a=0.612\n",
    "print('%06.2f'%a)#转化为6个字符两个小数的字符串\n",
    "b=4.0\n",
    "print('%04d'%b)#转化为4个字符整型的字符串\n",
    "'''数字表示的是个数，不是每个字符串占多少位'''\n",
    "#字符串空格的删除\n",
    "c=' hello world '\n",
    "print(c.strip())\n",
    "print(c.rstrip())\n",
    "print(c.lstrip()+'.')"
   ]
  },
  {
   "cell_type": "code",
   "execution_count": 144,
   "metadata": {},
   "outputs": [
    {
     "name": "stdout",
     "output_type": "stream",
     "text": [
      "-----通过字典去重-----\n",
      "{1: None, 2: None, 3: None, 4: None}\n",
      "dict_keys([1, 2, 3, 4])\n",
      "[1, 2, 3, 4]\n",
      "-----通过set去重-----\n",
      "{1, 2, 3, 4}\n",
      "[1, 2, 3, 4]\n",
      "-----通过迭代器去重-----\n",
      "[1, 2, 3, 4]\n"
     ]
    }
   ],
   "source": [
    "#list去重\n",
    "'''-----通过字典去重-----'''\n",
    "print('-----通过字典去重-----')\n",
    "a=[1,2,3,4,4,3,2,1]\n",
    "dict_a={}\n",
    "a1=dict_a.fromkeys(a)#输出无重元素为键，none为值的字典\n",
    "print(a1)\n",
    "a2=a1.keys()\n",
    "print(a2)\n",
    "a3=list(a2)\n",
    "print(a3)\n",
    "'''-----通过set去重-----'''\n",
    "print('-----通过set去重-----')\n",
    "set_a=set(a)\n",
    "print(set_a)\n",
    "list_a=list(set_a)\n",
    "print(list_a)\n",
    "'''-----通过迭代器去重-----'''\n",
    "print('-----通过迭代器去重-----')\n",
    "a_temp=[]\n",
    "for aa in a:\n",
    "    if aa not in a_temp:\n",
    "        a_temp.append(aa)\n",
    "print(a_temp)\n"
   ]
  },
  {
   "cell_type": "code",
   "execution_count": 26,
   "metadata": {},
   "outputs": [
    {
     "name": "stdout",
     "output_type": "stream",
     "text": [
      "合并两个列表\n",
      "[1, 2, 3, 4, 5, 6, 7]\n",
      "通过extend增加\n",
      "[1, 2, 3, 4, 5, 6, 7]\n",
      "通过切片添加\n",
      "[1, 2, 3, 4, 5, 6, 7]\n",
      "使用append方法\n",
      "[1, 2, 3, 4, [5, 6, 7]]\n"
     ]
    }
   ],
   "source": [
    "'''合并两个列表'''\n",
    "#通过+号增加\n",
    "list_a=[1,2,3,4]\n",
    "list_b=[5,6,7]\n",
    "list_c=list_a+list_b\n",
    "print('合并两个列表')\n",
    "print(list_c)\n",
    "#通过extend增加\n",
    "print('通过extend增加')\n",
    "list_d=list_a\n",
    "list_d.extend(list_b)\n",
    "print(list_d)\n",
    "#通过切片增加\n",
    "print('通过切片添加')\n",
    "list_a=[1,2,3,4]\n",
    "list_a[len(list_a):len(list_a)]=list_b\n",
    "print(list_a)\n",
    "#使用append()\n",
    "print('使用append方法')\n",
    "list_a=[1,2,3,4]\n",
    "list_a.append(list_b)\n",
    "print(list_a)"
   ]
  },
  {
   "cell_type": "code",
   "execution_count": 53,
   "metadata": {},
   "outputs": [
    {
     "name": "stdout",
     "output_type": "stream",
     "text": [
      "------map的使用------\n",
      "[1, 4, 9, 16, 25]\n",
      "[2, 4, 6, 8, 10]\n",
      "------extend方法的使用------\n",
      "[1, 2, 3, 4, '5', '6', 'seven', 'eight']\n"
     ]
    }
   ],
   "source": [
    "\n",
    "#map函数：对列表中的每一个元素套用函数\n",
    "print('------map方法的使用------')\n",
    "list_1=[1,2,3,4,5]\n",
    "def square(x):\n",
    "    return x**2\n",
    "a=map(square,list_1)\n",
    "#map转为list\n",
    "print(list(a))\n",
    "#使用匿名函数\n",
    "list_2=[1,2,3,4,5]\n",
    "b=map(lambda x,y:x+y,list_1,list_2)\n",
    "print(list(b))\n",
    "'''a.extend(iterable):\n",
    "可以将可迭代对象中的元素加入a中'''\n",
    "print('------extend方法的使用------')\n",
    "a=[]\n",
    "list_a=[1,2]\n",
    "tuple_a=(3,4)\n",
    "str_a='56'\n",
    "dict_a={7:'seven',8:'eight'}#默认迭代对象是键,通过添加values()方法改为值\n",
    "a.extend(list_a)\n",
    "a.extend(tuple_a)\n",
    "a.extend(str_a)\n",
    "a.extend(dict_a.values())\n",
    "print(a)"
   ]
  },
  {
   "cell_type": "code",
   "execution_count": 79,
   "metadata": {},
   "outputs": [
    {
     "name": "stdout",
     "output_type": "stream",
     "text": [
      "-----sum()方法-----\n",
      "[1, 2, 3, 2, 3, 4]\n",
      "-----双循环结构-----\n",
      "[1, 2, 3, 2, 3, 4]\n"
     ]
    }
   ],
   "source": [
    "'''列表的平铺'''\n",
    "#sum()方法\n",
    "list1=[[1,2,3],[2,3,4]]\n",
    "list2=sum(list1,[])\n",
    "print('-----sum()方法-----')\n",
    "print(list2)\n",
    "#双循环结构\n",
    "print('-----双循环结构-----')\n",
    "list2=[j for i in list1 for j in i]\n",
    "print(list2)\n"
   ]
  },
  {
   "cell_type": "code",
   "execution_count": 115,
   "metadata": {},
   "outputs": [
    {
     "name": "stdout",
     "output_type": "stream",
     "text": [
      "---字符串空格按分割---\n",
      "['hello', 'world']\n",
      "---字符串分割成列表---\n",
      "['h', 'e', 'l', 'l', 'o', ',', 'w', 'o', 'r', 'l', 'd']\n",
      "---字符串按特定元素分割---\n",
      "['hello', 'world']\n",
      "['', '2', '23', '23', '']\n",
      "c\n",
      "xc\n"
     ]
    }
   ],
   "source": [
    "'''分隔字符串生成列表'''\n",
    "str='hello world'\n",
    "print('---字符串空格按分割---')\n",
    "print(str.split())\n",
    "'''把字符串按特定字符分割为列表'''\n",
    "str='hello,world'\n",
    "list_str=list(str)\n",
    "print('---字符串分割成列表---')\n",
    "print(list_str)\n",
    "'''把字符串当成列表\n",
    "   可以对字符串进行操作'''\n",
    "print('---字符串按特定元素分割---')\n",
    "list_str2=str.split(',')\n",
    "print(list_str2)\n",
    "str='121231231'\n",
    "print(str.split('1'))\n",
    "str='asdzxc'\n",
    "#获取最后一个字符\n",
    "print(str[-1])\n",
    "#获取最后两个字符\n",
    "print(str[len(str)-2:])\n"
   ]
  },
  {
   "cell_type": "code",
   "execution_count": 127,
   "metadata": {},
   "outputs": [
    {
     "name": "stdout",
     "output_type": "stream",
     "text": [
      "{'color': 'red', 'point': 5}\n",
      "-------->del删除字典键值对\n",
      "{'point': 5}\n",
      "--->pop删除字典键值对，返回被删除的值\n",
      "red\n",
      "{'point': 5}\n"
     ]
    }
   ],
   "source": [
    "'''字典中的操作'''\n",
    "#以dict函数方式定义字典\n",
    "dict1=dict(color='red',point=5)\n",
    "print(dict1)\n",
    "print('-------->del删除字典键值对')\n",
    "del dict1['color']\n",
    "print(dict1)\n",
    "print('--->pop删除字典键值对，返回被删除的值')\n",
    "dict1=dict(color='red',point=5)\n",
    "print(dict1.pop('color'))\n",
    "print(dict1)"
   ]
  },
  {
   "cell_type": "code",
   "execution_count": 167,
   "metadata": {},
   "outputs": [
    {
     "name": "stdout",
     "output_type": "stream",
     "text": [
      "{'w': 2, 'r': 1, 'c': 3}\n",
      "{'w': 2, 'r': 1, 'c': 3}\n"
     ]
    }
   ],
   "source": [
    "'''元组合并成字典'''\n",
    "print('-------->通过生成器合并成字典')\n",
    "tuplex=(('w',2),('r',1),('c',3))\n",
    "print(dict((x,y) for x,y in tuplex))\n",
    "print('-------->先转换成list_tuple,再使用dict')\n",
    "list_tuplex=list(tuplex)\n",
    "print(dict(list(list_tuplex)))"
   ]
  },
  {
   "cell_type": "code",
   "execution_count": 170,
   "metadata": {},
   "outputs": [
    {
     "name": "stdout",
     "output_type": "stream",
     "text": [
      "[(1, 2), (2, 3), (3, 4)]\n",
      "--------->原键值对\n",
      "{'color': 'red', 'point': 2}\n",
      "--------->通过zip改变键值对\n",
      "{'red': 'color', 2: 'point'}\n",
      "--------->通过生成器交换键值对\n",
      "{'red': 'color', 2: 'point'}\n"
     ]
    }
   ],
   "source": [
    "'''交换键值对'''\n",
    "#zip函数:将列表对应的元素打包为元组，形成列表，这个列表就是dict函数操作的对象\n",
    "a=[1,2,3]\n",
    "b=[2,3,4]\n",
    "print(list(zip(a,b)))\n",
    "dict1={'color':'red','point':2}\n",
    "print('--------->原键值对')\n",
    "print(dict1)\n",
    "#生成键值列表\n",
    "print('--------->通过zip改变键值对')\n",
    "dict_keys=dict1.keys()\n",
    "dict_values=dict1.values()\n",
    "dict2=dict(list(zip(dict_values,dict_keys)))\n",
    "print(dict2)\n",
    "print('--------->通过生成器交换键值对')\n",
    "dict3=dict((keys,values) for values,keys in dict1.items())#在键值对里面分别对键和值遍历\n",
    "print(dict3)"
   ]
  },
  {
   "cell_type": "code",
   "execution_count": 182,
   "metadata": {},
   "outputs": [
    {
     "name": "stdout",
     "output_type": "stream",
     "text": [
      "('color', 'point')\n",
      "['color', 'point']\n",
      "['h', 'e', 'l', 'l', 'o', ' ', 'w', 'o', 'r', 'l', 'd']\n",
      "('h', 'e', 'l', 'l', 'o', ' ', 'w', 'o', 'r', 'l', 'd')\n",
      "------->eval函数把字符串转为其他类型\n",
      "{'color': 'red', 'point': 3}\n",
      "------->列表转为其他类型\n",
      "(1, 2, 3, 4, 5)\n"
     ]
    }
   ],
   "source": [
    "'''字典转换其他数据类型'''\n",
    "dict1={'color':'red','point':3}\n",
    "print(tuple(dict1))#默认为键\n",
    "print(list(dict1))\n",
    "'''str转化为其他数据类型'''\n",
    "str1='hello world'\n",
    "print(list(str1))\n",
    "print(tuple(str1))\n",
    "#eval可以把双引号去掉\n",
    "print('------->eval函数把字符串转为其他类型')\n",
    "str2=\"{'color':'red','point':3}\"\n",
    "print(eval(str2))\n",
    "print('------->列表转为其他类型')\n",
    "list1=[1,2,3,4,5]\n",
    "print(tuple(list1))"
   ]
  },
  {
   "cell_type": "code",
   "execution_count": 188,
   "metadata": {},
   "outputs": [
    {
     "name": "stdout",
     "output_type": "stream",
     "text": [
      "[3, 4, 1, 2]\n"
     ]
    }
   ],
   "source": [
    "'''随机打乱列表元素'''\n",
    "import random\n",
    "a=[1,2,3,4]\n",
    "random.shuffle(a)\n",
    "print(a)"
   ]
  },
  {
   "cell_type": "code",
   "execution_count": 196,
   "metadata": {},
   "outputs": [
    {
     "name": "stdout",
     "output_type": "stream",
     "text": [
      "---->迭代器\n",
      "[1, 4, 9, 16]\n",
      "---->生成器\n",
      "<generator object <genexpr> at 0x00DCE5F0>\n",
      "1\n",
      "4\n",
      "9\n",
      "16\n"
     ]
    }
   ],
   "source": [
    "'''迭代器'''\n",
    "list1=[1,2,3,4]\n",
    "a=[x**2 for x in list1]\n",
    "print('---->迭代器')\n",
    "print(a)\n",
    "'''生成器'''\n",
    "b=(x**2 for x in list1)\n",
    "print('---->生成器')\n",
    "print(b)\n",
    "for i in b:\n",
    "    print(i)"
   ]
  },
  {
   "cell_type": "code",
   "execution_count": null,
   "metadata": {},
   "outputs": [],
   "source": []
  }
 ],
 "metadata": {
  "kernelspec": {
   "display_name": "my_NLP",
   "language": "python",
   "name": "my_nlp"
  },
  "language_info": {
   "codemirror_mode": {
    "name": "ipython",
    "version": 3
   },
   "file_extension": ".py",
   "mimetype": "text/x-python",
   "name": "python",
   "nbconvert_exporter": "python",
   "pygments_lexer": "ipython3",
   "version": "3.7.0"
  }
 },
 "nbformat": 4,
 "nbformat_minor": 2
}
