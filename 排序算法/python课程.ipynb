{
 "cells": [
  {
   "cell_type": "code",
   "execution_count": null,
   "metadata": {},
   "outputs": [],
   "source": []
  },
  {
   "cell_type": "code",
   "execution_count": 48,
   "metadata": {},
   "outputs": [
    {
     "name": "stdout",
     "output_type": "stream",
     "text": [
      "[1 2 2 3 3 4]\n",
      "(6,)\n",
      "===============\n",
      "[[1 2 2 3 3 4]]\n",
      "[[1 2 3 2 3 4]]\n",
      "(1, 6)\n",
      "(2, 3)\n"
     ]
    }
   ],
   "source": [
    "from numpy import *\n",
    "##对数组对象\n",
    "a=array([[1,2,3],[2,3,4]])\n",
    "a.flatten()\n",
    "a_F=a.flatten('F')\n",
    "a_A=a.flatten('A')\n",
    "print(a_F)\n",
    "print(a_A.shape)\n",
    "##对矩阵对象\n",
    "A=mat([[1,2,3],[2,3,4]])\n",
    "A.flatten()\n",
    "A_1=A.flatten('F')\n",
    "A_2=A.flatten('A')\n",
    "print('===============')\n",
    "print(A_1)\n",
    "print(A_2)\n",
    "print(shape(A_1))\n",
    "print(A.shape)"
   ]
  },
  {
   "cell_type": "code",
   "execution_count": 51,
   "metadata": {},
   "outputs": [
    {
     "data": {
      "text/plain": [
       "'a<b'"
      ]
     },
     "execution_count": 51,
     "metadata": {},
     "output_type": "execute_result"
    }
   ],
   "source": [
    "##三目运算\n",
    "h1='a<b'\n",
    "h2='a>b'\n",
    "a=1\n",
    "b=2\n",
    "h1 if a<b else h2"
   ]
  },
  {
   "cell_type": "code",
   "execution_count": 69,
   "metadata": {},
   "outputs": [
    {
     "name": "stdout",
     "output_type": "stream",
     "text": [
      "2\n",
      "3\n",
      "6\n",
      "(2, 3)\n",
      "(2, 3)\n",
      "========\n"
     ]
    },
    {
     "ename": "AttributeError",
     "evalue": "'list' object has no attribute 'size'",
     "output_type": "error",
     "traceback": [
      "\u001b[1;31m---------------------------------------------------------------------------\u001b[0m",
      "\u001b[1;31mAttributeError\u001b[0m                            Traceback (most recent call last)",
      "\u001b[1;32m<ipython-input-69-0aae57876a55>\u001b[0m in \u001b[0;36m<module>\u001b[1;34m()\u001b[0m\n\u001b[0;32m      8\u001b[0m \u001b[0mprint\u001b[0m\u001b[1;33m(\u001b[0m\u001b[1;34m'========'\u001b[0m\u001b[1;33m)\u001b[0m\u001b[1;33m\u001b[0m\u001b[0m\n\u001b[0;32m      9\u001b[0m \u001b[0mb\u001b[0m\u001b[1;33m=\u001b[0m\u001b[1;33m[\u001b[0m\u001b[1;36m1\u001b[0m\u001b[1;33m,\u001b[0m\u001b[1;36m2\u001b[0m\u001b[1;33m,\u001b[0m\u001b[1;36m3\u001b[0m\u001b[1;33m]\u001b[0m\u001b[1;33m\u001b[0m\u001b[0m\n\u001b[1;32m---> 10\u001b[1;33m \u001b[0mprint\u001b[0m\u001b[1;33m(\u001b[0m\u001b[0mb\u001b[0m\u001b[1;33m.\u001b[0m\u001b[0msize\u001b[0m\u001b[1;33m)\u001b[0m\u001b[1;33m\u001b[0m\u001b[0m\n\u001b[0m",
      "\u001b[1;31mAttributeError\u001b[0m: 'list' object has no attribute 'size'"
     ]
    }
   ],
   "source": [
    "a=mat([[1,2,3],[2,3,4]])\n",
    "print(size(a,0))\n",
    "print(size(a,1))\n",
    "print(size(a))\n",
    "len(a)\n",
    "print(a.shape)\n",
    "print(shape(a))\n",
    "print('========')\n",
    "b=[1,2,3]\n",
    "#print(b.size)\n",
    "#print(b.shape)\n",
    "##对于list对象没有size和shape属性"
   ]
  },
  {
   "cell_type": "code",
   "execution_count": null,
   "metadata": {},
   "outputs": [],
   "source": []
  },
  {
   "cell_type": "code",
   "execution_count": null,
   "metadata": {},
   "outputs": [],
   "source": []
  }
 ],
 "metadata": {
  "kernelspec": {
   "display_name": "my_NLP",
   "language": "python",
   "name": "my_nlp"
  },
  "language_info": {
   "codemirror_mode": {
    "name": "ipython",
    "version": 3
   },
   "file_extension": ".py",
   "mimetype": "text/x-python",
   "name": "python",
   "nbconvert_exporter": "python",
   "pygments_lexer": "ipython3",
   "version": "3.7.0"
  }
 },
 "nbformat": 4,
 "nbformat_minor": 2
}
